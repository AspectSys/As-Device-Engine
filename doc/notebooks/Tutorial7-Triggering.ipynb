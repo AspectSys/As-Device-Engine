{
 "cells": [
  {
   "cell_type": "markdown",
   "id": "c91dc1a0-913f-418c-8490-339e69b657e0",
   "metadata": {},
   "source": [
    "# Part 7: Triggering"
   ]
  },
  {
   "cell_type": "markdown",
   "id": "201fe7e4-eb1d-4fe9-bd80-018f6b01af0a",
   "metadata": {},
   "source": [
    "This is the 7th introductory overview of programming the Aspect Device Engine Python API.  \n",
    "This document is available as pdf and interactive jupyter notebook.\n",
    "The introduction includes the following objectives:\n",
    "\n",
    "**TODO**"
   ]
  },
  {
   "cell_type": "code",
   "execution_count": 18,
   "id": "076d7619-5844-4119-ab65-244883b6237c",
   "metadata": {},
   "outputs": [],
   "source": [
    "srunner.shutdown()"
   ]
  }
 ],
 "metadata": {
  "kernelspec": {
   "display_name": "Python 3 (ipykernel)",
   "language": "python",
   "name": "python3"
  },
  "language_info": {
   "codemirror_mode": {
    "name": "ipython",
    "version": 3
   },
   "file_extension": ".py",
   "mimetype": "text/x-python",
   "name": "python",
   "nbconvert_exporter": "python",
   "pygments_lexer": "ipython3",
   "version": "3.9.13"
  }
 },
 "nbformat": 4,
 "nbformat_minor": 5
}
