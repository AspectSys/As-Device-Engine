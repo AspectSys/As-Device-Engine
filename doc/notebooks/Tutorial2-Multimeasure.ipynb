{
 "cells": [
  {
   "cell_type": "markdown",
   "id": "c91dc1a0-913f-418c-8490-339e69b657e0",
   "metadata": {},
   "source": [
    "# Part 2: More about channel measurements"
   ]
  },
  {
   "cell_type": "markdown",
   "id": "201fe7e4-eb1d-4fe9-bd80-018f6b01af0a",
   "metadata": {},
   "source": [
    "This is the second introductory overview of programming the Aspect Device Engine Python API.  \n",
    "This document is available as pdf and interactive jupyter notebook.\n",
    "The introduction includes the following objectives:\n",
    "- Get familiar with multiple measurements at multiple channels\n",
    "\n",
    "---"
   ]
  },
  {
   "cell_type": "code",
   "execution_count": 1,
   "id": "c6360e48-e39e-4756-b7aa-1c7ef460401c",
   "metadata": {},
   "outputs": [],
   "source": [
    "from aspectdeviceengine.enginecore import IdSmuService, IdSmuServiceRunner, IdSmuBoardModel\n",
    "import plotly.graph_objects as go\n",
    "import numpy as np\n",
    "srunner = IdSmuServiceRunner()"
   ]
  },
  {
   "cell_type": "code",
   "execution_count": 2,
   "id": "15d734a2-90fd-482a-a270-0e43b8a5dc0a",
   "metadata": {},
   "outputs": [
    {
     "name": "stdout",
     "output_type": "stream",
     "text": [
      "<aspectdeviceengine.enginecore.AD5522ChannelModel object at 0x00000290455AB8B0>\n"
     ]
    }
   ],
   "source": [
    "mbX1 : IdSmuBoardModel = srunner.get_idsmu_service().get_first_board()\n",
    "\n",
    "channel1 = mbX1.idSmu2Modules['M1.S1'].smu.channels[\"M1.S1.C1\"]\n",
    "channel2 = mbX1.idSmu2Modules['M1.S1'].smu.channels[\"M1.S1.C2\"]\n",
    "channel3 = mbX1.idSmu2Modules['M1.S1'].smu.channels[\"M1.S1.C3\"]\n",
    "channel4 = mbX1.idSmu2Modules['M1.S1'].smu.channels[\"M1.S1.C4\"]\n",
    "print(channel1)"
   ]
  },
  {
   "cell_type": "markdown",
   "id": "f02d8ad9-57fd-4d9a-a82c-59c198eb1650",
   "metadata": {},
   "source": [
    "## Repeated measurements\n",
    "\n",
    "While measurements can be repeated in the software, e.g. in a loop, as shown in the previous sections, the measurements can also be repeated directly on the hardware.  \n",
    "This has the advantage that the code is much more compact and that the measurements run much faster.  \n",
    "The **measure_voltages()** method takes one parameter: the number of repetitions for the measurement."
   ]
  },
  {
   "cell_type": "code",
   "execution_count": 3,
   "id": "d816e303-e2ba-41e2-993f-ec1f563a6312",
   "metadata": {},
   "outputs": [
    {
     "name": "stdout",
     "output_type": "stream",
     "text": [
      "[1.138671875, 1.138671875, 1.138336181640625, 1.138336181640625, 1.138336181640625, 1.138336181640625, 1.137664794921875, 1.138336181640625, 1.137664794921875]\n"
     ]
    }
   ],
   "source": [
    "channel1.enabled = True\n",
    "channel1.voltage = 1.14\n",
    "number_of_measurements = 50\n",
    "voltages_ch1 = channel1.measure_voltages(number_of_measurements)\n",
    "print(voltages_ch1[1:10])"
   ]
  },
  {
   "cell_type": "markdown",
   "id": "85f6cadc-f6cc-46e7-836f-466213ac7681",
   "metadata": {},
   "source": [
    "**Repeat executing** the next cell (Ctrl+Enter) and you will see how the below plot updates.  \n",
    "The plot stays close to 1.4V. \n",
    "Only the usual very small fluctuations due to noise can be seen."
   ]
  },
  {
   "cell_type": "code",
   "execution_count": 7,
   "id": "44451f65-f032-46ba-9d7a-b51cab5ec28c",
   "metadata": {},
   "outputs": [
    {
     "data": {
      "application/vnd.plotly.v1+json": {
       "config": {
        "plotlyServerURL": "https://plot.ly"
       },
       "data": [
        {
         "mode": "lines+markers",
         "name": "voltages_ch1",
         "type": "scatter",
         "x": [
          0,
          1.0204081632653061,
          2.0408163265306123,
          3.0612244897959187,
          4.081632653061225,
          5.1020408163265305,
          6.122448979591837,
          7.142857142857143,
          8.16326530612245,
          9.183673469387756,
          10.204081632653061,
          11.224489795918368,
          12.244897959183675,
          13.26530612244898,
          14.285714285714286,
          15.306122448979592,
          16.3265306122449,
          17.346938775510203,
          18.367346938775512,
          19.387755102040817,
          20.408163265306122,
          21.42857142857143,
          22.448979591836736,
          23.46938775510204,
          24.48979591836735,
          25.510204081632654,
          26.53061224489796,
          27.551020408163264,
          28.571428571428573,
          29.591836734693878,
          30.612244897959183,
          31.63265306122449,
          32.6530612244898,
          33.673469387755105,
          34.69387755102041,
          35.714285714285715,
          36.734693877551024,
          37.755102040816325,
          38.775510204081634,
          39.79591836734694,
          40.816326530612244,
          41.83673469387755,
          42.85714285714286,
          43.87755102040816,
          44.89795918367347,
          45.91836734693878,
          46.93877551020408,
          47.95918367346939,
          48.9795918367347,
          50
         ],
         "y": [
          1.138671875,
          1.139007568359375,
          1.138671875,
          1.138336181640625,
          1.138336181640625,
          1.138336181640625,
          1.138671875,
          1.138336181640625,
          1.138336181640625,
          1.138336181640625,
          1.137664794921875,
          1.138336181640625,
          1.138336181640625,
          1.138336181640625,
          1.138336181640625,
          1.138336181640625,
          1.138336181640625,
          1.138336181640625,
          1.138336181640625,
          1.138336181640625,
          1.138336181640625,
          1.137664794921875,
          1.138336181640625,
          1.138336181640625,
          1.138336181640625,
          1.138336181640625,
          1.138336181640625,
          1.138336181640625,
          1.138336181640625,
          1.137664794921875,
          1.137664794921875,
          1.138336181640625,
          1.138336181640625,
          1.138336181640625,
          1.138336181640625,
          1.138336181640625,
          1.138336181640625,
          1.138336181640625,
          1.138336181640625,
          1.138671875,
          1.138336181640625,
          1.138336181640625,
          1.138336181640625,
          1.138336181640625,
          1.138336181640625,
          1.138336181640625,
          1.138336181640625,
          1.137664794921875,
          1.138336181640625,
          1.138336181640625
         ]
        }
       ],
       "layout": {
        "autosize": true,
        "margin": {
         "b": 20,
         "l": 20,
         "r": 20,
         "t": 55
        },
        "template": {
         "data": {
          "bar": [
           {
            "error_x": {
             "color": "#2a3f5f"
            },
            "error_y": {
             "color": "#2a3f5f"
            },
            "marker": {
             "line": {
              "color": "#E5ECF6",
              "width": 0.5
             },
             "pattern": {
              "fillmode": "overlay",
              "size": 10,
              "solidity": 0.2
             }
            },
            "type": "bar"
           }
          ],
          "barpolar": [
           {
            "marker": {
             "line": {
              "color": "#E5ECF6",
              "width": 0.5
             },
             "pattern": {
              "fillmode": "overlay",
              "size": 10,
              "solidity": 0.2
             }
            },
            "type": "barpolar"
           }
          ],
          "carpet": [
           {
            "aaxis": {
             "endlinecolor": "#2a3f5f",
             "gridcolor": "white",
             "linecolor": "white",
             "minorgridcolor": "white",
             "startlinecolor": "#2a3f5f"
            },
            "baxis": {
             "endlinecolor": "#2a3f5f",
             "gridcolor": "white",
             "linecolor": "white",
             "minorgridcolor": "white",
             "startlinecolor": "#2a3f5f"
            },
            "type": "carpet"
           }
          ],
          "choropleth": [
           {
            "colorbar": {
             "outlinewidth": 0,
             "ticks": ""
            },
            "type": "choropleth"
           }
          ],
          "contour": [
           {
            "colorbar": {
             "outlinewidth": 0,
             "ticks": ""
            },
            "colorscale": [
             [
              0,
              "#0d0887"
             ],
             [
              0.1111111111111111,
              "#46039f"
             ],
             [
              0.2222222222222222,
              "#7201a8"
             ],
             [
              0.3333333333333333,
              "#9c179e"
             ],
             [
              0.4444444444444444,
              "#bd3786"
             ],
             [
              0.5555555555555556,
              "#d8576b"
             ],
             [
              0.6666666666666666,
              "#ed7953"
             ],
             [
              0.7777777777777778,
              "#fb9f3a"
             ],
             [
              0.8888888888888888,
              "#fdca26"
             ],
             [
              1,
              "#f0f921"
             ]
            ],
            "type": "contour"
           }
          ],
          "contourcarpet": [
           {
            "colorbar": {
             "outlinewidth": 0,
             "ticks": ""
            },
            "type": "contourcarpet"
           }
          ],
          "heatmap": [
           {
            "colorbar": {
             "outlinewidth": 0,
             "ticks": ""
            },
            "colorscale": [
             [
              0,
              "#0d0887"
             ],
             [
              0.1111111111111111,
              "#46039f"
             ],
             [
              0.2222222222222222,
              "#7201a8"
             ],
             [
              0.3333333333333333,
              "#9c179e"
             ],
             [
              0.4444444444444444,
              "#bd3786"
             ],
             [
              0.5555555555555556,
              "#d8576b"
             ],
             [
              0.6666666666666666,
              "#ed7953"
             ],
             [
              0.7777777777777778,
              "#fb9f3a"
             ],
             [
              0.8888888888888888,
              "#fdca26"
             ],
             [
              1,
              "#f0f921"
             ]
            ],
            "type": "heatmap"
           }
          ],
          "heatmapgl": [
           {
            "colorbar": {
             "outlinewidth": 0,
             "ticks": ""
            },
            "colorscale": [
             [
              0,
              "#0d0887"
             ],
             [
              0.1111111111111111,
              "#46039f"
             ],
             [
              0.2222222222222222,
              "#7201a8"
             ],
             [
              0.3333333333333333,
              "#9c179e"
             ],
             [
              0.4444444444444444,
              "#bd3786"
             ],
             [
              0.5555555555555556,
              "#d8576b"
             ],
             [
              0.6666666666666666,
              "#ed7953"
             ],
             [
              0.7777777777777778,
              "#fb9f3a"
             ],
             [
              0.8888888888888888,
              "#fdca26"
             ],
             [
              1,
              "#f0f921"
             ]
            ],
            "type": "heatmapgl"
           }
          ],
          "histogram": [
           {
            "marker": {
             "pattern": {
              "fillmode": "overlay",
              "size": 10,
              "solidity": 0.2
             }
            },
            "type": "histogram"
           }
          ],
          "histogram2d": [
           {
            "colorbar": {
             "outlinewidth": 0,
             "ticks": ""
            },
            "colorscale": [
             [
              0,
              "#0d0887"
             ],
             [
              0.1111111111111111,
              "#46039f"
             ],
             [
              0.2222222222222222,
              "#7201a8"
             ],
             [
              0.3333333333333333,
              "#9c179e"
             ],
             [
              0.4444444444444444,
              "#bd3786"
             ],
             [
              0.5555555555555556,
              "#d8576b"
             ],
             [
              0.6666666666666666,
              "#ed7953"
             ],
             [
              0.7777777777777778,
              "#fb9f3a"
             ],
             [
              0.8888888888888888,
              "#fdca26"
             ],
             [
              1,
              "#f0f921"
             ]
            ],
            "type": "histogram2d"
           }
          ],
          "histogram2dcontour": [
           {
            "colorbar": {
             "outlinewidth": 0,
             "ticks": ""
            },
            "colorscale": [
             [
              0,
              "#0d0887"
             ],
             [
              0.1111111111111111,
              "#46039f"
             ],
             [
              0.2222222222222222,
              "#7201a8"
             ],
             [
              0.3333333333333333,
              "#9c179e"
             ],
             [
              0.4444444444444444,
              "#bd3786"
             ],
             [
              0.5555555555555556,
              "#d8576b"
             ],
             [
              0.6666666666666666,
              "#ed7953"
             ],
             [
              0.7777777777777778,
              "#fb9f3a"
             ],
             [
              0.8888888888888888,
              "#fdca26"
             ],
             [
              1,
              "#f0f921"
             ]
            ],
            "type": "histogram2dcontour"
           }
          ],
          "mesh3d": [
           {
            "colorbar": {
             "outlinewidth": 0,
             "ticks": ""
            },
            "type": "mesh3d"
           }
          ],
          "parcoords": [
           {
            "line": {
             "colorbar": {
              "outlinewidth": 0,
              "ticks": ""
             }
            },
            "type": "parcoords"
           }
          ],
          "pie": [
           {
            "automargin": true,
            "type": "pie"
           }
          ],
          "scatter": [
           {
            "fillpattern": {
             "fillmode": "overlay",
             "size": 10,
             "solidity": 0.2
            },
            "type": "scatter"
           }
          ],
          "scatter3d": [
           {
            "line": {
             "colorbar": {
              "outlinewidth": 0,
              "ticks": ""
             }
            },
            "marker": {
             "colorbar": {
              "outlinewidth": 0,
              "ticks": ""
             }
            },
            "type": "scatter3d"
           }
          ],
          "scattercarpet": [
           {
            "marker": {
             "colorbar": {
              "outlinewidth": 0,
              "ticks": ""
             }
            },
            "type": "scattercarpet"
           }
          ],
          "scattergeo": [
           {
            "marker": {
             "colorbar": {
              "outlinewidth": 0,
              "ticks": ""
             }
            },
            "type": "scattergeo"
           }
          ],
          "scattergl": [
           {
            "marker": {
             "colorbar": {
              "outlinewidth": 0,
              "ticks": ""
             }
            },
            "type": "scattergl"
           }
          ],
          "scattermapbox": [
           {
            "marker": {
             "colorbar": {
              "outlinewidth": 0,
              "ticks": ""
             }
            },
            "type": "scattermapbox"
           }
          ],
          "scatterpolar": [
           {
            "marker": {
             "colorbar": {
              "outlinewidth": 0,
              "ticks": ""
             }
            },
            "type": "scatterpolar"
           }
          ],
          "scatterpolargl": [
           {
            "marker": {
             "colorbar": {
              "outlinewidth": 0,
              "ticks": ""
             }
            },
            "type": "scatterpolargl"
           }
          ],
          "scatterternary": [
           {
            "marker": {
             "colorbar": {
              "outlinewidth": 0,
              "ticks": ""
             }
            },
            "type": "scatterternary"
           }
          ],
          "surface": [
           {
            "colorbar": {
             "outlinewidth": 0,
             "ticks": ""
            },
            "colorscale": [
             [
              0,
              "#0d0887"
             ],
             [
              0.1111111111111111,
              "#46039f"
             ],
             [
              0.2222222222222222,
              "#7201a8"
             ],
             [
              0.3333333333333333,
              "#9c179e"
             ],
             [
              0.4444444444444444,
              "#bd3786"
             ],
             [
              0.5555555555555556,
              "#d8576b"
             ],
             [
              0.6666666666666666,
              "#ed7953"
             ],
             [
              0.7777777777777778,
              "#fb9f3a"
             ],
             [
              0.8888888888888888,
              "#fdca26"
             ],
             [
              1,
              "#f0f921"
             ]
            ],
            "type": "surface"
           }
          ],
          "table": [
           {
            "cells": {
             "fill": {
              "color": "#EBF0F8"
             },
             "line": {
              "color": "white"
             }
            },
            "header": {
             "fill": {
              "color": "#C8D4E3"
             },
             "line": {
              "color": "white"
             }
            },
            "type": "table"
           }
          ]
         },
         "layout": {
          "annotationdefaults": {
           "arrowcolor": "#2a3f5f",
           "arrowhead": 0,
           "arrowwidth": 1
          },
          "autotypenumbers": "strict",
          "coloraxis": {
           "colorbar": {
            "outlinewidth": 0,
            "ticks": ""
           }
          },
          "colorscale": {
           "diverging": [
            [
             0,
             "#8e0152"
            ],
            [
             0.1,
             "#c51b7d"
            ],
            [
             0.2,
             "#de77ae"
            ],
            [
             0.3,
             "#f1b6da"
            ],
            [
             0.4,
             "#fde0ef"
            ],
            [
             0.5,
             "#f7f7f7"
            ],
            [
             0.6,
             "#e6f5d0"
            ],
            [
             0.7,
             "#b8e186"
            ],
            [
             0.8,
             "#7fbc41"
            ],
            [
             0.9,
             "#4d9221"
            ],
            [
             1,
             "#276419"
            ]
           ],
           "sequential": [
            [
             0,
             "#0d0887"
            ],
            [
             0.1111111111111111,
             "#46039f"
            ],
            [
             0.2222222222222222,
             "#7201a8"
            ],
            [
             0.3333333333333333,
             "#9c179e"
            ],
            [
             0.4444444444444444,
             "#bd3786"
            ],
            [
             0.5555555555555556,
             "#d8576b"
            ],
            [
             0.6666666666666666,
             "#ed7953"
            ],
            [
             0.7777777777777778,
             "#fb9f3a"
            ],
            [
             0.8888888888888888,
             "#fdca26"
            ],
            [
             1,
             "#f0f921"
            ]
           ],
           "sequentialminus": [
            [
             0,
             "#0d0887"
            ],
            [
             0.1111111111111111,
             "#46039f"
            ],
            [
             0.2222222222222222,
             "#7201a8"
            ],
            [
             0.3333333333333333,
             "#9c179e"
            ],
            [
             0.4444444444444444,
             "#bd3786"
            ],
            [
             0.5555555555555556,
             "#d8576b"
            ],
            [
             0.6666666666666666,
             "#ed7953"
            ],
            [
             0.7777777777777778,
             "#fb9f3a"
            ],
            [
             0.8888888888888888,
             "#fdca26"
            ],
            [
             1,
             "#f0f921"
            ]
           ]
          },
          "colorway": [
           "#636efa",
           "#EF553B",
           "#00cc96",
           "#ab63fa",
           "#FFA15A",
           "#19d3f3",
           "#FF6692",
           "#B6E880",
           "#FF97FF",
           "#FECB52"
          ],
          "font": {
           "color": "#2a3f5f"
          },
          "geo": {
           "bgcolor": "white",
           "lakecolor": "white",
           "landcolor": "#E5ECF6",
           "showlakes": true,
           "showland": true,
           "subunitcolor": "white"
          },
          "hoverlabel": {
           "align": "left"
          },
          "hovermode": "closest",
          "mapbox": {
           "style": "light"
          },
          "paper_bgcolor": "white",
          "plot_bgcolor": "#E5ECF6",
          "polar": {
           "angularaxis": {
            "gridcolor": "white",
            "linecolor": "white",
            "ticks": ""
           },
           "bgcolor": "#E5ECF6",
           "radialaxis": {
            "gridcolor": "white",
            "linecolor": "white",
            "ticks": ""
           }
          },
          "scene": {
           "xaxis": {
            "backgroundcolor": "#E5ECF6",
            "gridcolor": "white",
            "gridwidth": 2,
            "linecolor": "white",
            "showbackground": true,
            "ticks": "",
            "zerolinecolor": "white"
           },
           "yaxis": {
            "backgroundcolor": "#E5ECF6",
            "gridcolor": "white",
            "gridwidth": 2,
            "linecolor": "white",
            "showbackground": true,
            "ticks": "",
            "zerolinecolor": "white"
           },
           "zaxis": {
            "backgroundcolor": "#E5ECF6",
            "gridcolor": "white",
            "gridwidth": 2,
            "linecolor": "white",
            "showbackground": true,
            "ticks": "",
            "zerolinecolor": "white"
           }
          },
          "shapedefaults": {
           "line": {
            "color": "#2a3f5f"
           }
          },
          "ternary": {
           "aaxis": {
            "gridcolor": "white",
            "linecolor": "white",
            "ticks": ""
           },
           "baxis": {
            "gridcolor": "white",
            "linecolor": "white",
            "ticks": ""
           },
           "bgcolor": "#E5ECF6",
           "caxis": {
            "gridcolor": "white",
            "linecolor": "white",
            "ticks": ""
           }
          },
          "title": {
           "x": 0.05
          },
          "xaxis": {
           "automargin": true,
           "gridcolor": "white",
           "linecolor": "white",
           "ticks": "",
           "title": {
            "standoff": 15
           },
           "zerolinecolor": "white",
           "zerolinewidth": 2
          },
          "yaxis": {
           "automargin": true,
           "gridcolor": "white",
           "linecolor": "white",
           "ticks": "",
           "title": {
            "standoff": 15
           },
           "zerolinecolor": "white",
           "zerolinewidth": 2
          }
         }
        },
        "title": {
         "text": "Single channel measurement,         std.dev: 0.000250, mean: 1.138309",
         "x": 0.5,
         "xanchor": "center",
         "y": 0.9,
         "yanchor": "top"
        },
        "xaxis": {
         "autorange": true,
         "range": [
          -3.0109693306469665,
          53.010969330646965
         ],
         "title": {
          "text": "Measurement repetition number"
         },
         "type": "linear"
        },
        "yaxis": {
         "autorange": true,
         "range": [
          1.137564683906357,
          1.139107679374893
         ],
         "title": {
          "text": "Voltage [V]"
         },
         "type": "linear"
        }
       }
      },
      "image/png": "[encoded data removed]",
      "text/html": [
       "<div>                            <div id=\"40c95727-4ec8-4c5b-a87a-a9061449e1e4\" class=\"plotly-graph-div\" style=\"height:525px; width:100%;\"></div>            <script type=\"text/javascript\">                require([\"plotly\"], function(Plotly) {                    window.PLOTLYENV=window.PLOTLYENV || {};                                    if (document.getElementById(\"40c95727-4ec8-4c5b-a87a-a9061449e1e4\")) {                    Plotly.newPlot(                        \"40c95727-4ec8-4c5b-a87a-a9061449e1e4\",                        [{\"mode\":\"lines+markers\",\"name\":\"voltages_ch1\",\"x\":[0.0,1.0204081632653061,2.0408163265306123,3.0612244897959187,4.081632653061225,5.1020408163265305,6.122448979591837,7.142857142857143,8.16326530612245,9.183673469387756,10.204081632653061,11.224489795918368,12.244897959183675,13.26530612244898,14.285714285714286,15.306122448979592,16.3265306122449,17.346938775510203,18.367346938775512,19.387755102040817,20.408163265306122,21.42857142857143,22.448979591836736,23.46938775510204,24.48979591836735,25.510204081632654,26.53061224489796,27.551020408163264,28.571428571428573,29.591836734693878,30.612244897959183,31.63265306122449,32.6530612244898,33.673469387755105,34.69387755102041,35.714285714285715,36.734693877551024,37.755102040816325,38.775510204081634,39.79591836734694,40.816326530612244,41.83673469387755,42.85714285714286,43.87755102040816,44.89795918367347,45.91836734693878,46.93877551020408,47.95918367346939,48.9795918367347,50.0],\"y\":[1.138671875,1.139007568359375,1.138671875,1.138336181640625,1.138336181640625,1.138336181640625,1.138671875,1.138336181640625,1.138336181640625,1.138336181640625,1.137664794921875,1.138336181640625,1.138336181640625,1.138336181640625,1.138336181640625,1.138336181640625,1.138336181640625,1.138336181640625,1.138336181640625,1.138336181640625,1.138336181640625,1.137664794921875,1.138336181640625,1.138336181640625,1.138336181640625,1.138336181640625,1.138336181640625,1.138336181640625,1.138336181640625,1.137664794921875,1.137664794921875,1.138336181640625,1.138336181640625,1.138336181640625,1.138336181640625,1.138336181640625,1.138336181640625,1.138336181640625,1.138336181640625,1.138671875,1.138336181640625,1.138336181640625,1.138336181640625,1.138336181640625,1.138336181640625,1.138336181640625,1.138336181640625,1.137664794921875,1.138336181640625,1.138336181640625],\"type\":\"scatter\"}],                        {\"template\":{\"data\":{\"histogram2dcontour\":[{\"type\":\"histogram2dcontour\",\"colorbar\":{\"outlinewidth\":0,\"ticks\":\"\"},\"colorscale\":[[0.0,\"#0d0887\"],[0.1111111111111111,\"#46039f\"],[0.2222222222222222,\"#7201a8\"],[0.3333333333333333,\"#9c179e\"],[0.4444444444444444,\"#bd3786\"],[0.5555555555555556,\"#d8576b\"],[0.6666666666666666,\"#ed7953\"],[0.7777777777777778,\"#fb9f3a\"],[0.8888888888888888,\"#fdca26\"],[1.0,\"#f0f921\"]]}],\"choropleth\":[{\"type\":\"choropleth\",\"colorbar\":{\"outlinewidth\":0,\"ticks\":\"\"}}],\"histogram2d\":[{\"type\":\"histogram2d\",\"colorbar\":{\"outlinewidth\":0,\"ticks\":\"\"},\"colorscale\":[[0.0,\"#0d0887\"],[0.1111111111111111,\"#46039f\"],[0.2222222222222222,\"#7201a8\"],[0.3333333333333333,\"#9c179e\"],[0.4444444444444444,\"#bd3786\"],[0.5555555555555556,\"#d8576b\"],[0.6666666666666666,\"#ed7953\"],[0.7777777777777778,\"#fb9f3a\"],[0.8888888888888888,\"#fdca26\"],[1.0,\"#f0f921\"]]}],\"heatmap\":[{\"type\":\"heatmap\",\"colorbar\":{\"outlinewidth\":0,\"ticks\":\"\"},\"colorscale\":[[0.0,\"#0d0887\"],[0.1111111111111111,\"#46039f\"],[0.2222222222222222,\"#7201a8\"],[0.3333333333333333,\"#9c179e\"],[0.4444444444444444,\"#bd3786\"],[0.5555555555555556,\"#d8576b\"],[0.6666666666666666,\"#ed7953\"],[0.7777777777777778,\"#fb9f3a\"],[0.8888888888888888,\"#fdca26\"],[1.0,\"#f0f921\"]]}],\"heatmapgl\":[{\"type\":\"heatmapgl\",\"colorbar\":{\"outlinewidth\":0,\"ticks\":\"\"},\"colorscale\":[[0.0,\"#0d0887\"],[0.1111111111111111,\"#46039f\"],[0.2222222222222222,\"#7201a8\"],[0.3333333333333333,\"#9c179e\"],[0.4444444444444444,\"#bd3786\"],[0.5555555555555556,\"#d8576b\"],[0.6666666666666666,\"#ed7953\"],[0.7777777777777778,\"#fb9f3a\"],[0.8888888888888888,\"#fdca26\"],[1.0,\"#f0f921\"]]}],\"contourcarpet\":[{\"type\":\"contourcarpet\",\"colorbar\":{\"outlinewidth\":0,\"ticks\":\"\"}}],\"contour\":[{\"type\":\"contour\",\"colorbar\":{\"outlinewidth\":0,\"ticks\":\"\"},\"colorscale\":[[0.0,\"#0d0887\"],[0.1111111111111111,\"#46039f\"],[0.2222222222222222,\"#7201a8\"],[0.3333333333333333,\"#9c179e\"],[0.4444444444444444,\"#bd3786\"],[0.5555555555555556,\"#d8576b\"],[0.6666666666666666,\"#ed7953\"],[0.7777777777777778,\"#fb9f3a\"],[0.8888888888888888,\"#fdca26\"],[1.0,\"#f0f921\"]]}],\"surface\":[{\"type\":\"surface\",\"colorbar\":{\"outlinewidth\":0,\"ticks\":\"\"},\"colorscale\":[[0.0,\"#0d0887\"],[0.1111111111111111,\"#46039f\"],[0.2222222222222222,\"#7201a8\"],[0.3333333333333333,\"#9c179e\"],[0.4444444444444444,\"#bd3786\"],[0.5555555555555556,\"#d8576b\"],[0.6666666666666666,\"#ed7953\"],[0.7777777777777778,\"#fb9f3a\"],[0.8888888888888888,\"#fdca26\"],[1.0,\"#f0f921\"]]}],\"mesh3d\":[{\"type\":\"mesh3d\",\"colorbar\":{\"outlinewidth\":0,\"ticks\":\"\"}}],\"scatter\":[{\"fillpattern\":{\"fillmode\":\"overlay\",\"size\":10,\"solidity\":0.2},\"type\":\"scatter\"}],\"parcoords\":[{\"type\":\"parcoords\",\"line\":{\"colorbar\":{\"outlinewidth\":0,\"ticks\":\"\"}}}],\"scatterpolargl\":[{\"type\":\"scatterpolargl\",\"marker\":{\"colorbar\":{\"outlinewidth\":0,\"ticks\":\"\"}}}],\"bar\":[{\"error_x\":{\"color\":\"#2a3f5f\"},\"error_y\":{\"color\":\"#2a3f5f\"},\"marker\":{\"line\":{\"color\":\"#E5ECF6\",\"width\":0.5},\"pattern\":{\"fillmode\":\"overlay\",\"size\":10,\"solidity\":0.2}},\"type\":\"bar\"}],\"scattergeo\":[{\"type\":\"scattergeo\",\"marker\":{\"colorbar\":{\"outlinewidth\":0,\"ticks\":\"\"}}}],\"scatterpolar\":[{\"type\":\"scatterpolar\",\"marker\":{\"colorbar\":{\"outlinewidth\":0,\"ticks\":\"\"}}}],\"histogram\":[{\"marker\":{\"pattern\":{\"fillmode\":\"overlay\",\"size\":10,\"solidity\":0.2}},\"type\":\"histogram\"}],\"scattergl\":[{\"type\":\"scattergl\",\"marker\":{\"colorbar\":{\"outlinewidth\":0,\"ticks\":\"\"}}}],\"scatter3d\":[{\"type\":\"scatter3d\",\"line\":{\"colorbar\":{\"outlinewidth\":0,\"ticks\":\"\"}},\"marker\":{\"colorbar\":{\"outlinewidth\":0,\"ticks\":\"\"}}}],\"scattermapbox\":[{\"type\":\"scattermapbox\",\"marker\":{\"colorbar\":{\"outlinewidth\":0,\"ticks\":\"\"}}}],\"scatterternary\":[{\"type\":\"scatterternary\",\"marker\":{\"colorbar\":{\"outlinewidth\":0,\"ticks\":\"\"}}}],\"scattercarpet\":[{\"type\":\"scattercarpet\",\"marker\":{\"colorbar\":{\"outlinewidth\":0,\"ticks\":\"\"}}}],\"carpet\":[{\"aaxis\":{\"endlinecolor\":\"#2a3f5f\",\"gridcolor\":\"white\",\"linecolor\":\"white\",\"minorgridcolor\":\"white\",\"startlinecolor\":\"#2a3f5f\"},\"baxis\":{\"endlinecolor\":\"#2a3f5f\",\"gridcolor\":\"white\",\"linecolor\":\"white\",\"minorgridcolor\":\"white\",\"startlinecolor\":\"#2a3f5f\"},\"type\":\"carpet\"}],\"table\":[{\"cells\":{\"fill\":{\"color\":\"#EBF0F8\"},\"line\":{\"color\":\"white\"}},\"header\":{\"fill\":{\"color\":\"#C8D4E3\"},\"line\":{\"color\":\"white\"}},\"type\":\"table\"}],\"barpolar\":[{\"marker\":{\"line\":{\"color\":\"#E5ECF6\",\"width\":0.5},\"pattern\":{\"fillmode\":\"overlay\",\"size\":10,\"solidity\":0.2}},\"type\":\"barpolar\"}],\"pie\":[{\"automargin\":true,\"type\":\"pie\"}]},\"layout\":{\"autotypenumbers\":\"strict\",\"colorway\":[\"#636efa\",\"#EF553B\",\"#00cc96\",\"#ab63fa\",\"#FFA15A\",\"#19d3f3\",\"#FF6692\",\"#B6E880\",\"#FF97FF\",\"#FECB52\"],\"font\":{\"color\":\"#2a3f5f\"},\"hovermode\":\"closest\",\"hoverlabel\":{\"align\":\"left\"},\"paper_bgcolor\":\"white\",\"plot_bgcolor\":\"#E5ECF6\",\"polar\":{\"bgcolor\":\"#E5ECF6\",\"angularaxis\":{\"gridcolor\":\"white\",\"linecolor\":\"white\",\"ticks\":\"\"},\"radialaxis\":{\"gridcolor\":\"white\",\"linecolor\":\"white\",\"ticks\":\"\"}},\"ternary\":{\"bgcolor\":\"#E5ECF6\",\"aaxis\":{\"gridcolor\":\"white\",\"linecolor\":\"white\",\"ticks\":\"\"},\"baxis\":{\"gridcolor\":\"white\",\"linecolor\":\"white\",\"ticks\":\"\"},\"caxis\":{\"gridcolor\":\"white\",\"linecolor\":\"white\",\"ticks\":\"\"}},\"coloraxis\":{\"colorbar\":{\"outlinewidth\":0,\"ticks\":\"\"}},\"colorscale\":{\"sequential\":[[0.0,\"#0d0887\"],[0.1111111111111111,\"#46039f\"],[0.2222222222222222,\"#7201a8\"],[0.3333333333333333,\"#9c179e\"],[0.4444444444444444,\"#bd3786\"],[0.5555555555555556,\"#d8576b\"],[0.6666666666666666,\"#ed7953\"],[0.7777777777777778,\"#fb9f3a\"],[0.8888888888888888,\"#fdca26\"],[1.0,\"#f0f921\"]],\"sequentialminus\":[[0.0,\"#0d0887\"],[0.1111111111111111,\"#46039f\"],[0.2222222222222222,\"#7201a8\"],[0.3333333333333333,\"#9c179e\"],[0.4444444444444444,\"#bd3786\"],[0.5555555555555556,\"#d8576b\"],[0.6666666666666666,\"#ed7953\"],[0.7777777777777778,\"#fb9f3a\"],[0.8888888888888888,\"#fdca26\"],[1.0,\"#f0f921\"]],\"diverging\":[[0,\"#8e0152\"],[0.1,\"#c51b7d\"],[0.2,\"#de77ae\"],[0.3,\"#f1b6da\"],[0.4,\"#fde0ef\"],[0.5,\"#f7f7f7\"],[0.6,\"#e6f5d0\"],[0.7,\"#b8e186\"],[0.8,\"#7fbc41\"],[0.9,\"#4d9221\"],[1,\"#276419\"]]},\"xaxis\":{\"gridcolor\":\"white\",\"linecolor\":\"white\",\"ticks\":\"\",\"title\":{\"standoff\":15},\"zerolinecolor\":\"white\",\"automargin\":true,\"zerolinewidth\":2},\"yaxis\":{\"gridcolor\":\"white\",\"linecolor\":\"white\",\"ticks\":\"\",\"title\":{\"standoff\":15},\"zerolinecolor\":\"white\",\"automargin\":true,\"zerolinewidth\":2},\"scene\":{\"xaxis\":{\"backgroundcolor\":\"#E5ECF6\",\"gridcolor\":\"white\",\"linecolor\":\"white\",\"showbackground\":true,\"ticks\":\"\",\"zerolinecolor\":\"white\",\"gridwidth\":2},\"yaxis\":{\"backgroundcolor\":\"#E5ECF6\",\"gridcolor\":\"white\",\"linecolor\":\"white\",\"showbackground\":true,\"ticks\":\"\",\"zerolinecolor\":\"white\",\"gridwidth\":2},\"zaxis\":{\"backgroundcolor\":\"#E5ECF6\",\"gridcolor\":\"white\",\"linecolor\":\"white\",\"showbackground\":true,\"ticks\":\"\",\"zerolinecolor\":\"white\",\"gridwidth\":2}},\"shapedefaults\":{\"line\":{\"color\":\"#2a3f5f\"}},\"annotationdefaults\":{\"arrowcolor\":\"#2a3f5f\",\"arrowhead\":0,\"arrowwidth\":1},\"geo\":{\"bgcolor\":\"white\",\"landcolor\":\"#E5ECF6\",\"subunitcolor\":\"white\",\"showland\":true,\"showlakes\":true,\"lakecolor\":\"white\"},\"title\":{\"x\":0.05},\"mapbox\":{\"style\":\"light\"}}},\"title\":{\"text\":\"Single channel measurement,         std.dev: 0.000250, mean: 1.138309\",\"y\":0.9,\"x\":0.5,\"xanchor\":\"center\",\"yanchor\":\"top\"},\"margin\":{\"l\":20,\"r\":20,\"t\":55,\"b\":20},\"xaxis\":{\"title\":{\"text\":\"Measurement repetition number\"}},\"yaxis\":{\"title\":{\"text\":\"Voltage [V]\"}}},                        {\"responsive\": true}                    ).then(function(){\n",
       "                            \n",
       "var gd = document.getElementById('40c95727-4ec8-4c5b-a87a-a9061449e1e4');\n",
       "var x = new MutationObserver(function (mutations, observer) {{\n",
       "        var display = window.getComputedStyle(gd).display;\n",
       "        if (!display || display === 'none') {{\n",
       "            console.log([gd, 'removed!']);\n",
       "            Plotly.purge(gd);\n",
       "            observer.disconnect();\n",
       "        }}\n",
       "}});\n",
       "\n",
       "// Listen for the removal of the full notebook cells\n",
       "var notebookContainer = gd.closest('#notebook-container');\n",
       "if (notebookContainer) {{\n",
       "    x.observe(notebookContainer, {childList: true});\n",
       "}}\n",
       "\n",
       "// Listen for the clearing of the current output cell\n",
       "var outputEl = gd.closest('.output');\n",
       "if (outputEl) {{\n",
       "    x.observe(outputEl, {childList: true});\n",
       "}}\n",
       "\n",
       "                        })                };                });            </script>        </div>"
      ]
     },
     "metadata": {},
     "output_type": "display_data"
    }
   ],
   "source": [
    "number_of_measurements = 50\n",
    "voltages_ch1 = channel1.measure_voltages(number_of_measurements)\n",
    "\n",
    "x_ = np.linspace(0, number_of_measurements, number_of_measurements)\n",
    "# Create traces\n",
    "fig = go.Figure()\n",
    "fig.add_trace(go.Scatter(x=x_, y=voltages_ch1,  mode='lines+markers',  name='voltages_ch1'))\n",
    "\n",
    "fig.update_layout(  title={'text': f\"Single channel measurement, \\\n",
    "        std.dev: {np.std(voltages_ch1):.6f}, mean: {np.mean(voltages_ch1):.6f}\",  \\\n",
    "        'y':0.9,  'x':0.5, 'xanchor': 'center',  'yanchor': 'top'}, \\\n",
    "        xaxis_title='Measurement repetition number',  yaxis_title='Voltage [V]', \\\n",
    "        margin=dict(l=20, r=20, t=55, b=20))\n",
    "fig\n",
    "#uncomment in pure python script:\n",
    "#fig.show()"
   ]
  },
  {
   "cell_type": "markdown",
   "id": "fbe9f326-7b9d-4d6b-ad22-25b83ca251f4",
   "metadata": {},
   "source": [
    "Now we activate the other channels with an offset of one volt each."
   ]
  },
  {
   "cell_type": "code",
   "execution_count": 5,
   "id": "1010c34c-a6d1-452a-aa6a-ed8965d3b7f3",
   "metadata": {},
   "outputs": [],
   "source": [
    "channel2.enabled = True\n",
    "channel2.voltage = 2.14\n",
    "channel3.enabled = True\n",
    "channel3.voltage = 3.14\n",
    "channel4.enabled = True\n",
    "channel4.voltage = 4.14"
   ]
  },
  {
   "cell_type": "markdown",
   "id": "2acaaf1b-dd50-449f-872f-f9ca924c3f2d",
   "metadata": {},
   "source": [
    "The measurements for each channel are run sequentally and the results are displayed in a plot: "
   ]
  },
  {
   "cell_type": "code",
   "execution_count": 6,
   "id": "7fe2647e-f48f-4d00-be48-768f85976561",
   "metadata": {},
   "outputs": [
    {
     "data": {
      "application/vnd.plotly.v1+json": {
       "config": {
        "plotlyServerURL": "https://plot.ly"
       },
       "data": [
        {
         "mode": "lines+markers",
         "name": "voltages_ch1",
         "type": "scatter",
         "x": [
          0,
          1.0204081632653061,
          2.0408163265306123,
          3.0612244897959187,
          4.081632653061225,
          5.1020408163265305,
          6.122448979591837,
          7.142857142857143,
          8.16326530612245,
          9.183673469387756,
          10.204081632653061,
          11.224489795918368,
          12.244897959183675,
          13.26530612244898,
          14.285714285714286,
          15.306122448979592,
          16.3265306122449,
          17.346938775510203,
          18.367346938775512,
          19.387755102040817,
          20.408163265306122,
          21.42857142857143,
          22.448979591836736,
          23.46938775510204,
          24.48979591836735,
          25.510204081632654,
          26.53061224489796,
          27.551020408163264,
          28.571428571428573,
          29.591836734693878,
          30.612244897959183,
          31.63265306122449,
          32.6530612244898,
          33.673469387755105,
          34.69387755102041,
          35.714285714285715,
          36.734693877551024,
          37.755102040816325,
          38.775510204081634,
          39.79591836734694,
          40.816326530612244,
          41.83673469387755,
          42.85714285714286,
          43.87755102040816,
          44.89795918367347,
          45.91836734693878,
          46.93877551020408,
          47.95918367346939,
          48.9795918367347,
          50
         ],
         "y": [
          1.140350341796875,
          1.140350341796875,
          1.139678955078125,
          1.139678955078125,
          1.139007568359375,
          1.139007568359375,
          1.139007568359375,
          1.139007568359375,
          1.139007568359375,
          1.139007568359375,
          1.139007568359375,
          1.139007568359375,
          1.139007568359375,
          1.139678955078125,
          1.139007568359375,
          1.139678955078125,
          1.139678955078125,
          1.139678955078125,
          1.139007568359375,
          1.139007568359375,
          1.139007568359375,
          1.139678955078125,
          1.139678955078125,
          1.139678955078125,
          1.139678955078125,
          1.139678955078125,
          1.139678955078125,
          1.139678955078125,
          1.139007568359375,
          1.139007568359375,
          1.139678955078125,
          1.139678955078125,
          1.139007568359375,
          1.139678955078125,
          1.139007568359375,
          1.139678955078125,
          1.139678955078125,
          1.139678955078125,
          1.139678955078125,
          1.139678955078125,
          1.139678955078125,
          1.139007568359375,
          1.139678955078125,
          1.139678955078125,
          1.139678955078125,
          1.1400146484375,
          1.139678955078125,
          1.139678955078125,
          1.139678955078125,
          1.139007568359375
         ]
        },
        {
         "mode": "lines+markers",
         "name": "voltages_ch2",
         "type": "scatter",
         "x": [
          0,
          1.0204081632653061,
          2.0408163265306123,
          3.0612244897959187,
          4.081632653061225,
          5.1020408163265305,
          6.122448979591837,
          7.142857142857143,
          8.16326530612245,
          9.183673469387756,
          10.204081632653061,
          11.224489795918368,
          12.244897959183675,
          13.26530612244898,
          14.285714285714286,
          15.306122448979592,
          16.3265306122449,
          17.346938775510203,
          18.367346938775512,
          19.387755102040817,
          20.408163265306122,
          21.42857142857143,
          22.448979591836736,
          23.46938775510204,
          24.48979591836735,
          25.510204081632654,
          26.53061224489796,
          27.551020408163264,
          28.571428571428573,
          29.591836734693878,
          30.612244897959183,
          31.63265306122449,
          32.6530612244898,
          33.673469387755105,
          34.69387755102041,
          35.714285714285715,
          36.734693877551024,
          37.755102040816325,
          38.775510204081634,
          39.79591836734694,
          40.816326530612244,
          41.83673469387755,
          42.85714285714286,
          43.87755102040816,
          44.89795918367347,
          45.91836734693878,
          46.93877551020408,
          47.95918367346939,
          48.9795918367347,
          50
         ],
         "y": [
          2.140380859375,
          2.140716552734375,
          2.140380859375,
          2.140045166015625,
          2.13970947265625,
          2.140045166015625,
          2.13970947265625,
          2.13970947265625,
          2.13970947265625,
          2.140045166015625,
          2.140045166015625,
          2.13970947265625,
          2.140045166015625,
          2.140045166015625,
          2.13970947265625,
          2.140045166015625,
          2.140045166015625,
          2.140045166015625,
          2.13970947265625,
          2.13970947265625,
          2.140045166015625,
          2.140045166015625,
          2.140045166015625,
          2.140045166015625,
          2.140045166015625,
          2.140045166015625,
          2.13970947265625,
          2.13970947265625,
          2.140045166015625,
          2.140045166015625,
          2.140045166015625,
          2.13970947265625,
          2.13970947265625,
          2.13970947265625,
          2.140045166015625,
          2.140045166015625,
          2.140045166015625,
          2.140045166015625,
          2.140045166015625,
          2.13970947265625,
          2.140045166015625,
          2.13970947265625,
          2.140045166015625,
          2.13970947265625,
          2.140045166015625,
          2.140045166015625,
          2.13970947265625,
          2.140380859375,
          2.13970947265625,
          2.13970947265625
         ]
        },
        {
         "mode": "lines+markers",
         "name": "voltages_ch3",
         "type": "scatter",
         "x": [
          0,
          1.0204081632653061,
          2.0408163265306123,
          3.0612244897959187,
          4.081632653061225,
          5.1020408163265305,
          6.122448979591837,
          7.142857142857143,
          8.16326530612245,
          9.183673469387756,
          10.204081632653061,
          11.224489795918368,
          12.244897959183675,
          13.26530612244898,
          14.285714285714286,
          15.306122448979592,
          16.3265306122449,
          17.346938775510203,
          18.367346938775512,
          19.387755102040817,
          20.408163265306122,
          21.42857142857143,
          22.448979591836736,
          23.46938775510204,
          24.48979591836735,
          25.510204081632654,
          26.53061224489796,
          27.551020408163264,
          28.571428571428573,
          29.591836734693878,
          30.612244897959183,
          31.63265306122449,
          32.6530612244898,
          33.673469387755105,
          34.69387755102041,
          35.714285714285715,
          36.734693877551024,
          37.755102040816325,
          38.775510204081634,
          39.79591836734694,
          40.816326530612244,
          41.83673469387755,
          42.85714285714286,
          43.87755102040816,
          44.89795918367347,
          45.91836734693878,
          46.93877551020408,
          47.95918367346939,
          48.9795918367347,
          50
         ],
         "y": [
          3.14007568359375,
          3.14007568359375,
          3.139739990234375,
          3.139739990234375,
          3.139404296875,
          3.139404296875,
          3.139404296875,
          3.139404296875,
          3.139739990234375,
          3.139404296875,
          3.139739990234375,
          3.139404296875,
          3.139404296875,
          3.139739990234375,
          3.139404296875,
          3.139404296875,
          3.139404296875,
          3.139739990234375,
          3.139404296875,
          3.139404296875,
          3.139404296875,
          3.139404296875,
          3.139068603515625,
          3.139404296875,
          3.139404296875,
          3.139739990234375,
          3.139404296875,
          3.139404296875,
          3.139404296875,
          3.139404296875,
          3.139404296875,
          3.139404296875,
          3.139739990234375,
          3.139404296875,
          3.139404296875,
          3.139739990234375,
          3.139404296875,
          3.139404296875,
          3.139404296875,
          3.139739990234375,
          3.139739990234375,
          3.139404296875,
          3.139739990234375,
          3.139404296875,
          3.139404296875,
          3.139739990234375,
          3.139404296875,
          3.139404296875,
          3.139404296875,
          3.139404296875
         ]
        },
        {
         "mode": "lines+markers",
         "name": "voltages_ch4",
         "type": "scatter",
         "x": [
          0,
          1.0204081632653061,
          2.0408163265306123,
          3.0612244897959187,
          4.081632653061225,
          5.1020408163265305,
          6.122448979591837,
          7.142857142857143,
          8.16326530612245,
          9.183673469387756,
          10.204081632653061,
          11.224489795918368,
          12.244897959183675,
          13.26530612244898,
          14.285714285714286,
          15.306122448979592,
          16.3265306122449,
          17.346938775510203,
          18.367346938775512,
          19.387755102040817,
          20.408163265306122,
          21.42857142857143,
          22.448979591836736,
          23.46938775510204,
          24.48979591836735,
          25.510204081632654,
          26.53061224489796,
          27.551020408163264,
          28.571428571428573,
          29.591836734693878,
          30.612244897959183,
          31.63265306122449,
          32.6530612244898,
          33.673469387755105,
          34.69387755102041,
          35.714285714285715,
          36.734693877551024,
          37.755102040816325,
          38.775510204081634,
          39.79591836734694,
          40.816326530612244,
          41.83673469387755,
          42.85714285714286,
          43.87755102040816,
          44.89795918367347,
          45.91836734693878,
          46.93877551020408,
          47.95918367346939,
          48.9795918367347,
          50
         ],
         "y": [
          4.14044189453125,
          4.14044189453125,
          4.140106201171875,
          4.1397705078125,
          4.139434814453125,
          4.139434814453125,
          4.1397705078125,
          4.140106201171875,
          4.1397705078125,
          4.1397705078125,
          4.1397705078125,
          4.1397705078125,
          4.1397705078125,
          4.139434814453125,
          4.139434814453125,
          4.1397705078125,
          4.1397705078125,
          4.1397705078125,
          4.1397705078125,
          4.1397705078125,
          4.139434814453125,
          4.1397705078125,
          4.1397705078125,
          4.139434814453125,
          4.1397705078125,
          4.1397705078125,
          4.1397705078125,
          4.1397705078125,
          4.1397705078125,
          4.139434814453125,
          4.1397705078125,
          4.1397705078125,
          4.139434814453125,
          4.139434814453125,
          4.139434814453125,
          4.1397705078125,
          4.1397705078125,
          4.139434814453125,
          4.1397705078125,
          4.1397705078125,
          4.1397705078125,
          4.1397705078125,
          4.1397705078125,
          4.1397705078125,
          4.1397705078125,
          4.1397705078125,
          4.1397705078125,
          4.139434814453125,
          4.1397705078125,
          4.1397705078125
         ]
        }
       ],
       "layout": {
        "autosize": true,
        "margin": {
         "b": 20,
         "l": 20,
         "r": 20,
         "t": 55
        },
        "template": {
         "data": {
          "bar": [
           {
            "error_x": {
             "color": "#2a3f5f"
            },
            "error_y": {
             "color": "#2a3f5f"
            },
            "marker": {
             "line": {
              "color": "#E5ECF6",
              "width": 0.5
             },
             "pattern": {
              "fillmode": "overlay",
              "size": 10,
              "solidity": 0.2
             }
            },
            "type": "bar"
           }
          ],
          "barpolar": [
           {
            "marker": {
             "line": {
              "color": "#E5ECF6",
              "width": 0.5
             },
             "pattern": {
              "fillmode": "overlay",
              "size": 10,
              "solidity": 0.2
             }
            },
            "type": "barpolar"
           }
          ],
          "carpet": [
           {
            "aaxis": {
             "endlinecolor": "#2a3f5f",
             "gridcolor": "white",
             "linecolor": "white",
             "minorgridcolor": "white",
             "startlinecolor": "#2a3f5f"
            },
            "baxis": {
             "endlinecolor": "#2a3f5f",
             "gridcolor": "white",
             "linecolor": "white",
             "minorgridcolor": "white",
             "startlinecolor": "#2a3f5f"
            },
            "type": "carpet"
           }
          ],
          "choropleth": [
           {
            "colorbar": {
             "outlinewidth": 0,
             "ticks": ""
            },
            "type": "choropleth"
           }
          ],
          "contour": [
           {
            "colorbar": {
             "outlinewidth": 0,
             "ticks": ""
            },
            "colorscale": [
             [
              0,
              "#0d0887"
             ],
             [
              0.1111111111111111,
              "#46039f"
             ],
             [
              0.2222222222222222,
              "#7201a8"
             ],
             [
              0.3333333333333333,
              "#9c179e"
             ],
             [
              0.4444444444444444,
              "#bd3786"
             ],
             [
              0.5555555555555556,
              "#d8576b"
             ],
             [
              0.6666666666666666,
              "#ed7953"
             ],
             [
              0.7777777777777778,
              "#fb9f3a"
             ],
             [
              0.8888888888888888,
              "#fdca26"
             ],
             [
              1,
              "#f0f921"
             ]
            ],
            "type": "contour"
           }
          ],
          "contourcarpet": [
           {
            "colorbar": {
             "outlinewidth": 0,
             "ticks": ""
            },
            "type": "contourcarpet"
           }
          ],
          "heatmap": [
           {
            "colorbar": {
             "outlinewidth": 0,
             "ticks": ""
            },
            "colorscale": [
             [
              0,
              "#0d0887"
             ],
             [
              0.1111111111111111,
              "#46039f"
             ],
             [
              0.2222222222222222,
              "#7201a8"
             ],
             [
              0.3333333333333333,
              "#9c179e"
             ],
             [
              0.4444444444444444,
              "#bd3786"
             ],
             [
              0.5555555555555556,
              "#d8576b"
             ],
             [
              0.6666666666666666,
              "#ed7953"
             ],
             [
              0.7777777777777778,
              "#fb9f3a"
             ],
             [
              0.8888888888888888,
              "#fdca26"
             ],
             [
              1,
              "#f0f921"
             ]
            ],
            "type": "heatmap"
           }
          ],
          "heatmapgl": [
           {
            "colorbar": {
             "outlinewidth": 0,
             "ticks": ""
            },
            "colorscale": [
             [
              0,
              "#0d0887"
             ],
             [
              0.1111111111111111,
              "#46039f"
             ],
             [
              0.2222222222222222,
              "#7201a8"
             ],
             [
              0.3333333333333333,
              "#9c179e"
             ],
             [
              0.4444444444444444,
              "#bd3786"
             ],
             [
              0.5555555555555556,
              "#d8576b"
             ],
             [
              0.6666666666666666,
              "#ed7953"
             ],
             [
              0.7777777777777778,
              "#fb9f3a"
             ],
             [
              0.8888888888888888,
              "#fdca26"
             ],
             [
              1,
              "#f0f921"
             ]
            ],
            "type": "heatmapgl"
           }
          ],
          "histogram": [
           {
            "marker": {
             "pattern": {
              "fillmode": "overlay",
              "size": 10,
              "solidity": 0.2
             }
            },
            "type": "histogram"
           }
          ],
          "histogram2d": [
           {
            "colorbar": {
             "outlinewidth": 0,
             "ticks": ""
            },
            "colorscale": [
             [
              0,
              "#0d0887"
             ],
             [
              0.1111111111111111,
              "#46039f"
             ],
             [
              0.2222222222222222,
              "#7201a8"
             ],
             [
              0.3333333333333333,
              "#9c179e"
             ],
             [
              0.4444444444444444,
              "#bd3786"
             ],
             [
              0.5555555555555556,
              "#d8576b"
             ],
             [
              0.6666666666666666,
              "#ed7953"
             ],
             [
              0.7777777777777778,
              "#fb9f3a"
             ],
             [
              0.8888888888888888,
              "#fdca26"
             ],
             [
              1,
              "#f0f921"
             ]
            ],
            "type": "histogram2d"
           }
          ],
          "histogram2dcontour": [
           {
            "colorbar": {
             "outlinewidth": 0,
             "ticks": ""
            },
            "colorscale": [
             [
              0,
              "#0d0887"
             ],
             [
              0.1111111111111111,
              "#46039f"
             ],
             [
              0.2222222222222222,
              "#7201a8"
             ],
             [
              0.3333333333333333,
              "#9c179e"
             ],
             [
              0.4444444444444444,
              "#bd3786"
             ],
             [
              0.5555555555555556,
              "#d8576b"
             ],
             [
              0.6666666666666666,
              "#ed7953"
             ],
             [
              0.7777777777777778,
              "#fb9f3a"
             ],
             [
              0.8888888888888888,
              "#fdca26"
             ],
             [
              1,
              "#f0f921"
             ]
            ],
            "type": "histogram2dcontour"
           }
          ],
          "mesh3d": [
           {
            "colorbar": {
             "outlinewidth": 0,
             "ticks": ""
            },
            "type": "mesh3d"
           }
          ],
          "parcoords": [
           {
            "line": {
             "colorbar": {
              "outlinewidth": 0,
              "ticks": ""
             }
            },
            "type": "parcoords"
           }
          ],
          "pie": [
           {
            "automargin": true,
            "type": "pie"
           }
          ],
          "scatter": [
           {
            "fillpattern": {
             "fillmode": "overlay",
             "size": 10,
             "solidity": 0.2
            },
            "type": "scatter"
           }
          ],
          "scatter3d": [
           {
            "line": {
             "colorbar": {
              "outlinewidth": 0,
              "ticks": ""
             }
            },
            "marker": {
             "colorbar": {
              "outlinewidth": 0,
              "ticks": ""
             }
            },
            "type": "scatter3d"
           }
          ],
          "scattercarpet": [
           {
            "marker": {
             "colorbar": {
              "outlinewidth": 0,
              "ticks": ""
             }
            },
            "type": "scattercarpet"
           }
          ],
          "scattergeo": [
           {
            "marker": {
             "colorbar": {
              "outlinewidth": 0,
              "ticks": ""
             }
            },
            "type": "scattergeo"
           }
          ],
          "scattergl": [
           {
            "marker": {
             "colorbar": {
              "outlinewidth": 0,
              "ticks": ""
             }
            },
            "type": "scattergl"
           }
          ],
          "scattermapbox": [
           {
            "marker": {
             "colorbar": {
              "outlinewidth": 0,
              "ticks": ""
             }
            },
            "type": "scattermapbox"
           }
          ],
          "scatterpolar": [
           {
            "marker": {
             "colorbar": {
              "outlinewidth": 0,
              "ticks": ""
             }
            },
            "type": "scatterpolar"
           }
          ],
          "scatterpolargl": [
           {
            "marker": {
             "colorbar": {
              "outlinewidth": 0,
              "ticks": ""
             }
            },
            "type": "scatterpolargl"
           }
          ],
          "scatterternary": [
           {
            "marker": {
             "colorbar": {
              "outlinewidth": 0,
              "ticks": ""
             }
            },
            "type": "scatterternary"
           }
          ],
          "surface": [
           {
            "colorbar": {
             "outlinewidth": 0,
             "ticks": ""
            },
            "colorscale": [
             [
              0,
              "#0d0887"
             ],
             [
              0.1111111111111111,
              "#46039f"
             ],
             [
              0.2222222222222222,
              "#7201a8"
             ],
             [
              0.3333333333333333,
              "#9c179e"
             ],
             [
              0.4444444444444444,
              "#bd3786"
             ],
             [
              0.5555555555555556,
              "#d8576b"
             ],
             [
              0.6666666666666666,
              "#ed7953"
             ],
             [
              0.7777777777777778,
              "#fb9f3a"
             ],
             [
              0.8888888888888888,
              "#fdca26"
             ],
             [
              1,
              "#f0f921"
             ]
            ],
            "type": "surface"
           }
          ],
          "table": [
           {
            "cells": {
             "fill": {
              "color": "#EBF0F8"
             },
             "line": {
              "color": "white"
             }
            },
            "header": {
             "fill": {
              "color": "#C8D4E3"
             },
             "line": {
              "color": "white"
             }
            },
            "type": "table"
           }
          ]
         },
         "layout": {
          "annotationdefaults": {
           "arrowcolor": "#2a3f5f",
           "arrowhead": 0,
           "arrowwidth": 1
          },
          "autotypenumbers": "strict",
          "coloraxis": {
           "colorbar": {
            "outlinewidth": 0,
            "ticks": ""
           }
          },
          "colorscale": {
           "diverging": [
            [
             0,
             "#8e0152"
            ],
            [
             0.1,
             "#c51b7d"
            ],
            [
             0.2,
             "#de77ae"
            ],
            [
             0.3,
             "#f1b6da"
            ],
            [
             0.4,
             "#fde0ef"
            ],
            [
             0.5,
             "#f7f7f7"
            ],
            [
             0.6,
             "#e6f5d0"
            ],
            [
             0.7,
             "#b8e186"
            ],
            [
             0.8,
             "#7fbc41"
            ],
            [
             0.9,
             "#4d9221"
            ],
            [
             1,
             "#276419"
            ]
           ],
           "sequential": [
            [
             0,
             "#0d0887"
            ],
            [
             0.1111111111111111,
             "#46039f"
            ],
            [
             0.2222222222222222,
             "#7201a8"
            ],
            [
             0.3333333333333333,
             "#9c179e"
            ],
            [
             0.4444444444444444,
             "#bd3786"
            ],
            [
             0.5555555555555556,
             "#d8576b"
            ],
            [
             0.6666666666666666,
             "#ed7953"
            ],
            [
             0.7777777777777778,
             "#fb9f3a"
            ],
            [
             0.8888888888888888,
             "#fdca26"
            ],
            [
             1,
             "#f0f921"
            ]
           ],
           "sequentialminus": [
            [
             0,
             "#0d0887"
            ],
            [
             0.1111111111111111,
             "#46039f"
            ],
            [
             0.2222222222222222,
             "#7201a8"
            ],
            [
             0.3333333333333333,
             "#9c179e"
            ],
            [
             0.4444444444444444,
             "#bd3786"
            ],
            [
             0.5555555555555556,
             "#d8576b"
            ],
            [
             0.6666666666666666,
             "#ed7953"
            ],
            [
             0.7777777777777778,
             "#fb9f3a"
            ],
            [
             0.8888888888888888,
             "#fdca26"
            ],
            [
             1,
             "#f0f921"
            ]
           ]
          },
          "colorway": [
           "#636efa",
           "#EF553B",
           "#00cc96",
           "#ab63fa",
           "#FFA15A",
           "#19d3f3",
           "#FF6692",
           "#B6E880",
           "#FF97FF",
           "#FECB52"
          ],
          "font": {
           "color": "#2a3f5f"
          },
          "geo": {
           "bgcolor": "white",
           "lakecolor": "white",
           "landcolor": "#E5ECF6",
           "showlakes": true,
           "showland": true,
           "subunitcolor": "white"
          },
          "hoverlabel": {
           "align": "left"
          },
          "hovermode": "closest",
          "mapbox": {
           "style": "light"
          },
          "paper_bgcolor": "white",
          "plot_bgcolor": "#E5ECF6",
          "polar": {
           "angularaxis": {
            "gridcolor": "white",
            "linecolor": "white",
            "ticks": ""
           },
           "bgcolor": "#E5ECF6",
           "radialaxis": {
            "gridcolor": "white",
            "linecolor": "white",
            "ticks": ""
           }
          },
          "scene": {
           "xaxis": {
            "backgroundcolor": "#E5ECF6",
            "gridcolor": "white",
            "gridwidth": 2,
            "linecolor": "white",
            "showbackground": true,
            "ticks": "",
            "zerolinecolor": "white"
           },
           "yaxis": {
            "backgroundcolor": "#E5ECF6",
            "gridcolor": "white",
            "gridwidth": 2,
            "linecolor": "white",
            "showbackground": true,
            "ticks": "",
            "zerolinecolor": "white"
           },
           "zaxis": {
            "backgroundcolor": "#E5ECF6",
            "gridcolor": "white",
            "gridwidth": 2,
            "linecolor": "white",
            "showbackground": true,
            "ticks": "",
            "zerolinecolor": "white"
           }
          },
          "shapedefaults": {
           "line": {
            "color": "#2a3f5f"
           }
          },
          "ternary": {
           "aaxis": {
            "gridcolor": "white",
            "linecolor": "white",
            "ticks": ""
           },
           "baxis": {
            "gridcolor": "white",
            "linecolor": "white",
            "ticks": ""
           },
           "bgcolor": "#E5ECF6",
           "caxis": {
            "gridcolor": "white",
            "linecolor": "white",
            "ticks": ""
           }
          },
          "title": {
           "x": 0.05
          },
          "xaxis": {
           "automargin": true,
           "gridcolor": "white",
           "linecolor": "white",
           "ticks": "",
           "title": {
            "standoff": 15
           },
           "zerolinecolor": "white",
           "zerolinewidth": 2
          },
          "yaxis": {
           "automargin": true,
           "gridcolor": "white",
           "linecolor": "white",
           "ticks": "",
           "title": {
            "standoff": 15
           },
           "zerolinecolor": "white",
           "zerolinewidth": 2
          }
         }
        },
        "title": {
         "text": "4 channel measurement",
         "x": 0.5,
         "xanchor": "center",
         "y": 0.9,
         "yanchor": "top"
        },
        "xaxis": {
         "autorange": true,
         "range": [
          -3.03478904515174,
          53.03478904515174
         ],
         "title": {
          "text": "Measurement repetition number"
         },
         "type": "linear"
        },
        "yaxis": {
         "autorange": true,
         "range": [
          0.9152344209224842,
          4.364215041968141
         ],
         "title": {
          "text": "Voltage [V]"
         },
         "type": "linear"
        }
       }
      },
      "image/png": "[encoded data removed]",
      "text/html": [
       "<div>                            <div id=\"3807d597-d32e-4e39-9c1e-112d10faab9a\" class=\"plotly-graph-div\" style=\"height:525px; width:100%;\"></div>            <script type=\"text/javascript\">                require([\"plotly\"], function(Plotly) {                    window.PLOTLYENV=window.PLOTLYENV || {};                                    if (document.getElementById(\"3807d597-d32e-4e39-9c1e-112d10faab9a\")) {                    Plotly.newPlot(                        \"3807d597-d32e-4e39-9c1e-112d10faab9a\",                        [{\"mode\":\"lines+markers\",\"name\":\"voltages_ch1\",\"x\":[0.0,1.0204081632653061,2.0408163265306123,3.0612244897959187,4.081632653061225,5.1020408163265305,6.122448979591837,7.142857142857143,8.16326530612245,9.183673469387756,10.204081632653061,11.224489795918368,12.244897959183675,13.26530612244898,14.285714285714286,15.306122448979592,16.3265306122449,17.346938775510203,18.367346938775512,19.387755102040817,20.408163265306122,21.42857142857143,22.448979591836736,23.46938775510204,24.48979591836735,25.510204081632654,26.53061224489796,27.551020408163264,28.571428571428573,29.591836734693878,30.612244897959183,31.63265306122449,32.6530612244898,33.673469387755105,34.69387755102041,35.714285714285715,36.734693877551024,37.755102040816325,38.775510204081634,39.79591836734694,40.816326530612244,41.83673469387755,42.85714285714286,43.87755102040816,44.89795918367347,45.91836734693878,46.93877551020408,47.95918367346939,48.9795918367347,50.0],\"y\":[1.140350341796875,1.140350341796875,1.139678955078125,1.139678955078125,1.139007568359375,1.139007568359375,1.139007568359375,1.139007568359375,1.139007568359375,1.139007568359375,1.139007568359375,1.139007568359375,1.139007568359375,1.139678955078125,1.139007568359375,1.139678955078125,1.139678955078125,1.139678955078125,1.139007568359375,1.139007568359375,1.139007568359375,1.139678955078125,1.139678955078125,1.139678955078125,1.139678955078125,1.139678955078125,1.139678955078125,1.139678955078125,1.139007568359375,1.139007568359375,1.139678955078125,1.139678955078125,1.139007568359375,1.139678955078125,1.139007568359375,1.139678955078125,1.139678955078125,1.139678955078125,1.139678955078125,1.139678955078125,1.139678955078125,1.139007568359375,1.139678955078125,1.139678955078125,1.139678955078125,1.1400146484375,1.139678955078125,1.139678955078125,1.139678955078125,1.139007568359375],\"type\":\"scatter\"},{\"mode\":\"lines+markers\",\"name\":\"voltages_ch2\",\"x\":[0.0,1.0204081632653061,2.0408163265306123,3.0612244897959187,4.081632653061225,5.1020408163265305,6.122448979591837,7.142857142857143,8.16326530612245,9.183673469387756,10.204081632653061,11.224489795918368,12.244897959183675,13.26530612244898,14.285714285714286,15.306122448979592,16.3265306122449,17.346938775510203,18.367346938775512,19.387755102040817,20.408163265306122,21.42857142857143,22.448979591836736,23.46938775510204,24.48979591836735,25.510204081632654,26.53061224489796,27.551020408163264,28.571428571428573,29.591836734693878,30.612244897959183,31.63265306122449,32.6530612244898,33.673469387755105,34.69387755102041,35.714285714285715,36.734693877551024,37.755102040816325,38.775510204081634,39.79591836734694,40.816326530612244,41.83673469387755,42.85714285714286,43.87755102040816,44.89795918367347,45.91836734693878,46.93877551020408,47.95918367346939,48.9795918367347,50.0],\"y\":[2.140380859375,2.140716552734375,2.140380859375,2.140045166015625,2.13970947265625,2.140045166015625,2.13970947265625,2.13970947265625,2.13970947265625,2.140045166015625,2.140045166015625,2.13970947265625,2.140045166015625,2.140045166015625,2.13970947265625,2.140045166015625,2.140045166015625,2.140045166015625,2.13970947265625,2.13970947265625,2.140045166015625,2.140045166015625,2.140045166015625,2.140045166015625,2.140045166015625,2.140045166015625,2.13970947265625,2.13970947265625,2.140045166015625,2.140045166015625,2.140045166015625,2.13970947265625,2.13970947265625,2.13970947265625,2.140045166015625,2.140045166015625,2.140045166015625,2.140045166015625,2.140045166015625,2.13970947265625,2.140045166015625,2.13970947265625,2.140045166015625,2.13970947265625,2.140045166015625,2.140045166015625,2.13970947265625,2.140380859375,2.13970947265625,2.13970947265625],\"type\":\"scatter\"},{\"mode\":\"lines+markers\",\"name\":\"voltages_ch3\",\"x\":[0.0,1.0204081632653061,2.0408163265306123,3.0612244897959187,4.081632653061225,5.1020408163265305,6.122448979591837,7.142857142857143,8.16326530612245,9.183673469387756,10.204081632653061,11.224489795918368,12.244897959183675,13.26530612244898,14.285714285714286,15.306122448979592,16.3265306122449,17.346938775510203,18.367346938775512,19.387755102040817,20.408163265306122,21.42857142857143,22.448979591836736,23.46938775510204,24.48979591836735,25.510204081632654,26.53061224489796,27.551020408163264,28.571428571428573,29.591836734693878,30.612244897959183,31.63265306122449,32.6530612244898,33.673469387755105,34.69387755102041,35.714285714285715,36.734693877551024,37.755102040816325,38.775510204081634,39.79591836734694,40.816326530612244,41.83673469387755,42.85714285714286,43.87755102040816,44.89795918367347,45.91836734693878,46.93877551020408,47.95918367346939,48.9795918367347,50.0],\"y\":[3.14007568359375,3.14007568359375,3.139739990234375,3.139739990234375,3.139404296875,3.139404296875,3.139404296875,3.139404296875,3.139739990234375,3.139404296875,3.139739990234375,3.139404296875,3.139404296875,3.139739990234375,3.139404296875,3.139404296875,3.139404296875,3.139739990234375,3.139404296875,3.139404296875,3.139404296875,3.139404296875,3.139068603515625,3.139404296875,3.139404296875,3.139739990234375,3.139404296875,3.139404296875,3.139404296875,3.139404296875,3.139404296875,3.139404296875,3.139739990234375,3.139404296875,3.139404296875,3.139739990234375,3.139404296875,3.139404296875,3.139404296875,3.139739990234375,3.139739990234375,3.139404296875,3.139739990234375,3.139404296875,3.139404296875,3.139739990234375,3.139404296875,3.139404296875,3.139404296875,3.139404296875],\"type\":\"scatter\"},{\"mode\":\"lines+markers\",\"name\":\"voltages_ch4\",\"x\":[0.0,1.0204081632653061,2.0408163265306123,3.0612244897959187,4.081632653061225,5.1020408163265305,6.122448979591837,7.142857142857143,8.16326530612245,9.183673469387756,10.204081632653061,11.224489795918368,12.244897959183675,13.26530612244898,14.285714285714286,15.306122448979592,16.3265306122449,17.346938775510203,18.367346938775512,19.387755102040817,20.408163265306122,21.42857142857143,22.448979591836736,23.46938775510204,24.48979591836735,25.510204081632654,26.53061224489796,27.551020408163264,28.571428571428573,29.591836734693878,30.612244897959183,31.63265306122449,32.6530612244898,33.673469387755105,34.69387755102041,35.714285714285715,36.734693877551024,37.755102040816325,38.775510204081634,39.79591836734694,40.816326530612244,41.83673469387755,42.85714285714286,43.87755102040816,44.89795918367347,45.91836734693878,46.93877551020408,47.95918367346939,48.9795918367347,50.0],\"y\":[4.14044189453125,4.14044189453125,4.140106201171875,4.1397705078125,4.139434814453125,4.139434814453125,4.1397705078125,4.140106201171875,4.1397705078125,4.1397705078125,4.1397705078125,4.1397705078125,4.1397705078125,4.139434814453125,4.139434814453125,4.1397705078125,4.1397705078125,4.1397705078125,4.1397705078125,4.1397705078125,4.139434814453125,4.1397705078125,4.1397705078125,4.139434814453125,4.1397705078125,4.1397705078125,4.1397705078125,4.1397705078125,4.1397705078125,4.139434814453125,4.1397705078125,4.1397705078125,4.139434814453125,4.139434814453125,4.139434814453125,4.1397705078125,4.1397705078125,4.139434814453125,4.1397705078125,4.1397705078125,4.1397705078125,4.1397705078125,4.1397705078125,4.1397705078125,4.1397705078125,4.1397705078125,4.1397705078125,4.139434814453125,4.1397705078125,4.1397705078125],\"type\":\"scatter\"}],                        {\"template\":{\"data\":{\"histogram2dcontour\":[{\"type\":\"histogram2dcontour\",\"colorbar\":{\"outlinewidth\":0,\"ticks\":\"\"},\"colorscale\":[[0.0,\"#0d0887\"],[0.1111111111111111,\"#46039f\"],[0.2222222222222222,\"#7201a8\"],[0.3333333333333333,\"#9c179e\"],[0.4444444444444444,\"#bd3786\"],[0.5555555555555556,\"#d8576b\"],[0.6666666666666666,\"#ed7953\"],[0.7777777777777778,\"#fb9f3a\"],[0.8888888888888888,\"#fdca26\"],[1.0,\"#f0f921\"]]}],\"choropleth\":[{\"type\":\"choropleth\",\"colorbar\":{\"outlinewidth\":0,\"ticks\":\"\"}}],\"histogram2d\":[{\"type\":\"histogram2d\",\"colorbar\":{\"outlinewidth\":0,\"ticks\":\"\"},\"colorscale\":[[0.0,\"#0d0887\"],[0.1111111111111111,\"#46039f\"],[0.2222222222222222,\"#7201a8\"],[0.3333333333333333,\"#9c179e\"],[0.4444444444444444,\"#bd3786\"],[0.5555555555555556,\"#d8576b\"],[0.6666666666666666,\"#ed7953\"],[0.7777777777777778,\"#fb9f3a\"],[0.8888888888888888,\"#fdca26\"],[1.0,\"#f0f921\"]]}],\"heatmap\":[{\"type\":\"heatmap\",\"colorbar\":{\"outlinewidth\":0,\"ticks\":\"\"},\"colorscale\":[[0.0,\"#0d0887\"],[0.1111111111111111,\"#46039f\"],[0.2222222222222222,\"#7201a8\"],[0.3333333333333333,\"#9c179e\"],[0.4444444444444444,\"#bd3786\"],[0.5555555555555556,\"#d8576b\"],[0.6666666666666666,\"#ed7953\"],[0.7777777777777778,\"#fb9f3a\"],[0.8888888888888888,\"#fdca26\"],[1.0,\"#f0f921\"]]}],\"heatmapgl\":[{\"type\":\"heatmapgl\",\"colorbar\":{\"outlinewidth\":0,\"ticks\":\"\"},\"colorscale\":[[0.0,\"#0d0887\"],[0.1111111111111111,\"#46039f\"],[0.2222222222222222,\"#7201a8\"],[0.3333333333333333,\"#9c179e\"],[0.4444444444444444,\"#bd3786\"],[0.5555555555555556,\"#d8576b\"],[0.6666666666666666,\"#ed7953\"],[0.7777777777777778,\"#fb9f3a\"],[0.8888888888888888,\"#fdca26\"],[1.0,\"#f0f921\"]]}],\"contourcarpet\":[{\"type\":\"contourcarpet\",\"colorbar\":{\"outlinewidth\":0,\"ticks\":\"\"}}],\"contour\":[{\"type\":\"contour\",\"colorbar\":{\"outlinewidth\":0,\"ticks\":\"\"},\"colorscale\":[[0.0,\"#0d0887\"],[0.1111111111111111,\"#46039f\"],[0.2222222222222222,\"#7201a8\"],[0.3333333333333333,\"#9c179e\"],[0.4444444444444444,\"#bd3786\"],[0.5555555555555556,\"#d8576b\"],[0.6666666666666666,\"#ed7953\"],[0.7777777777777778,\"#fb9f3a\"],[0.8888888888888888,\"#fdca26\"],[1.0,\"#f0f921\"]]}],\"surface\":[{\"type\":\"surface\",\"colorbar\":{\"outlinewidth\":0,\"ticks\":\"\"},\"colorscale\":[[0.0,\"#0d0887\"],[0.1111111111111111,\"#46039f\"],[0.2222222222222222,\"#7201a8\"],[0.3333333333333333,\"#9c179e\"],[0.4444444444444444,\"#bd3786\"],[0.5555555555555556,\"#d8576b\"],[0.6666666666666666,\"#ed7953\"],[0.7777777777777778,\"#fb9f3a\"],[0.8888888888888888,\"#fdca26\"],[1.0,\"#f0f921\"]]}],\"mesh3d\":[{\"type\":\"mesh3d\",\"colorbar\":{\"outlinewidth\":0,\"ticks\":\"\"}}],\"scatter\":[{\"fillpattern\":{\"fillmode\":\"overlay\",\"size\":10,\"solidity\":0.2},\"type\":\"scatter\"}],\"parcoords\":[{\"type\":\"parcoords\",\"line\":{\"colorbar\":{\"outlinewidth\":0,\"ticks\":\"\"}}}],\"scatterpolargl\":[{\"type\":\"scatterpolargl\",\"marker\":{\"colorbar\":{\"outlinewidth\":0,\"ticks\":\"\"}}}],\"bar\":[{\"error_x\":{\"color\":\"#2a3f5f\"},\"error_y\":{\"color\":\"#2a3f5f\"},\"marker\":{\"line\":{\"color\":\"#E5ECF6\",\"width\":0.5},\"pattern\":{\"fillmode\":\"overlay\",\"size\":10,\"solidity\":0.2}},\"type\":\"bar\"}],\"scattergeo\":[{\"type\":\"scattergeo\",\"marker\":{\"colorbar\":{\"outlinewidth\":0,\"ticks\":\"\"}}}],\"scatterpolar\":[{\"type\":\"scatterpolar\",\"marker\":{\"colorbar\":{\"outlinewidth\":0,\"ticks\":\"\"}}}],\"histogram\":[{\"marker\":{\"pattern\":{\"fillmode\":\"overlay\",\"size\":10,\"solidity\":0.2}},\"type\":\"histogram\"}],\"scattergl\":[{\"type\":\"scattergl\",\"marker\":{\"colorbar\":{\"outlinewidth\":0,\"ticks\":\"\"}}}],\"scatter3d\":[{\"type\":\"scatter3d\",\"line\":{\"colorbar\":{\"outlinewidth\":0,\"ticks\":\"\"}},\"marker\":{\"colorbar\":{\"outlinewidth\":0,\"ticks\":\"\"}}}],\"scattermapbox\":[{\"type\":\"scattermapbox\",\"marker\":{\"colorbar\":{\"outlinewidth\":0,\"ticks\":\"\"}}}],\"scatterternary\":[{\"type\":\"scatterternary\",\"marker\":{\"colorbar\":{\"outlinewidth\":0,\"ticks\":\"\"}}}],\"scattercarpet\":[{\"type\":\"scattercarpet\",\"marker\":{\"colorbar\":{\"outlinewidth\":0,\"ticks\":\"\"}}}],\"carpet\":[{\"aaxis\":{\"endlinecolor\":\"#2a3f5f\",\"gridcolor\":\"white\",\"linecolor\":\"white\",\"minorgridcolor\":\"white\",\"startlinecolor\":\"#2a3f5f\"},\"baxis\":{\"endlinecolor\":\"#2a3f5f\",\"gridcolor\":\"white\",\"linecolor\":\"white\",\"minorgridcolor\":\"white\",\"startlinecolor\":\"#2a3f5f\"},\"type\":\"carpet\"}],\"table\":[{\"cells\":{\"fill\":{\"color\":\"#EBF0F8\"},\"line\":{\"color\":\"white\"}},\"header\":{\"fill\":{\"color\":\"#C8D4E3\"},\"line\":{\"color\":\"white\"}},\"type\":\"table\"}],\"barpolar\":[{\"marker\":{\"line\":{\"color\":\"#E5ECF6\",\"width\":0.5},\"pattern\":{\"fillmode\":\"overlay\",\"size\":10,\"solidity\":0.2}},\"type\":\"barpolar\"}],\"pie\":[{\"automargin\":true,\"type\":\"pie\"}]},\"layout\":{\"autotypenumbers\":\"strict\",\"colorway\":[\"#636efa\",\"#EF553B\",\"#00cc96\",\"#ab63fa\",\"#FFA15A\",\"#19d3f3\",\"#FF6692\",\"#B6E880\",\"#FF97FF\",\"#FECB52\"],\"font\":{\"color\":\"#2a3f5f\"},\"hovermode\":\"closest\",\"hoverlabel\":{\"align\":\"left\"},\"paper_bgcolor\":\"white\",\"plot_bgcolor\":\"#E5ECF6\",\"polar\":{\"bgcolor\":\"#E5ECF6\",\"angularaxis\":{\"gridcolor\":\"white\",\"linecolor\":\"white\",\"ticks\":\"\"},\"radialaxis\":{\"gridcolor\":\"white\",\"linecolor\":\"white\",\"ticks\":\"\"}},\"ternary\":{\"bgcolor\":\"#E5ECF6\",\"aaxis\":{\"gridcolor\":\"white\",\"linecolor\":\"white\",\"ticks\":\"\"},\"baxis\":{\"gridcolor\":\"white\",\"linecolor\":\"white\",\"ticks\":\"\"},\"caxis\":{\"gridcolor\":\"white\",\"linecolor\":\"white\",\"ticks\":\"\"}},\"coloraxis\":{\"colorbar\":{\"outlinewidth\":0,\"ticks\":\"\"}},\"colorscale\":{\"sequential\":[[0.0,\"#0d0887\"],[0.1111111111111111,\"#46039f\"],[0.2222222222222222,\"#7201a8\"],[0.3333333333333333,\"#9c179e\"],[0.4444444444444444,\"#bd3786\"],[0.5555555555555556,\"#d8576b\"],[0.6666666666666666,\"#ed7953\"],[0.7777777777777778,\"#fb9f3a\"],[0.8888888888888888,\"#fdca26\"],[1.0,\"#f0f921\"]],\"sequentialminus\":[[0.0,\"#0d0887\"],[0.1111111111111111,\"#46039f\"],[0.2222222222222222,\"#7201a8\"],[0.3333333333333333,\"#9c179e\"],[0.4444444444444444,\"#bd3786\"],[0.5555555555555556,\"#d8576b\"],[0.6666666666666666,\"#ed7953\"],[0.7777777777777778,\"#fb9f3a\"],[0.8888888888888888,\"#fdca26\"],[1.0,\"#f0f921\"]],\"diverging\":[[0,\"#8e0152\"],[0.1,\"#c51b7d\"],[0.2,\"#de77ae\"],[0.3,\"#f1b6da\"],[0.4,\"#fde0ef\"],[0.5,\"#f7f7f7\"],[0.6,\"#e6f5d0\"],[0.7,\"#b8e186\"],[0.8,\"#7fbc41\"],[0.9,\"#4d9221\"],[1,\"#276419\"]]},\"xaxis\":{\"gridcolor\":\"white\",\"linecolor\":\"white\",\"ticks\":\"\",\"title\":{\"standoff\":15},\"zerolinecolor\":\"white\",\"automargin\":true,\"zerolinewidth\":2},\"yaxis\":{\"gridcolor\":\"white\",\"linecolor\":\"white\",\"ticks\":\"\",\"title\":{\"standoff\":15},\"zerolinecolor\":\"white\",\"automargin\":true,\"zerolinewidth\":2},\"scene\":{\"xaxis\":{\"backgroundcolor\":\"#E5ECF6\",\"gridcolor\":\"white\",\"linecolor\":\"white\",\"showbackground\":true,\"ticks\":\"\",\"zerolinecolor\":\"white\",\"gridwidth\":2},\"yaxis\":{\"backgroundcolor\":\"#E5ECF6\",\"gridcolor\":\"white\",\"linecolor\":\"white\",\"showbackground\":true,\"ticks\":\"\",\"zerolinecolor\":\"white\",\"gridwidth\":2},\"zaxis\":{\"backgroundcolor\":\"#E5ECF6\",\"gridcolor\":\"white\",\"linecolor\":\"white\",\"showbackground\":true,\"ticks\":\"\",\"zerolinecolor\":\"white\",\"gridwidth\":2}},\"shapedefaults\":{\"line\":{\"color\":\"#2a3f5f\"}},\"annotationdefaults\":{\"arrowcolor\":\"#2a3f5f\",\"arrowhead\":0,\"arrowwidth\":1},\"geo\":{\"bgcolor\":\"white\",\"landcolor\":\"#E5ECF6\",\"subunitcolor\":\"white\",\"showland\":true,\"showlakes\":true,\"lakecolor\":\"white\"},\"title\":{\"x\":0.05},\"mapbox\":{\"style\":\"light\"}}},\"title\":{\"text\":\"4 channel measurement\",\"y\":0.9,\"x\":0.5,\"xanchor\":\"center\",\"yanchor\":\"top\"},\"margin\":{\"l\":20,\"r\":20,\"t\":55,\"b\":20},\"xaxis\":{\"title\":{\"text\":\"Measurement repetition number\"}},\"yaxis\":{\"title\":{\"text\":\"Voltage [V]\"}}},                        {\"responsive\": true}                    ).then(function(){\n",
       "                            \n",
       "var gd = document.getElementById('3807d597-d32e-4e39-9c1e-112d10faab9a');\n",
       "var x = new MutationObserver(function (mutations, observer) {{\n",
       "        var display = window.getComputedStyle(gd).display;\n",
       "        if (!display || display === 'none') {{\n",
       "            console.log([gd, 'removed!']);\n",
       "            Plotly.purge(gd);\n",
       "            observer.disconnect();\n",
       "        }}\n",
       "}});\n",
       "\n",
       "// Listen for the removal of the full notebook cells\n",
       "var notebookContainer = gd.closest('#notebook-container');\n",
       "if (notebookContainer) {{\n",
       "    x.observe(notebookContainer, {childList: true});\n",
       "}}\n",
       "\n",
       "// Listen for the clearing of the current output cell\n",
       "var outputEl = gd.closest('.output');\n",
       "if (outputEl) {{\n",
       "    x.observe(outputEl, {childList: true});\n",
       "}}\n",
       "\n",
       "                        })                };                });            </script>        </div>"
      ]
     },
     "metadata": {},
     "output_type": "display_data"
    }
   ],
   "source": [
    "voltages_ch1 = channel1.measure_voltages(50)\n",
    "voltages_ch2 = channel2.measure_voltages(50)\n",
    "voltages_ch3 = channel3.measure_voltages(50)\n",
    "voltages_ch4 = channel4.measure_voltages(50)\n",
    "\n",
    "x_ = np.linspace(0, 50, 50)\n",
    "# Create traces\n",
    "fig = go.Figure()\n",
    "fig.add_trace(go.Scatter(x=x_, y=voltages_ch1,\n",
    "                    mode='lines+markers',\n",
    "                    name='voltages_ch1'))\n",
    "fig.add_trace(go.Scatter(x=x_, y=voltages_ch2,\n",
    "                    mode='lines+markers',\n",
    "                    name='voltages_ch2'))\n",
    "fig.add_trace(go.Scatter(x=x_, y=voltages_ch3,\n",
    "                    mode='lines+markers',\n",
    "                    name='voltages_ch3'))\n",
    "fig.add_trace(go.Scatter(x=x_, y=voltages_ch4,\n",
    "                    mode='lines+markers',\n",
    "                    name='voltages_ch4'))\n",
    "fig.update_layout(  title={'text': \"4 channel measurement\",  'y':0.9,  'x':0.5, 'xanchor': 'center',  'yanchor': 'top'},\n",
    "                   xaxis_title='Measurement repetition number',  yaxis_title='Voltage [V]', margin=dict(l=20, r=20, t=55, b=20))\n",
    "fig\n",
    "#uncomment in pure python script:\n",
    "#fig.show()"
   ]
  },
  {
   "cell_type": "markdown",
   "id": "011baa6b-a2b2-40bf-a2c5-a760ed7f87c1",
   "metadata": {},
   "source": [
    "Do not forget to shut down the services before proceeding:"
   ]
  },
  {
   "cell_type": "code",
   "execution_count": 7,
   "id": "509ee35a-22c4-4745-ba1f-5a8578ba7194",
   "metadata": {},
   "outputs": [],
   "source": [
    "srunner.shutdown()"
   ]
  }
 ],
 "metadata": {
  "kernelspec": {
   "display_name": "Python 3 (ipykernel)",
   "language": "python",
   "name": "python3"
  },
  "language_info": {
   "codemirror_mode": {
    "name": "ipython",
    "version": 3
   },
   "file_extension": ".py",
   "mimetype": "text/x-python",
   "name": "python",
   "nbconvert_exporter": "python",
   "pygments_lexer": "ipython3",
   "version": "3.9.13"
  }
 },
 "nbformat": 4,
 "nbformat_minor": 5
}
