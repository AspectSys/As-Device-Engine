{
 "cells": [
  {
   "cell_type": "markdown",
   "id": "c91dc1a0-913f-418c-8490-339e69b657e0",
   "metadata": {},
   "source": [
    "# Part 5: IV Measurements"
   ]
  },
  {
   "cell_type": "markdown",
   "id": "201fe7e4-eb1d-4fe9-bd80-018f6b01af0a",
   "metadata": {},
   "source": [
    "This is the fith introductory overview of programming the Aspect Device Engine Python API.  \n",
    "This document is available as pdf and interactive jupyter notebook.\n",
    "The introduction includes the following objectives:\n",
    "- Performing IV sweeps\n",
    "- Working with autoranging in IV-sweeps\n",
    "\n",
    "Please note: This chapter shows how to perform simple IV sweeps in software.  \n",
    "For more advanced IV sweeps, see the next chapter ‘List Sweeps’. \n",
    "\n",
    "---"
   ]
  },
  {
   "cell_type": "code",
   "execution_count": 19,
   "id": "c6360e48-e39e-4756-b7aa-1c7ef460401c",
   "metadata": {},
   "outputs": [],
   "source": [
    "from aspectdeviceengine.enginecore import IdSmuService, IdSmuServiceRunner, IdSmuBoardModel, MeasurementMode, FunctionGeneratorType, generate_function_generator_data, CurrentRange\n",
    "from aspectdeviceengine.enginecore import IdSmuBoardModel, ListSweepChannelConfiguration, ListSweep\n",
    "import plotly.graph_objects as go\n",
    "import numpy as np\n",
    "srunner = IdSmuServiceRunner()"
   ]
  },
  {
   "cell_type": "markdown",
   "id": "d0828b58-d89d-41ef-95f8-224da1004ad2",
   "metadata": {},
   "source": [
    "A few preparatory measures, nothing new here:"
   ]
  },
  {
   "cell_type": "code",
   "execution_count": 20,
   "id": "15d734a2-90fd-482a-a270-0e43b8a5dc0a",
   "metadata": {},
   "outputs": [
    {
     "name": "stdout",
     "output_type": "stream",
     "text": [
      "True\n"
     ]
    }
   ],
   "source": [
    "# Inintialization and preparation:\n",
    "mbX1 : IdSmuBoardModel = srunner.get_idsmu_service().get_first_board()\n",
    "print(mbX1.is_board_initialized())\n",
    "device_id = \"M1.S1\"\n",
    "channel1_id = f'{device_id}.C1'\n",
    "channel2_id = f'{device_id}.C2'\n",
    "channel_list = [channel1_id, channel2_id]\n",
    "\n",
    "mbX1.set_voltages(1, channel_list)\n",
    "mbX1.set_enable_channels(True,channel_list )\n",
    "mbX1.set_measurement_modes(MeasurementMode.isense, channel_list)\n",
    "mbX1.set_current_ranges(CurrentRange.Range_2mA_SMU, channel_list)"
   ]
  },
  {
   "cell_type": "markdown",
   "id": "436f7999-22c8-48a9-b235-8298b71d21a0",
   "metadata": {},
   "source": [
    "We define a simple helper function that can perform a software sweep.  \n",
    "It returns the force values, the measured values and the current range for each step:"
   ]
  },
  {
   "cell_type": "code",
   "execution_count": 21,
   "id": "d0e50844-0fd4-43fc-b4c8-b1a16f3edb54",
   "metadata": {},
   "outputs": [],
   "source": [
    "def sw_sweep(start, stop, step):\n",
    "    force_values = np.arange(start,stop+step, step)\n",
    "    ch1_results = np.zeros(len(force_values))\n",
    "    ch2_results = np.zeros(len(force_values))\n",
    "    ch1_ranges = []\n",
    "    ch2_ranges = []\n",
    "    for i, voltage in enumerate(force_values):\n",
    "        mbX1.set_voltages(voltage, channel_list)\n",
    "        measresults = mbX1.measure_channels(wait_for_result=False, sample_count=1, repetitions=1, channel_names=channel_list)\n",
    "        measresult0 = mbX1.get_measurement_results_for_channel(channel1_id)\n",
    "        ch1_ranges.append(mbX1.idSmu2Modules['M1.S1'].smu.channels[channel1_id].current_range.name)\n",
    "        ch2_ranges.append(mbX1.idSmu2Modules['M1.S1'].smu.channels[channel2_id].current_range.name)\n",
    "        ch1_results[i] = measresult0[channel1_id][0]\n",
    "        ch2_results[i] = measresult0[channel2_id][0]\n",
    "    return (force_values, ch1_results, ch2_results, ch1_ranges,ch2_ranges)"
   ]
  },
  {
   "cell_type": "markdown",
   "id": "395b9b72-5e82-475b-a80d-250690564206",
   "metadata": {},
   "source": [
    "### Autoranging in manual IV sweeps\n",
    "The first step is to perform the sweep with autoranging deactivated. \n",
    "The respective current range is then output for each step."
   ]
  },
  {
   "cell_type": "code",
   "execution_count": 22,
   "id": "c74f633d-2942-4b01-ba8f-c6625ce94fd7",
   "metadata": {},
   "outputs": [
    {
     "name": "stdout",
     "output_type": "stream",
     "text": [
      "['Range_200uA', 'Range_200uA', 'Range_200uA', 'Range_200uA', 'Range_200uA', 'Range_200uA', 'Range_200uA', 'Range_200uA', 'Range_200uA', 'Range_200uA', 'Range_200uA', 'Range_200uA', 'Range_200uA', 'Range_200uA', 'Range_200uA', 'Range_200uA']\n"
     ]
    }
   ],
   "source": [
    "mbX1.set_current_ranges(CurrentRange.Range_200uA_SMU, channel_list)\n",
    "mbX1.enable_autorange(False, ['M1.S1.C1'])\n",
    "mbX1.set_voltages(1, channel_list)\n",
    "sweep_without_autorange = sw_sweep(1,4, 0.2)\n",
    "print(sweep_without_autorange[3])"
   ]
  },
  {
   "cell_type": "markdown",
   "id": "62cdf6be-0836-4ddb-8b1d-f4dace66d22c",
   "metadata": {},
   "source": [
    "Autoranging is performed for both channels using the `enable_autorange()` method:"
   ]
  },
  {
   "cell_type": "code",
   "execution_count": 23,
   "id": "5bc43ad3-a781-4866-88b5-a57289e56a56",
   "metadata": {},
   "outputs": [
    {
     "name": "stdout",
     "output_type": "stream",
     "text": [
      "True\n",
      "['Range_2mA', 'Range_5uA', 'Range_5uA', 'Range_5uA', 'Range_5uA', 'Range_5uA', 'Range_5uA', 'Range_5uA', 'Range_70mA', 'Range_5uA', 'Range_70mA', 'Range_5uA', 'Range_70mA', 'Range_5uA', 'Range_70mA', 'Range_5uA']\n"
     ]
    }
   ],
   "source": [
    "mbX1.enable_autorange(True, channel_list)\n",
    "#Alternatively, autoranging can also be queried or set via the properties/setter of a channel\n",
    "print(mbX1.idSmu2Modules['M1.S1'].smu.channels[channel1_id].autorange)\n",
    "sweep_with_autorange = sw_sweep(1,4, 0.2)\n",
    "print(sweep_with_autorange[4])"
   ]
  },
  {
   "cell_type": "markdown",
   "id": "bf5335af-4480-4ce2-af6a-bcbcc34e66fe",
   "metadata": {},
   "source": [
    "### Plotting the results\n",
    "The following plots show the difference between the sweep with and without autorange. \n",
    "With a fixed value of 200uA, the current curve saturates at approximately this value.  \n",
    "With an autorange set, the better resolution at low currents becomes clear. \n",
    "The curve does not saturate and reaches around 500uA. The plots are annotated with the current ranges:  \n",
    "*(Note: the enum prefixes 'Range_' are removed for better readability)*"
   ]
  },
  {
   "cell_type": "code",
   "execution_count": 24,
   "id": "1278c1d0-5020-4b7e-ae49-c3835d3319a7",
   "metadata": {},
   "outputs": [
    {
     "data": {
      "application/vnd.plotly.v1+json": {
       "config": {
        "plotlyServerURL": "https://plot.ly"
       },
       "data": [
        {
         "mode": "lines+markers+text",
         "name": "LED",
         "text": [
          "200uA",
          "200uA",
          "200uA",
          "200uA",
          "200uA",
          "200uA",
          "200uA",
          "200uA",
          "200uA",
          "200uA",
          "200uA",
          "200uA",
          "200uA",
          "200uA",
          "200uA",
          "200uA"
         ],
         "textposition": "top center",
         "type": "scatter",
         "x": [
          1,
          1.2,
          1.4,
          1.5999999999999999,
          1.7999999999999998,
          1.9999999999999998,
          2.1999999999999997,
          2.3999999999999995,
          2.5999999999999996,
          2.8,
          2.9999999999999996,
          3.1999999999999993,
          3.3999999999999995,
          3.5999999999999996,
          3.7999999999999994,
          3.999999999999999
         ],
         "xaxis": "x",
         "y": [
          -1.3427734375e-08,
          1.3427734375e-08,
          1.6784667968750002e-07,
          5.787353515625e-06,
          3.219970703125e-05,
          6.968994140625001e-05,
          0.00011195373535156251,
          0.000156580810546875,
          0.00020262451171875002,
          0.0002383892822265625,
          0.00024220275878906252,
          0.000242196044921875,
          0.0002421759033203125,
          0.0002421893310546875,
          0.00024218261718750002,
          0.0002421893310546875
         ],
         "yaxis": "y"
        },
        {
         "mode": "lines+markers+text",
         "name": "LED",
         "text": [
          "2mA",
          "5uA",
          "5uA",
          "5uA",
          "70mA",
          "5uA",
          "70mA",
          "5uA",
          "70mA",
          "5uA",
          "70mA",
          "5uA",
          "70mA",
          "5uA",
          "70mA",
          "5uA"
         ],
         "textposition": "top center",
         "type": "scatter",
         "x": [
          1,
          1.2,
          1.4,
          1.5999999999999999,
          1.7999999999999998,
          1.9999999999999998,
          2.1999999999999997,
          2.3999999999999995,
          2.5999999999999996,
          2.8,
          2.9999999999999996,
          3.1999999999999993,
          3.3999999999999995,
          3.5999999999999996,
          3.7999999999999994,
          3.999999999999999
         ],
         "xaxis": "x2",
         "y": [
          2.01416015625e-07,
          6.04248046875e-09,
          9.197998046874999e-08,
          3.1783447265624997e-06,
          2.7465820312499997e-05,
          6.064300537109375e-06,
          0.000112152099609375,
          6.0646362304687496e-06,
          0.00019683837890625,
          6.064804077148438e-06,
          0.000299835205078125,
          6.045669555664062e-06,
          0.00038681030273437497,
          5.9833984375e-06,
          0.000487518310546875,
          6.064804077148438e-06
         ],
         "yaxis": "y2"
        }
       ],
       "layout": {
        "annotations": [
         {
          "font": {
           "size": 16
          },
          "showarrow": false,
          "text": "LED current vs voltage",
          "x": 0.5,
          "xanchor": "center",
          "xref": "paper",
          "y": 1,
          "yanchor": "bottom",
          "yref": "paper"
         },
         {
          "font": {
           "size": 16
          },
          "showarrow": false,
          "text": "LED current vs voltage",
          "x": 0.5,
          "xanchor": "center",
          "xref": "paper",
          "y": 0.375,
          "yanchor": "bottom",
          "yref": "paper"
         }
        ],
        "autosize": true,
        "template": {
         "data": {
          "bar": [
           {
            "error_x": {
             "color": "#2a3f5f"
            },
            "error_y": {
             "color": "#2a3f5f"
            },
            "marker": {
             "line": {
              "color": "#E5ECF6",
              "width": 0.5
             },
             "pattern": {
              "fillmode": "overlay",
              "size": 10,
              "solidity": 0.2
             }
            },
            "type": "bar"
           }
          ],
          "barpolar": [
           {
            "marker": {
             "line": {
              "color": "#E5ECF6",
              "width": 0.5
             },
             "pattern": {
              "fillmode": "overlay",
              "size": 10,
              "solidity": 0.2
             }
            },
            "type": "barpolar"
           }
          ],
          "carpet": [
           {
            "aaxis": {
             "endlinecolor": "#2a3f5f",
             "gridcolor": "white",
             "linecolor": "white",
             "minorgridcolor": "white",
             "startlinecolor": "#2a3f5f"
            },
            "baxis": {
             "endlinecolor": "#2a3f5f",
             "gridcolor": "white",
             "linecolor": "white",
             "minorgridcolor": "white",
             "startlinecolor": "#2a3f5f"
            },
            "type": "carpet"
           }
          ],
          "choropleth": [
           {
            "colorbar": {
             "outlinewidth": 0,
             "ticks": ""
            },
            "type": "choropleth"
           }
          ],
          "contour": [
           {
            "colorbar": {
             "outlinewidth": 0,
             "ticks": ""
            },
            "colorscale": [
             [
              0,
              "#0d0887"
             ],
             [
              0.1111111111111111,
              "#46039f"
             ],
             [
              0.2222222222222222,
              "#7201a8"
             ],
             [
              0.3333333333333333,
              "#9c179e"
             ],
             [
              0.4444444444444444,
              "#bd3786"
             ],
             [
              0.5555555555555556,
              "#d8576b"
             ],
             [
              0.6666666666666666,
              "#ed7953"
             ],
             [
              0.7777777777777778,
              "#fb9f3a"
             ],
             [
              0.8888888888888888,
              "#fdca26"
             ],
             [
              1,
              "#f0f921"
             ]
            ],
            "type": "contour"
           }
          ],
          "contourcarpet": [
           {
            "colorbar": {
             "outlinewidth": 0,
             "ticks": ""
            },
            "type": "contourcarpet"
           }
          ],
          "heatmap": [
           {
            "colorbar": {
             "outlinewidth": 0,
             "ticks": ""
            },
            "colorscale": [
             [
              0,
              "#0d0887"
             ],
             [
              0.1111111111111111,
              "#46039f"
             ],
             [
              0.2222222222222222,
              "#7201a8"
             ],
             [
              0.3333333333333333,
              "#9c179e"
             ],
             [
              0.4444444444444444,
              "#bd3786"
             ],
             [
              0.5555555555555556,
              "#d8576b"
             ],
             [
              0.6666666666666666,
              "#ed7953"
             ],
             [
              0.7777777777777778,
              "#fb9f3a"
             ],
             [
              0.8888888888888888,
              "#fdca26"
             ],
             [
              1,
              "#f0f921"
             ]
            ],
            "type": "heatmap"
           }
          ],
          "heatmapgl": [
           {
            "colorbar": {
             "outlinewidth": 0,
             "ticks": ""
            },
            "colorscale": [
             [
              0,
              "#0d0887"
             ],
             [
              0.1111111111111111,
              "#46039f"
             ],
             [
              0.2222222222222222,
              "#7201a8"
             ],
             [
              0.3333333333333333,
              "#9c179e"
             ],
             [
              0.4444444444444444,
              "#bd3786"
             ],
             [
              0.5555555555555556,
              "#d8576b"
             ],
             [
              0.6666666666666666,
              "#ed7953"
             ],
             [
              0.7777777777777778,
              "#fb9f3a"
             ],
             [
              0.8888888888888888,
              "#fdca26"
             ],
             [
              1,
              "#f0f921"
             ]
            ],
            "type": "heatmapgl"
           }
          ],
          "histogram": [
           {
            "marker": {
             "pattern": {
              "fillmode": "overlay",
              "size": 10,
              "solidity": 0.2
             }
            },
            "type": "histogram"
           }
          ],
          "histogram2d": [
           {
            "colorbar": {
             "outlinewidth": 0,
             "ticks": ""
            },
            "colorscale": [
             [
              0,
              "#0d0887"
             ],
             [
              0.1111111111111111,
              "#46039f"
             ],
             [
              0.2222222222222222,
              "#7201a8"
             ],
             [
              0.3333333333333333,
              "#9c179e"
             ],
             [
              0.4444444444444444,
              "#bd3786"
             ],
             [
              0.5555555555555556,
              "#d8576b"
             ],
             [
              0.6666666666666666,
              "#ed7953"
             ],
             [
              0.7777777777777778,
              "#fb9f3a"
             ],
             [
              0.8888888888888888,
              "#fdca26"
             ],
             [
              1,
              "#f0f921"
             ]
            ],
            "type": "histogram2d"
           }
          ],
          "histogram2dcontour": [
           {
            "colorbar": {
             "outlinewidth": 0,
             "ticks": ""
            },
            "colorscale": [
             [
              0,
              "#0d0887"
             ],
             [
              0.1111111111111111,
              "#46039f"
             ],
             [
              0.2222222222222222,
              "#7201a8"
             ],
             [
              0.3333333333333333,
              "#9c179e"
             ],
             [
              0.4444444444444444,
              "#bd3786"
             ],
             [
              0.5555555555555556,
              "#d8576b"
             ],
             [
              0.6666666666666666,
              "#ed7953"
             ],
             [
              0.7777777777777778,
              "#fb9f3a"
             ],
             [
              0.8888888888888888,
              "#fdca26"
             ],
             [
              1,
              "#f0f921"
             ]
            ],
            "type": "histogram2dcontour"
           }
          ],
          "mesh3d": [
           {
            "colorbar": {
             "outlinewidth": 0,
             "ticks": ""
            },
            "type": "mesh3d"
           }
          ],
          "parcoords": [
           {
            "line": {
             "colorbar": {
              "outlinewidth": 0,
              "ticks": ""
             }
            },
            "type": "parcoords"
           }
          ],
          "pie": [
           {
            "automargin": true,
            "type": "pie"
           }
          ],
          "scatter": [
           {
            "fillpattern": {
             "fillmode": "overlay",
             "size": 10,
             "solidity": 0.2
            },
            "type": "scatter"
           }
          ],
          "scatter3d": [
           {
            "line": {
             "colorbar": {
              "outlinewidth": 0,
              "ticks": ""
             }
            },
            "marker": {
             "colorbar": {
              "outlinewidth": 0,
              "ticks": ""
             }
            },
            "type": "scatter3d"
           }
          ],
          "scattercarpet": [
           {
            "marker": {
             "colorbar": {
              "outlinewidth": 0,
              "ticks": ""
             }
            },
            "type": "scattercarpet"
           }
          ],
          "scattergeo": [
           {
            "marker": {
             "colorbar": {
              "outlinewidth": 0,
              "ticks": ""
             }
            },
            "type": "scattergeo"
           }
          ],
          "scattergl": [
           {
            "marker": {
             "colorbar": {
              "outlinewidth": 0,
              "ticks": ""
             }
            },
            "type": "scattergl"
           }
          ],
          "scattermapbox": [
           {
            "marker": {
             "colorbar": {
              "outlinewidth": 0,
              "ticks": ""
             }
            },
            "type": "scattermapbox"
           }
          ],
          "scatterpolar": [
           {
            "marker": {
             "colorbar": {
              "outlinewidth": 0,
              "ticks": ""
             }
            },
            "type": "scatterpolar"
           }
          ],
          "scatterpolargl": [
           {
            "marker": {
             "colorbar": {
              "outlinewidth": 0,
              "ticks": ""
             }
            },
            "type": "scatterpolargl"
           }
          ],
          "scatterternary": [
           {
            "marker": {
             "colorbar": {
              "outlinewidth": 0,
              "ticks": ""
             }
            },
            "type": "scatterternary"
           }
          ],
          "surface": [
           {
            "colorbar": {
             "outlinewidth": 0,
             "ticks": ""
            },
            "colorscale": [
             [
              0,
              "#0d0887"
             ],
             [
              0.1111111111111111,
              "#46039f"
             ],
             [
              0.2222222222222222,
              "#7201a8"
             ],
             [
              0.3333333333333333,
              "#9c179e"
             ],
             [
              0.4444444444444444,
              "#bd3786"
             ],
             [
              0.5555555555555556,
              "#d8576b"
             ],
             [
              0.6666666666666666,
              "#ed7953"
             ],
             [
              0.7777777777777778,
              "#fb9f3a"
             ],
             [
              0.8888888888888888,
              "#fdca26"
             ],
             [
              1,
              "#f0f921"
             ]
            ],
            "type": "surface"
           }
          ],
          "table": [
           {
            "cells": {
             "fill": {
              "color": "#EBF0F8"
             },
             "line": {
              "color": "white"
             }
            },
            "header": {
             "fill": {
              "color": "#C8D4E3"
             },
             "line": {
              "color": "white"
             }
            },
            "type": "table"
           }
          ]
         },
         "layout": {
          "annotationdefaults": {
           "arrowcolor": "#2a3f5f",
           "arrowhead": 0,
           "arrowwidth": 1
          },
          "autotypenumbers": "strict",
          "coloraxis": {
           "colorbar": {
            "outlinewidth": 0,
            "ticks": ""
           }
          },
          "colorscale": {
           "diverging": [
            [
             0,
             "#8e0152"
            ],
            [
             0.1,
             "#c51b7d"
            ],
            [
             0.2,
             "#de77ae"
            ],
            [
             0.3,
             "#f1b6da"
            ],
            [
             0.4,
             "#fde0ef"
            ],
            [
             0.5,
             "#f7f7f7"
            ],
            [
             0.6,
             "#e6f5d0"
            ],
            [
             0.7,
             "#b8e186"
            ],
            [
             0.8,
             "#7fbc41"
            ],
            [
             0.9,
             "#4d9221"
            ],
            [
             1,
             "#276419"
            ]
           ],
           "sequential": [
            [
             0,
             "#0d0887"
            ],
            [
             0.1111111111111111,
             "#46039f"
            ],
            [
             0.2222222222222222,
             "#7201a8"
            ],
            [
             0.3333333333333333,
             "#9c179e"
            ],
            [
             0.4444444444444444,
             "#bd3786"
            ],
            [
             0.5555555555555556,
             "#d8576b"
            ],
            [
             0.6666666666666666,
             "#ed7953"
            ],
            [
             0.7777777777777778,
             "#fb9f3a"
            ],
            [
             0.8888888888888888,
             "#fdca26"
            ],
            [
             1,
             "#f0f921"
            ]
           ],
           "sequentialminus": [
            [
             0,
             "#0d0887"
            ],
            [
             0.1111111111111111,
             "#46039f"
            ],
            [
             0.2222222222222222,
             "#7201a8"
            ],
            [
             0.3333333333333333,
             "#9c179e"
            ],
            [
             0.4444444444444444,
             "#bd3786"
            ],
            [
             0.5555555555555556,
             "#d8576b"
            ],
            [
             0.6666666666666666,
             "#ed7953"
            ],
            [
             0.7777777777777778,
             "#fb9f3a"
            ],
            [
             0.8888888888888888,
             "#fdca26"
            ],
            [
             1,
             "#f0f921"
            ]
           ]
          },
          "colorway": [
           "#636efa",
           "#EF553B",
           "#00cc96",
           "#ab63fa",
           "#FFA15A",
           "#19d3f3",
           "#FF6692",
           "#B6E880",
           "#FF97FF",
           "#FECB52"
          ],
          "font": {
           "color": "#2a3f5f"
          },
          "geo": {
           "bgcolor": "white",
           "lakecolor": "white",
           "landcolor": "#E5ECF6",
           "showlakes": true,
           "showland": true,
           "subunitcolor": "white"
          },
          "hoverlabel": {
           "align": "left"
          },
          "hovermode": "closest",
          "mapbox": {
           "style": "light"
          },
          "paper_bgcolor": "white",
          "plot_bgcolor": "#E5ECF6",
          "polar": {
           "angularaxis": {
            "gridcolor": "white",
            "linecolor": "white",
            "ticks": ""
           },
           "bgcolor": "#E5ECF6",
           "radialaxis": {
            "gridcolor": "white",
            "linecolor": "white",
            "ticks": ""
           }
          },
          "scene": {
           "xaxis": {
            "backgroundcolor": "#E5ECF6",
            "gridcolor": "white",
            "gridwidth": 2,
            "linecolor": "white",
            "showbackground": true,
            "ticks": "",
            "zerolinecolor": "white"
           },
           "yaxis": {
            "backgroundcolor": "#E5ECF6",
            "gridcolor": "white",
            "gridwidth": 2,
            "linecolor": "white",
            "showbackground": true,
            "ticks": "",
            "zerolinecolor": "white"
           },
           "zaxis": {
            "backgroundcolor": "#E5ECF6",
            "gridcolor": "white",
            "gridwidth": 2,
            "linecolor": "white",
            "showbackground": true,
            "ticks": "",
            "zerolinecolor": "white"
           }
          },
          "shapedefaults": {
           "line": {
            "color": "#2a3f5f"
           }
          },
          "ternary": {
           "aaxis": {
            "gridcolor": "white",
            "linecolor": "white",
            "ticks": ""
           },
           "baxis": {
            "gridcolor": "white",
            "linecolor": "white",
            "ticks": ""
           },
           "bgcolor": "#E5ECF6",
           "caxis": {
            "gridcolor": "white",
            "linecolor": "white",
            "ticks": ""
           }
          },
          "title": {
           "x": 0.05
          },
          "xaxis": {
           "automargin": true,
           "gridcolor": "white",
           "linecolor": "white",
           "ticks": "",
           "title": {
            "standoff": 15
           },
           "zerolinecolor": "white",
           "zerolinewidth": 2
          },
          "yaxis": {
           "automargin": true,
           "gridcolor": "white",
           "linecolor": "white",
           "ticks": "",
           "title": {
            "standoff": 15
           },
           "zerolinecolor": "white",
           "zerolinewidth": 2
          }
         }
        },
        "xaxis": {
         "anchor": "y",
         "autorange": true,
         "domain": [
          0,
          1
         ],
         "range": [
          0.8181652712049509,
          4.181834728795049
         ],
         "type": "linear"
        },
        "xaxis2": {
         "anchor": "y2",
         "autorange": true,
         "domain": [
          0,
          1
         ],
         "range": [
          0.8181652712049509,
          4.181834728795049
         ],
         "type": "linear"
        },
        "yaxis": {
         "anchor": "x",
         "domain": [
          0.625,
          1
         ],
         "range": [
          -9.210340371976182,
          0
         ],
         "type": "log"
        },
        "yaxis2": {
         "anchor": "x2",
         "domain": [
          0,
          0.375
         ],
         "range": [
          -9.210340371976182,
          0
         ],
         "type": "log"
        }
       }
      },
      "image/png": "[encoded data removed]",
      "text/html": [
       "<div>                            <div id=\"27735dff-da23-46a6-8981-5e5664ade59f\" class=\"plotly-graph-div\" style=\"height:600px; width:100%;\"></div>            <script type=\"text/javascript\">                require([\"plotly\"], function(Plotly) {                    window.PLOTLYENV=window.PLOTLYENV || {};                                    if (document.getElementById(\"27735dff-da23-46a6-8981-5e5664ade59f\")) {                    Plotly.newPlot(                        \"27735dff-da23-46a6-8981-5e5664ade59f\",                        [{\"mode\":\"lines+markers+text\",\"name\":\"LED\",\"text\":[\"200uA\",\"200uA\",\"200uA\",\"200uA\",\"200uA\",\"200uA\",\"200uA\",\"200uA\",\"200uA\",\"200uA\",\"200uA\",\"200uA\",\"200uA\",\"200uA\",\"200uA\",\"200uA\"],\"textposition\":\"top center\",\"x\":[1.0,1.2,1.4,1.5999999999999999,1.7999999999999998,1.9999999999999998,2.1999999999999997,2.3999999999999995,2.5999999999999996,2.8,2.9999999999999996,3.1999999999999993,3.3999999999999995,3.5999999999999996,3.7999999999999994,3.999999999999999],\"y\":[-1.3427734375e-08,1.3427734375e-08,1.6784667968750002e-07,5.787353515625e-06,3.219970703125e-05,6.968994140625001e-05,0.00011195373535156251,0.000156580810546875,0.00020262451171875002,0.0002383892822265625,0.00024220275878906252,0.000242196044921875,0.0002421759033203125,0.0002421893310546875,0.00024218261718750002,0.0002421893310546875],\"type\":\"scatter\",\"xaxis\":\"x\",\"yaxis\":\"y\"},{\"mode\":\"lines+markers+text\",\"name\":\"LED\",\"text\":[\"2mA\",\"5uA\",\"5uA\",\"5uA\",\"70mA\",\"5uA\",\"70mA\",\"5uA\",\"70mA\",\"5uA\",\"70mA\",\"5uA\",\"70mA\",\"5uA\",\"70mA\",\"5uA\"],\"textposition\":\"top center\",\"x\":[1.0,1.2,1.4,1.5999999999999999,1.7999999999999998,1.9999999999999998,2.1999999999999997,2.3999999999999995,2.5999999999999996,2.8,2.9999999999999996,3.1999999999999993,3.3999999999999995,3.5999999999999996,3.7999999999999994,3.999999999999999],\"y\":[2.01416015625e-07,6.04248046875e-09,9.197998046874999e-08,3.1783447265624997e-06,2.7465820312499997e-05,6.064300537109375e-06,0.000112152099609375,6.0646362304687496e-06,0.00019683837890625,6.064804077148438e-06,0.000299835205078125,6.045669555664062e-06,0.00038681030273437497,5.9833984375e-06,0.000487518310546875,6.064804077148438e-06],\"type\":\"scatter\",\"xaxis\":\"x2\",\"yaxis\":\"y2\"}],                        {\"template\":{\"data\":{\"histogram2dcontour\":[{\"type\":\"histogram2dcontour\",\"colorbar\":{\"outlinewidth\":0,\"ticks\":\"\"},\"colorscale\":[[0.0,\"#0d0887\"],[0.1111111111111111,\"#46039f\"],[0.2222222222222222,\"#7201a8\"],[0.3333333333333333,\"#9c179e\"],[0.4444444444444444,\"#bd3786\"],[0.5555555555555556,\"#d8576b\"],[0.6666666666666666,\"#ed7953\"],[0.7777777777777778,\"#fb9f3a\"],[0.8888888888888888,\"#fdca26\"],[1.0,\"#f0f921\"]]}],\"choropleth\":[{\"type\":\"choropleth\",\"colorbar\":{\"outlinewidth\":0,\"ticks\":\"\"}}],\"histogram2d\":[{\"type\":\"histogram2d\",\"colorbar\":{\"outlinewidth\":0,\"ticks\":\"\"},\"colorscale\":[[0.0,\"#0d0887\"],[0.1111111111111111,\"#46039f\"],[0.2222222222222222,\"#7201a8\"],[0.3333333333333333,\"#9c179e\"],[0.4444444444444444,\"#bd3786\"],[0.5555555555555556,\"#d8576b\"],[0.6666666666666666,\"#ed7953\"],[0.7777777777777778,\"#fb9f3a\"],[0.8888888888888888,\"#fdca26\"],[1.0,\"#f0f921\"]]}],\"heatmap\":[{\"type\":\"heatmap\",\"colorbar\":{\"outlinewidth\":0,\"ticks\":\"\"},\"colorscale\":[[0.0,\"#0d0887\"],[0.1111111111111111,\"#46039f\"],[0.2222222222222222,\"#7201a8\"],[0.3333333333333333,\"#9c179e\"],[0.4444444444444444,\"#bd3786\"],[0.5555555555555556,\"#d8576b\"],[0.6666666666666666,\"#ed7953\"],[0.7777777777777778,\"#fb9f3a\"],[0.8888888888888888,\"#fdca26\"],[1.0,\"#f0f921\"]]}],\"heatmapgl\":[{\"type\":\"heatmapgl\",\"colorbar\":{\"outlinewidth\":0,\"ticks\":\"\"},\"colorscale\":[[0.0,\"#0d0887\"],[0.1111111111111111,\"#46039f\"],[0.2222222222222222,\"#7201a8\"],[0.3333333333333333,\"#9c179e\"],[0.4444444444444444,\"#bd3786\"],[0.5555555555555556,\"#d8576b\"],[0.6666666666666666,\"#ed7953\"],[0.7777777777777778,\"#fb9f3a\"],[0.8888888888888888,\"#fdca26\"],[1.0,\"#f0f921\"]]}],\"contourcarpet\":[{\"type\":\"contourcarpet\",\"colorbar\":{\"outlinewidth\":0,\"ticks\":\"\"}}],\"contour\":[{\"type\":\"contour\",\"colorbar\":{\"outlinewidth\":0,\"ticks\":\"\"},\"colorscale\":[[0.0,\"#0d0887\"],[0.1111111111111111,\"#46039f\"],[0.2222222222222222,\"#7201a8\"],[0.3333333333333333,\"#9c179e\"],[0.4444444444444444,\"#bd3786\"],[0.5555555555555556,\"#d8576b\"],[0.6666666666666666,\"#ed7953\"],[0.7777777777777778,\"#fb9f3a\"],[0.8888888888888888,\"#fdca26\"],[1.0,\"#f0f921\"]]}],\"surface\":[{\"type\":\"surface\",\"colorbar\":{\"outlinewidth\":0,\"ticks\":\"\"},\"colorscale\":[[0.0,\"#0d0887\"],[0.1111111111111111,\"#46039f\"],[0.2222222222222222,\"#7201a8\"],[0.3333333333333333,\"#9c179e\"],[0.4444444444444444,\"#bd3786\"],[0.5555555555555556,\"#d8576b\"],[0.6666666666666666,\"#ed7953\"],[0.7777777777777778,\"#fb9f3a\"],[0.8888888888888888,\"#fdca26\"],[1.0,\"#f0f921\"]]}],\"mesh3d\":[{\"type\":\"mesh3d\",\"colorbar\":{\"outlinewidth\":0,\"ticks\":\"\"}}],\"scatter\":[{\"fillpattern\":{\"fillmode\":\"overlay\",\"size\":10,\"solidity\":0.2},\"type\":\"scatter\"}],\"parcoords\":[{\"type\":\"parcoords\",\"line\":{\"colorbar\":{\"outlinewidth\":0,\"ticks\":\"\"}}}],\"scatterpolargl\":[{\"type\":\"scatterpolargl\",\"marker\":{\"colorbar\":{\"outlinewidth\":0,\"ticks\":\"\"}}}],\"bar\":[{\"error_x\":{\"color\":\"#2a3f5f\"},\"error_y\":{\"color\":\"#2a3f5f\"},\"marker\":{\"line\":{\"color\":\"#E5ECF6\",\"width\":0.5},\"pattern\":{\"fillmode\":\"overlay\",\"size\":10,\"solidity\":0.2}},\"type\":\"bar\"}],\"scattergeo\":[{\"type\":\"scattergeo\",\"marker\":{\"colorbar\":{\"outlinewidth\":0,\"ticks\":\"\"}}}],\"scatterpolar\":[{\"type\":\"scatterpolar\",\"marker\":{\"colorbar\":{\"outlinewidth\":0,\"ticks\":\"\"}}}],\"histogram\":[{\"marker\":{\"pattern\":{\"fillmode\":\"overlay\",\"size\":10,\"solidity\":0.2}},\"type\":\"histogram\"}],\"scattergl\":[{\"type\":\"scattergl\",\"marker\":{\"colorbar\":{\"outlinewidth\":0,\"ticks\":\"\"}}}],\"scatter3d\":[{\"type\":\"scatter3d\",\"line\":{\"colorbar\":{\"outlinewidth\":0,\"ticks\":\"\"}},\"marker\":{\"colorbar\":{\"outlinewidth\":0,\"ticks\":\"\"}}}],\"scattermapbox\":[{\"type\":\"scattermapbox\",\"marker\":{\"colorbar\":{\"outlinewidth\":0,\"ticks\":\"\"}}}],\"scatterternary\":[{\"type\":\"scatterternary\",\"marker\":{\"colorbar\":{\"outlinewidth\":0,\"ticks\":\"\"}}}],\"scattercarpet\":[{\"type\":\"scattercarpet\",\"marker\":{\"colorbar\":{\"outlinewidth\":0,\"ticks\":\"\"}}}],\"carpet\":[{\"aaxis\":{\"endlinecolor\":\"#2a3f5f\",\"gridcolor\":\"white\",\"linecolor\":\"white\",\"minorgridcolor\":\"white\",\"startlinecolor\":\"#2a3f5f\"},\"baxis\":{\"endlinecolor\":\"#2a3f5f\",\"gridcolor\":\"white\",\"linecolor\":\"white\",\"minorgridcolor\":\"white\",\"startlinecolor\":\"#2a3f5f\"},\"type\":\"carpet\"}],\"table\":[{\"cells\":{\"fill\":{\"color\":\"#EBF0F8\"},\"line\":{\"color\":\"white\"}},\"header\":{\"fill\":{\"color\":\"#C8D4E3\"},\"line\":{\"color\":\"white\"}},\"type\":\"table\"}],\"barpolar\":[{\"marker\":{\"line\":{\"color\":\"#E5ECF6\",\"width\":0.5},\"pattern\":{\"fillmode\":\"overlay\",\"size\":10,\"solidity\":0.2}},\"type\":\"barpolar\"}],\"pie\":[{\"automargin\":true,\"type\":\"pie\"}]},\"layout\":{\"autotypenumbers\":\"strict\",\"colorway\":[\"#636efa\",\"#EF553B\",\"#00cc96\",\"#ab63fa\",\"#FFA15A\",\"#19d3f3\",\"#FF6692\",\"#B6E880\",\"#FF97FF\",\"#FECB52\"],\"font\":{\"color\":\"#2a3f5f\"},\"hovermode\":\"closest\",\"hoverlabel\":{\"align\":\"left\"},\"paper_bgcolor\":\"white\",\"plot_bgcolor\":\"#E5ECF6\",\"polar\":{\"bgcolor\":\"#E5ECF6\",\"angularaxis\":{\"gridcolor\":\"white\",\"linecolor\":\"white\",\"ticks\":\"\"},\"radialaxis\":{\"gridcolor\":\"white\",\"linecolor\":\"white\",\"ticks\":\"\"}},\"ternary\":{\"bgcolor\":\"#E5ECF6\",\"aaxis\":{\"gridcolor\":\"white\",\"linecolor\":\"white\",\"ticks\":\"\"},\"baxis\":{\"gridcolor\":\"white\",\"linecolor\":\"white\",\"ticks\":\"\"},\"caxis\":{\"gridcolor\":\"white\",\"linecolor\":\"white\",\"ticks\":\"\"}},\"coloraxis\":{\"colorbar\":{\"outlinewidth\":0,\"ticks\":\"\"}},\"colorscale\":{\"sequential\":[[0.0,\"#0d0887\"],[0.1111111111111111,\"#46039f\"],[0.2222222222222222,\"#7201a8\"],[0.3333333333333333,\"#9c179e\"],[0.4444444444444444,\"#bd3786\"],[0.5555555555555556,\"#d8576b\"],[0.6666666666666666,\"#ed7953\"],[0.7777777777777778,\"#fb9f3a\"],[0.8888888888888888,\"#fdca26\"],[1.0,\"#f0f921\"]],\"sequentialminus\":[[0.0,\"#0d0887\"],[0.1111111111111111,\"#46039f\"],[0.2222222222222222,\"#7201a8\"],[0.3333333333333333,\"#9c179e\"],[0.4444444444444444,\"#bd3786\"],[0.5555555555555556,\"#d8576b\"],[0.6666666666666666,\"#ed7953\"],[0.7777777777777778,\"#fb9f3a\"],[0.8888888888888888,\"#fdca26\"],[1.0,\"#f0f921\"]],\"diverging\":[[0,\"#8e0152\"],[0.1,\"#c51b7d\"],[0.2,\"#de77ae\"],[0.3,\"#f1b6da\"],[0.4,\"#fde0ef\"],[0.5,\"#f7f7f7\"],[0.6,\"#e6f5d0\"],[0.7,\"#b8e186\"],[0.8,\"#7fbc41\"],[0.9,\"#4d9221\"],[1,\"#276419\"]]},\"xaxis\":{\"gridcolor\":\"white\",\"linecolor\":\"white\",\"ticks\":\"\",\"title\":{\"standoff\":15},\"zerolinecolor\":\"white\",\"automargin\":true,\"zerolinewidth\":2},\"yaxis\":{\"gridcolor\":\"white\",\"linecolor\":\"white\",\"ticks\":\"\",\"title\":{\"standoff\":15},\"zerolinecolor\":\"white\",\"automargin\":true,\"zerolinewidth\":2},\"scene\":{\"xaxis\":{\"backgroundcolor\":\"#E5ECF6\",\"gridcolor\":\"white\",\"linecolor\":\"white\",\"showbackground\":true,\"ticks\":\"\",\"zerolinecolor\":\"white\",\"gridwidth\":2},\"yaxis\":{\"backgroundcolor\":\"#E5ECF6\",\"gridcolor\":\"white\",\"linecolor\":\"white\",\"showbackground\":true,\"ticks\":\"\",\"zerolinecolor\":\"white\",\"gridwidth\":2},\"zaxis\":{\"backgroundcolor\":\"#E5ECF6\",\"gridcolor\":\"white\",\"linecolor\":\"white\",\"showbackground\":true,\"ticks\":\"\",\"zerolinecolor\":\"white\",\"gridwidth\":2}},\"shapedefaults\":{\"line\":{\"color\":\"#2a3f5f\"}},\"annotationdefaults\":{\"arrowcolor\":\"#2a3f5f\",\"arrowhead\":0,\"arrowwidth\":1},\"geo\":{\"bgcolor\":\"white\",\"landcolor\":\"#E5ECF6\",\"subunitcolor\":\"white\",\"showland\":true,\"showlakes\":true,\"lakecolor\":\"white\"},\"title\":{\"x\":0.05},\"mapbox\":{\"style\":\"light\"}}},\"xaxis\":{\"anchor\":\"y\",\"domain\":[0.0,1.0]},\"yaxis\":{\"anchor\":\"x\",\"domain\":[0.625,1.0],\"type\":\"log\",\"range\":[-9.210340371976182,0.0]},\"xaxis2\":{\"anchor\":\"y2\",\"domain\":[0.0,1.0]},\"yaxis2\":{\"anchor\":\"x2\",\"domain\":[0.0,0.375],\"type\":\"log\",\"range\":[-9.210340371976182,0.0]},\"annotations\":[{\"font\":{\"size\":16},\"showarrow\":false,\"text\":\"LED current vs voltage\",\"x\":0.5,\"xanchor\":\"center\",\"xref\":\"paper\",\"y\":1.0,\"yanchor\":\"bottom\",\"yref\":\"paper\"},{\"font\":{\"size\":16},\"showarrow\":false,\"text\":\"LED current vs voltage\",\"x\":0.5,\"xanchor\":\"center\",\"xref\":\"paper\",\"y\":0.375,\"yanchor\":\"bottom\",\"yref\":\"paper\"}],\"height\":600},                        {\"responsive\": true}                    ).then(function(){\n",
       "                            \n",
       "var gd = document.getElementById('27735dff-da23-46a6-8981-5e5664ade59f');\n",
       "var x = new MutationObserver(function (mutations, observer) {{\n",
       "        var display = window.getComputedStyle(gd).display;\n",
       "        if (!display || display === 'none') {{\n",
       "            console.log([gd, 'removed!']);\n",
       "            Plotly.purge(gd);\n",
       "            observer.disconnect();\n",
       "        }}\n",
       "}});\n",
       "\n",
       "// Listen for the removal of the full notebook cells\n",
       "var notebookContainer = gd.closest('#notebook-container');\n",
       "if (notebookContainer) {{\n",
       "    x.observe(notebookContainer, {childList: true});\n",
       "}}\n",
       "\n",
       "// Listen for the clearing of the current output cell\n",
       "var outputEl = gd.closest('.output');\n",
       "if (outputEl) {{\n",
       "    x.observe(outputEl, {childList: true});\n",
       "}}\n",
       "\n",
       "                        })                };                });            </script>        </div>"
      ]
     },
     "metadata": {},
     "output_type": "display_data"
    }
   ],
   "source": [
    "from plotly.subplots import make_subplots\n",
    "def create_fig():  \n",
    "    fig = make_subplots(rows=2, cols=1,  subplot_titles=(\"LED current vs voltage\", \"LED current vs voltage\"))\n",
    "    fig.add_trace(go.Scatter(x=sweep_without_autorange[0], y=sweep_without_autorange[1],\n",
    "                        mode='lines+markers+text',\n",
    "                        text = [s.replace(\"Range_\", \"\") for s in sweep_without_autorange[3]],\n",
    "                        textposition=\"top center\",\n",
    "                        name='LED'),  row=1, col=1)\n",
    "    fig.add_trace(go.Scatter(x=sweep_with_autorange[0], y=sweep_with_autorange[1],\n",
    "                        mode='lines+markers+text',\n",
    "                        text = [s.replace(\"Range_\", \"\") for s in sweep_with_autorange[3]],\n",
    "                        textposition=\"top center\",\n",
    "                        name='LED'),  row=2, col=1)\n",
    "    fig.update_yaxes(type=\"log\", range=[np.log(0.0001),np.log(1)], row=1, col=1)\n",
    "    fig.update_yaxes(type=\"log\", range=[np.log(0.0001),np.log(1)], row=2, col=1)\n",
    "    fig.update_layout(height=600)\n",
    "    return fig\n",
    "fig = create_fig()\n",
    "fig\n",
    "#uncomment in pure python script:\n",
    "#fig.show()"
   ]
  },
  {
   "cell_type": "code",
   "execution_count": 18,
   "id": "aa075a01-4a01-4f83-bbce-3085cd2eeb78",
   "metadata": {},
   "outputs": [],
   "source": [
    "srunner.shutdown()"
   ]
  },
  {
   "cell_type": "code",
   "execution_count": null,
   "id": "07a8e07c-1ce1-4e0d-9a6a-5912142e40c7",
   "metadata": {},
   "outputs": [],
   "source": []
  }
 ],
 "metadata": {
  "kernelspec": {
   "display_name": "Python 3 (ipykernel)",
   "language": "python",
   "name": "python3"
  },
  "language_info": {
   "codemirror_mode": {
    "name": "ipython",
    "version": 3
   },
   "file_extension": ".py",
   "mimetype": "text/x-python",
   "name": "python",
   "nbconvert_exporter": "python",
   "pygments_lexer": "ipython3",
   "version": "3.9.13"
  }
 },
 "nbformat": 4,
 "nbformat_minor": 5
}
