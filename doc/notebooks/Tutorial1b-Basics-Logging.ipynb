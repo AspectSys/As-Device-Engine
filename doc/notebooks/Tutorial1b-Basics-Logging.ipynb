{
 "cells": [
  {
   "cell_type": "markdown",
   "id": "c91dc1a0-913f-418c-8490-339e69b657e0",
   "metadata": {},
   "source": [
    "# Part 1b: Basics - Logging"
   ]
  },
  {
   "cell_type": "markdown",
   "id": "201fe7e4-eb1d-4fe9-bd80-018f6b01af0a",
   "metadata": {},
   "source": [
    "This is the introductory overview of programming the Aspect Device Engine Python API.  \n",
    "This document is available as pdf and interactive jupyter notebook.\n",
    "The introduction includes the following objectives:\n",
    "\n",
    "- How to log to the console and file"
   ]
  },
  {
   "cell_type": "markdown",
   "id": "8f32233b-0bb3-4a38-a2bd-c2a940d5d8ea",
   "metadata": {},
   "source": [
    "--------\n",
    "## Logging\n",
    "In case of programming problems with the hardware, it can be helpful to get a detailed text output with the processes in the software.  \n",
    "For this purpose, different levels of detail can be set in this text output, so-called log levels. By default, the log level is set to NONE (0). This means that no log is output.  \n",
    "The log levels can have the values 0 to 5. The API provides an enum value for each of these levels.  \n",
    "These are as follows: None_(0), Error(1), Warning(2), Info(3), Debug(4), Trace(5).  \n",
    "If, for example, the LogLevel Info(3) is set, errors, warnings and some useful information are output. If the 'Trace' level is set, even the communication protocol with the hardware is output.  \n",
    "The more detailed the log is, the lower the performance of the engine. You should therefore only switch on (detailed) logging in the event of problems that are not understood or a suspected bug.  \n",
    "There are two types of logging: console logging and file logging. Both can be switched on and configured independently of each other.  \n",
    "The configuration is relatively straightforward and is briefly described below using code examples. "
   ]
  },
  {
   "cell_type": "code",
   "execution_count": 1,
   "id": "15d734a2-90fd-482a-a270-0e43b8a5dc0a",
   "metadata": {},
   "outputs": [],
   "source": [
    "from aspectdeviceengine.enginecore import IdSmuService, IdSmuServiceRunner, IdSmuBoardModel, LogLevel"
   ]
  },
  {
   "cell_type": "markdown",
   "id": "f02d8ad9-57fd-4d9a-a82c-59c198eb1650",
   "metadata": {},
   "source": [
    "## Console logging\n",
    "\n",
    "Console logging can be switched on ready with the construction of the `IdSmuServiceRunner`.  \n",
    "The first parameter in the constructor is the log level as a numerical value from 0-5 (default is 0).  \n",
    "This log level can be set later using the `LogLevel` enum and the `LogService` object.\n",
    "> Note: The log is displayed in the standard console and not in Jupyter Notebook"
   ]
  },
  {
   "cell_type": "code",
   "execution_count": 2,
   "id": "6521e2e9-a4e9-480f-9b73-0cd9da86f89e",
   "metadata": {},
   "outputs": [],
   "source": [
    "# Initialisation of the log level via the ServiceRunner in the highest level ‘Trace’\n",
    "srunner = IdSmuServiceRunner(5)"
   ]
  },
  {
   "cell_type": "code",
   "execution_count": 3,
   "id": "f933dd5a-6bbc-4e61-9c21-d87a582015b6",
   "metadata": {},
   "outputs": [],
   "source": [
    "mbX1 : IdSmuBoardModel = srunner.get_idsmu_service().get_first_board()"
   ]
  },
  {
   "cell_type": "code",
   "execution_count": 4,
   "id": "2de0898c-9010-40e1-bfe3-69c31ad568de",
   "metadata": {},
   "outputs": [
    {
     "name": "stdout",
     "output_type": "stream",
     "text": [
      "LogLevel.Trace\n",
      "LogLevel.Info\n"
     ]
    }
   ],
   "source": [
    "# Check the log level via the console_log_level_property of the LogService object\n",
    "print(srunner.log_service.console_log_level)\n",
    "# Set a new console log level via the same property\n",
    "srunner.log_service.console_log_level = LogLevel.Info\n",
    "print(srunner.log_service.console_log_level)"
   ]
  },
  {
   "cell_type": "markdown",
   "id": "4abea952-96b2-4f1d-8147-16a8f343fba2",
   "metadata": {},
   "source": [
    "## File logging\n",
    "\n",
    "File logging must be activated in a separate step via the LogService object.  \n",
    "To do this, first tell the Log Service the path to the file to be logged. The file log level is then set."
   ]
  },
  {
   "cell_type": "code",
   "execution_count": 7,
   "id": "7f8c312d-fd7d-4e1e-ab6f-7298ebbb992e",
   "metadata": {},
   "outputs": [
    {
     "name": "stdout",
     "output_type": "stream",
     "text": [
      "LogLevel.Trace\n"
     ]
    }
   ],
   "source": [
    "srunner.log_service.file_log_level = LogLevel.Trace\n",
    "srunner.log_service.set_log_file(\"C:\\\\tmp\\\\log.txt\")\n",
    "print(srunner.log_service.file_log_level)"
   ]
  },
  {
   "cell_type": "code",
   "execution_count": 8,
   "id": "303852cc-bff8-48e0-a86f-3193e2d0a3fc",
   "metadata": {},
   "outputs": [],
   "source": [
    "# We issue a command to produce a log entry\n",
    "mbX1.set_enable_clamps(True, [\"M1.S1.C1\"])"
   ]
  },
  {
   "cell_type": "markdown",
   "id": "e1127f22-c7a1-4717-9390-7c7646b90efc",
   "metadata": {},
   "source": [
    "The output in the file will then look something like this:  \n",
    "> Device: Execution of commands triggered...  \n",
    "CommandService: Removing command from queue: Name = WriteIdSmuConfigurationCommand, Identifier = 24  \n",
    "CommandService: Waiting for commands to execute...  \n",
    "Device: Executing command: Name = WriteIdSmuConfigurationCommand, Identifier = 24  \n",
    "WriteReadCommand: Executing write read cycles...  \n",
    "WriteReadCommand: Executing write read cycle number = 0  \n",
    "FtdiService: Setting FTDI pipe timeout = 5000  \n",
    "FtdiDevice: Writing to FTDI pipe...  \n",
    "FtdiDevice: Successfully wrote to FTDI pipe. Bytes written = 36  \n",
    "FtdiDevice: Word# written 00000: 0x00030000  \n",
    "FtdiDevice: Word# written 00001: 0x00000001  \n",
    "FtdiDevice: Word# written 00002: 0x0000001b"
   ]
  },
  {
   "cell_type": "code",
   "execution_count": 9,
   "id": "076d7619-5844-4119-ab65-244883b6237c",
   "metadata": {},
   "outputs": [],
   "source": [
    "srunner.shutdown()"
   ]
  }
 ],
 "metadata": {
  "kernelspec": {
   "display_name": "Python 3 (ipykernel)",
   "language": "python",
   "name": "python3"
  },
  "language_info": {
   "codemirror_mode": {
    "name": "ipython",
    "version": 3
   },
   "file_extension": ".py",
   "mimetype": "text/x-python",
   "name": "python",
   "nbconvert_exporter": "python",
   "pygments_lexer": "ipython3",
   "version": "3.9.13"
  }
 },
 "nbformat": 4,
 "nbformat_minor": 5
}
