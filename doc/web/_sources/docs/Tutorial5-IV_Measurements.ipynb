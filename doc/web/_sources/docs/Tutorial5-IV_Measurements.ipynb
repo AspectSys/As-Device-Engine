{
 "cells": [
  {
   "cell_type": "markdown",
   "id": "c91dc1a0-913f-418c-8490-339e69b657e0",
   "metadata": {},
   "source": [
    "# Part 5: IV Measurements"
   ]
  },
  {
   "cell_type": "markdown",
   "id": "201fe7e4-eb1d-4fe9-bd80-018f6b01af0a",
   "metadata": {},
   "source": [
    "This is the fith introductory overview of programming the Aspect Device Engine Python API.  \n",
    "This document is available as pdf and interactive jupyter notebook.\n",
    "The introduction includes the following objectives:\n",
    "- Performing IV sweeps\n",
    "- Working with autoranging in IV-sweeps\n",
    "\n",
    "Please note: This chapter shows how to perform simple IV sweeps in software.  \n",
    "For more advanced IV sweeps, see the next chapter ‘List Sweeps’. \n",
    "\n",
    "---"
   ]
  },
  {
   "cell_type": "code",
   "execution_count": 46,
   "id": "c6360e48-e39e-4756-b7aa-1c7ef460401c",
   "metadata": {},
   "outputs": [],
   "source": [
    "from aspectdeviceengine.enginecore import IdSmuService, IdSmuServiceRunner, IdSmuBoardModel, MeasurementMode, FunctionGeneratorType, generate_function_generator_data, CurrentRange\n",
    "from aspectdeviceengine.enginecore import IdSmuBoardModel, ListSweepChannelConfiguration, ListSweep\n",
    "import plotly.graph_objects as go\n",
    "import numpy as np\n",
    "srunner = IdSmuServiceRunner()"
   ]
  },
  {
   "cell_type": "markdown",
   "id": "d0828b58-d89d-41ef-95f8-224da1004ad2",
   "metadata": {},
   "source": [
    "A few preparatory measures, nothing new here:"
   ]
  },
  {
   "cell_type": "code",
   "execution_count": 47,
   "id": "15d734a2-90fd-482a-a270-0e43b8a5dc0a",
   "metadata": {},
   "outputs": [
    {
     "name": "stdout",
     "output_type": "stream",
     "text": [
      "True\n"
     ]
    }
   ],
   "source": [
    "# Inintialization and preparation:\n",
    "mbX1 : IdSmuBoardModel = srunner.get_idsmu_service().get_first_board()\n",
    "print(mbX1.is_board_initialized())\n",
    "device_id = \"M1.S1\"\n",
    "channel1_id = f'{device_id}.C1'\n",
    "channel2_id = f'{device_id}.C3'\n",
    "channel_list = [channel1_id, channel2_id]\n",
    "\n",
    "mbX1.set_voltages(1, channel_list)\n",
    "mbX1.set_enable_channels(True,channel_list )\n",
    "mbX1.set_measurement_modes(MeasurementMode.isense, channel_list)\n",
    "mbX1.set_current_ranges(CurrentRange.Range_2mA_SMU, channel_list)"
   ]
  },
  {
   "cell_type": "markdown",
   "id": "436f7999-22c8-48a9-b235-8298b71d21a0",
   "metadata": {},
   "source": [
    "We define a simple helper function that can perform a software sweep.  \n",
    "It returns the force values, the measured values and the current range for each step:"
   ]
  },
  {
   "cell_type": "code",
   "execution_count": 73,
   "id": "fd8ec0d3-cd3e-48d4-a5ca-069883d1960e",
   "metadata": {},
   "outputs": [
    {
     "name": "stdout",
     "output_type": "stream",
     "text": [
      "2.35e-09       Range_5uA      2.52e-09       Range_5uA\n",
      "4.2e-09        Range_5uA      2.52e-09       Range_5uA\n",
      "1.09e-07       Range_5uA      2.69e-09       Range_5uA\n",
      "4.9e-06        Range_5uA      3.02e-09       Range_5uA\n",
      "2.99e-05       Range_200uA    5.04e-09       Range_5uA\n",
      "6.67e-05       Range_200uA    3.36e-08       Range_5uA\n",
      "0.000109       Range_200uA    5.99e-07       Range_5uA\n",
      "0.000153       Range_200uA    7.85e-06       Range_20uA\n",
      "0.000198       Range_2mA      3.24e-05       Range_200uA\n",
      "0.000245       Range_2mA      6.8e-05        Range_200uA\n",
      "0.000293       Range_2mA      0.000109       Range_200uA\n",
      "0.000341       Range_2mA      0.000152       Range_200uA\n",
      "0.000389       Range_2mA      0.000196       Range_2mA\n",
      "0.000438       Range_2mA      0.000242       Range_2mA\n",
      "0.000487       Range_2mA      0.000289       Range_2mA\n",
      "0.000536       Range_2mA      0.000336       Range_2mA\n",
      "[2.34985352e-09 4.19616699e-09 1.08764648e-07 4.89894104e-06\n",
      " 2.98834229e-05 6.67492676e-05 1.08569946e-04 1.52915039e-04\n",
      " 1.98461914e-04 2.45324707e-04 2.92926025e-04 3.41064453e-04\n",
      " 3.89404297e-04 4.38146973e-04 4.87091064e-04 5.36437988e-04]\n"
     ]
    }
   ],
   "source": [
    "idSmu2 = mbX1.idSmu2Modules['M1.S1']\n",
    "ch1 = idSmu2.smu.channels[1]\n",
    "ch2 = idSmu2.smu.channels[3]\n",
    "ch1.autorange = True\n",
    "ch2.autorange = True\n",
    "def sw_sweep_properties(start, stop, step):\n",
    "    force_values = np.arange(start,stop+step, step)\n",
    "    ch1_results = np.zeros(len(force_values))\n",
    "    ch2_results = np.zeros(len(force_values))\n",
    "    for i, voltage in enumerate(force_values):\n",
    "        ch1.voltage = voltage\n",
    "        ch2.voltage = voltage\n",
    "        ch1_results[i] = ch1.current\n",
    "        ch2_results[i] = ch2.current\n",
    "        print(f'{ch1_results[i] : <15.3}{ch1.current_range.name : <15}{ch2_results[i] : <15.3}{ch2.current_range.name}')\n",
    "    return ch1_results\n",
    "res = sw_sweep_properties(1,4,0.2)\n",
    "print(res)"
   ]
  },
  {
   "cell_type": "code",
   "execution_count": 32,
   "id": "d0e50844-0fd4-43fc-b4c8-b1a16f3edb54",
   "metadata": {},
   "outputs": [],
   "source": [
    "def sw_sweep(start, stop, step):\n",
    "    force_values = np.arange(start,stop+step, step)\n",
    "    ch1_results = np.zeros(len(force_values))\n",
    "    ch2_results = np.zeros(len(force_values))\n",
    "    ch1_ranges = []\n",
    "    ch2_ranges = []\n",
    "    for i, voltage in enumerate(force_values):\n",
    "        mbX1.set_voltages(voltage, channel_list)\n",
    "        measresults = mbX1.measure_channels(wait_for_result=False, sample_count=1, repetitions=1, channel_names=channel_list)\n",
    "        measresult0 = mbX1.get_measurement_results_for_channel(channel1_id)\n",
    "        ch1_ranges.append(mbX1.idSmu2Modules['M1.S1'].smu.channels[channel1_id].current_range.name)\n",
    "        ch2_ranges.append(mbX1.idSmu2Modules['M1.S1'].smu.channels[channel2_id].current_range.name)\n",
    "        ch1_results[i] = measresult0[channel1_id][0]\n",
    "        ch2_results[i] = measresult0[channel2_id][0]\n",
    "    return (force_values, ch1_results, ch2_results, ch1_ranges,ch2_ranges)"
   ]
  },
  {
   "cell_type": "markdown",
   "id": "395b9b72-5e82-475b-a80d-250690564206",
   "metadata": {},
   "source": [
    "### Autoranging in manual IV sweeps\n",
    "The first step is to perform the sweep with autoranging deactivated. \n",
    "The respective current range is then output for each step."
   ]
  },
  {
   "cell_type": "code",
   "execution_count": 36,
   "id": "c74f633d-2942-4b01-ba8f-c6625ce94fd7",
   "metadata": {},
   "outputs": [
    {
     "name": "stdout",
     "output_type": "stream",
     "text": [
      "['Range_200uA', 'Range_200uA', 'Range_200uA', 'Range_200uA', 'Range_200uA', 'Range_200uA', 'Range_200uA', 'Range_200uA', 'Range_200uA', 'Range_200uA', 'Range_200uA', 'Range_200uA', 'Range_200uA', 'Range_200uA', 'Range_200uA', 'Range_200uA']\n"
     ]
    }
   ],
   "source": [
    "mbX1.set_current_ranges(CurrentRange.Range_200uA_SMU, channel_list)\n",
    "mbX1.enable_autorange(False, channel_list)\n",
    "mbX1.set_voltages(1, channel_list)\n",
    "sweep_without_autorange = sw_sweep(1,4, 0.2)\n",
    "print(sweep_without_autorange[3])"
   ]
  },
  {
   "cell_type": "markdown",
   "id": "62cdf6be-0836-4ddb-8b1d-f4dace66d22c",
   "metadata": {},
   "source": [
    "Autoranging is performed for both channels using the `enable_autorange()` method:"
   ]
  },
  {
   "cell_type": "code",
   "execution_count": 37,
   "id": "5bc43ad3-a781-4866-88b5-a57289e56a56",
   "metadata": {},
   "outputs": [
    {
     "name": "stdout",
     "output_type": "stream",
     "text": [
      "True\n",
      "['Range_5uA', 'Range_5uA', 'Range_5uA', 'Range_5uA', 'Range_5uA', 'Range_5uA', 'Range_5uA', 'Range_20uA', 'Range_200uA', 'Range_200uA', 'Range_200uA', 'Range_200uA', 'Range_2mA', 'Range_2mA', 'Range_2mA', 'Range_2mA']\n"
     ]
    }
   ],
   "source": [
    "mbX1.enable_autorange(True, channel_list)\n",
    "#Alternatively, autoranging can also be queried or set via the properties/setter of a channel\n",
    "print(mbX1.idSmu2Modules['M1.S1'].smu.channels[channel1_id].autorange)\n",
    "sweep_with_autorange = sw_sweep(1,4, 0.2)\n",
    "print(sweep_with_autorange[4])"
   ]
  },
  {
   "cell_type": "markdown",
   "id": "bf5335af-4480-4ce2-af6a-bcbcc34e66fe",
   "metadata": {},
   "source": [
    "### Plotting the results\n",
    "The following plots show the difference between the sweep with and without autorange. \n",
    "With a fixed value of 200uA, the current curve saturates at approximately this value.  \n",
    "With an autorange set, the better resolution at low currents becomes clear. \n",
    "The curve does not saturate and reaches around 500uA. The plots are annotated with the current ranges:  \n",
    "*(Note: the enum prefixes 'Range_' are removed for better readability)*"
   ]
  },
  {
   "cell_type": "code",
   "execution_count": 41,
   "id": "1278c1d0-5020-4b7e-ae49-c3835d3319a7",
   "metadata": {},
   "outputs": [
    {
     "data": {
      "application/vnd.plotly.v1+json": {
       "config": {
        "plotlyServerURL": "https://plot.ly"
       },
       "data": [
        {
         "mode": "lines+markers+text",
         "name": "LED1",
         "text": [
          "200uA",
          "200uA",
          "200uA",
          "200uA",
          "200uA",
          "200uA",
          "200uA",
          "200uA",
          "200uA",
          "200uA",
          "200uA",
          "200uA",
          "200uA",
          "200uA",
          "200uA",
          "200uA"
         ],
         "textposition": "top center",
         "type": "scatter",
         "x": [
          1,
          1.2,
          1.4,
          1.5999999999999999,
          1.7999999999999998,
          1.9999999999999998,
          2.1999999999999997,
          2.3999999999999995,
          2.5999999999999996,
          2.8,
          2.9999999999999996,
          3.1999999999999993,
          3.3999999999999995,
          3.5999999999999996,
          3.7999999999999994,
          3.999999999999999
         ],
         "xaxis": "x",
         "y": [
          -2.685546875e-08,
          -2.01416015625e-08,
          8.72802734375e-08,
          4.6258544921875e-06,
          2.9312744140625e-05,
          6.59234619140625e-05,
          0.000107623291015625,
          0.0001519482421875,
          0.00019773681640625,
          0.0002359454345703125,
          0.00024032958984375,
          0.0002403564453125,
          0.0002403094482421875,
          0.00024032958984375,
          0.00024033630371093751,
          0.000240343017578125
         ],
         "yaxis": "y"
        },
        {
         "mode": "lines+markers+text",
         "name": "LED1",
         "text": [
          "5uA",
          "5uA",
          "5uA",
          "5uA",
          "200uA",
          "200uA",
          "200uA",
          "200uA",
          "2mA",
          "2mA",
          "2mA",
          "2mA",
          "2mA",
          "2mA",
          "2mA",
          "2mA"
         ],
         "textposition": "top center",
         "type": "scatter",
         "x": [
          1,
          1.2,
          1.4,
          1.5999999999999999,
          1.7999999999999998,
          1.9999999999999998,
          2.1999999999999997,
          2.3999999999999995,
          2.5999999999999996,
          2.8,
          2.9999999999999996,
          3.1999999999999993,
          3.3999999999999995,
          3.5999999999999996,
          3.7999999999999994,
          3.999999999999999
         ],
         "xaxis": "x2",
         "y": [
          2.5177001953125e-09,
          4.0283203125e-09,
          9.85260009765625e-08,
          4.6231689453125e-06,
          2.9191894531250002e-05,
          6.58428955078125e-05,
          0.00010754943847656251,
          0.0001518475341796875,
          0.000197454833984375,
          0.00024398193359375002,
          0.0002919189453125,
          0.000340057373046875,
          0.000388330078125,
          0.00043707275390625003,
          0.000486083984375,
          0.00053536376953125
         ],
         "yaxis": "y2"
        },
        {
         "mode": "lines+markers+text",
         "name": "LED2",
         "text": [
          "5uA",
          "5uA",
          "5uA",
          "5uA",
          "5uA",
          "5uA",
          "5uA",
          "20uA",
          "200uA",
          "200uA",
          "200uA",
          "200uA",
          "2mA",
          "2mA",
          "2mA",
          "2mA"
         ],
         "textposition": "top center",
         "type": "scatter",
         "x": [
          1,
          1.2,
          1.4,
          1.5999999999999999,
          1.7999999999999998,
          1.9999999999999998,
          2.1999999999999997,
          2.3999999999999995,
          2.5999999999999996,
          2.8,
          2.9999999999999996,
          3.1999999999999993,
          3.3999999999999995,
          3.5999999999999996,
          3.7999999999999994,
          3.999999999999999
         ],
         "xaxis": "x3",
         "y": [
          2.349853515625e-09,
          3.1890869140624998e-09,
          1.8463134765625e-09,
          2.5177001953125e-09,
          5.2032470703125e-09,
          3.23944091796875e-08,
          5.711822509765625e-07,
          7.57659912109375e-06,
          3.1676025390625e-05,
          6.711853027343751e-05,
          0.000107744140625,
          0.0001509814453125,
          0.00019530639648437503,
          0.000241162109375,
          0.00028755493164062503,
          0.000334619140625
         ],
         "yaxis": "y3"
        }
       ],
       "layout": {
        "annotations": [
         {
          "font": {
           "size": 16
          },
          "showarrow": false,
          "text": "LED1 current vs voltage wo autorange",
          "x": 0.5,
          "xanchor": "center",
          "xref": "paper",
          "y": 1,
          "yanchor": "bottom",
          "yref": "paper"
         },
         {
          "font": {
           "size": 16
          },
          "showarrow": false,
          "text": "LED1 current vs voltage w. autorange",
          "x": 0.5,
          "xanchor": "center",
          "xref": "paper",
          "y": 0.6111111111111112,
          "yanchor": "bottom",
          "yref": "paper"
         },
         {
          "font": {
           "size": 16
          },
          "showarrow": false,
          "text": "LED2 current vs voltage w. autorange",
          "x": 0.5,
          "xanchor": "center",
          "xref": "paper",
          "y": 0.22222222222222224,
          "yanchor": "bottom",
          "yref": "paper"
         }
        ],
        "autosize": true,
        "template": {
         "data": {
          "bar": [
           {
            "error_x": {
             "color": "#2a3f5f"
            },
            "error_y": {
             "color": "#2a3f5f"
            },
            "marker": {
             "line": {
              "color": "#E5ECF6",
              "width": 0.5
             },
             "pattern": {
              "fillmode": "overlay",
              "size": 10,
              "solidity": 0.2
             }
            },
            "type": "bar"
           }
          ],
          "barpolar": [
           {
            "marker": {
             "line": {
              "color": "#E5ECF6",
              "width": 0.5
             },
             "pattern": {
              "fillmode": "overlay",
              "size": 10,
              "solidity": 0.2
             }
            },
            "type": "barpolar"
           }
          ],
          "carpet": [
           {
            "aaxis": {
             "endlinecolor": "#2a3f5f",
             "gridcolor": "white",
             "linecolor": "white",
             "minorgridcolor": "white",
             "startlinecolor": "#2a3f5f"
            },
            "baxis": {
             "endlinecolor": "#2a3f5f",
             "gridcolor": "white",
             "linecolor": "white",
             "minorgridcolor": "white",
             "startlinecolor": "#2a3f5f"
            },
            "type": "carpet"
           }
          ],
          "choropleth": [
           {
            "colorbar": {
             "outlinewidth": 0,
             "ticks": ""
            },
            "type": "choropleth"
           }
          ],
          "contour": [
           {
            "colorbar": {
             "outlinewidth": 0,
             "ticks": ""
            },
            "colorscale": [
             [
              0,
              "#0d0887"
             ],
             [
              0.1111111111111111,
              "#46039f"
             ],
             [
              0.2222222222222222,
              "#7201a8"
             ],
             [
              0.3333333333333333,
              "#9c179e"
             ],
             [
              0.4444444444444444,
              "#bd3786"
             ],
             [
              0.5555555555555556,
              "#d8576b"
             ],
             [
              0.6666666666666666,
              "#ed7953"
             ],
             [
              0.7777777777777778,
              "#fb9f3a"
             ],
             [
              0.8888888888888888,
              "#fdca26"
             ],
             [
              1,
              "#f0f921"
             ]
            ],
            "type": "contour"
           }
          ],
          "contourcarpet": [
           {
            "colorbar": {
             "outlinewidth": 0,
             "ticks": ""
            },
            "type": "contourcarpet"
           }
          ],
          "heatmap": [
           {
            "colorbar": {
             "outlinewidth": 0,
             "ticks": ""
            },
            "colorscale": [
             [
              0,
              "#0d0887"
             ],
             [
              0.1111111111111111,
              "#46039f"
             ],
             [
              0.2222222222222222,
              "#7201a8"
             ],
             [
              0.3333333333333333,
              "#9c179e"
             ],
             [
              0.4444444444444444,
              "#bd3786"
             ],
             [
              0.5555555555555556,
              "#d8576b"
             ],
             [
              0.6666666666666666,
              "#ed7953"
             ],
             [
              0.7777777777777778,
              "#fb9f3a"
             ],
             [
              0.8888888888888888,
              "#fdca26"
             ],
             [
              1,
              "#f0f921"
             ]
            ],
            "type": "heatmap"
           }
          ],
          "heatmapgl": [
           {
            "colorbar": {
             "outlinewidth": 0,
             "ticks": ""
            },
            "colorscale": [
             [
              0,
              "#0d0887"
             ],
             [
              0.1111111111111111,
              "#46039f"
             ],
             [
              0.2222222222222222,
              "#7201a8"
             ],
             [
              0.3333333333333333,
              "#9c179e"
             ],
             [
              0.4444444444444444,
              "#bd3786"
             ],
             [
              0.5555555555555556,
              "#d8576b"
             ],
             [
              0.6666666666666666,
              "#ed7953"
             ],
             [
              0.7777777777777778,
              "#fb9f3a"
             ],
             [
              0.8888888888888888,
              "#fdca26"
             ],
             [
              1,
              "#f0f921"
             ]
            ],
            "type": "heatmapgl"
           }
          ],
          "histogram": [
           {
            "marker": {
             "pattern": {
              "fillmode": "overlay",
              "size": 10,
              "solidity": 0.2
             }
            },
            "type": "histogram"
           }
          ],
          "histogram2d": [
           {
            "colorbar": {
             "outlinewidth": 0,
             "ticks": ""
            },
            "colorscale": [
             [
              0,
              "#0d0887"
             ],
             [
              0.1111111111111111,
              "#46039f"
             ],
             [
              0.2222222222222222,
              "#7201a8"
             ],
             [
              0.3333333333333333,
              "#9c179e"
             ],
             [
              0.4444444444444444,
              "#bd3786"
             ],
             [
              0.5555555555555556,
              "#d8576b"
             ],
             [
              0.6666666666666666,
              "#ed7953"
             ],
             [
              0.7777777777777778,
              "#fb9f3a"
             ],
             [
              0.8888888888888888,
              "#fdca26"
             ],
             [
              1,
              "#f0f921"
             ]
            ],
            "type": "histogram2d"
           }
          ],
          "histogram2dcontour": [
           {
            "colorbar": {
             "outlinewidth": 0,
             "ticks": ""
            },
            "colorscale": [
             [
              0,
              "#0d0887"
             ],
             [
              0.1111111111111111,
              "#46039f"
             ],
             [
              0.2222222222222222,
              "#7201a8"
             ],
             [
              0.3333333333333333,
              "#9c179e"
             ],
             [
              0.4444444444444444,
              "#bd3786"
             ],
             [
              0.5555555555555556,
              "#d8576b"
             ],
             [
              0.6666666666666666,
              "#ed7953"
             ],
             [
              0.7777777777777778,
              "#fb9f3a"
             ],
             [
              0.8888888888888888,
              "#fdca26"
             ],
             [
              1,
              "#f0f921"
             ]
            ],
            "type": "histogram2dcontour"
           }
          ],
          "mesh3d": [
           {
            "colorbar": {
             "outlinewidth": 0,
             "ticks": ""
            },
            "type": "mesh3d"
           }
          ],
          "parcoords": [
           {
            "line": {
             "colorbar": {
              "outlinewidth": 0,
              "ticks": ""
             }
            },
            "type": "parcoords"
           }
          ],
          "pie": [
           {
            "automargin": true,
            "type": "pie"
           }
          ],
          "scatter": [
           {
            "fillpattern": {
             "fillmode": "overlay",
             "size": 10,
             "solidity": 0.2
            },
            "type": "scatter"
           }
          ],
          "scatter3d": [
           {
            "line": {
             "colorbar": {
              "outlinewidth": 0,
              "ticks": ""
             }
            },
            "marker": {
             "colorbar": {
              "outlinewidth": 0,
              "ticks": ""
             }
            },
            "type": "scatter3d"
           }
          ],
          "scattercarpet": [
           {
            "marker": {
             "colorbar": {
              "outlinewidth": 0,
              "ticks": ""
             }
            },
            "type": "scattercarpet"
           }
          ],
          "scattergeo": [
           {
            "marker": {
             "colorbar": {
              "outlinewidth": 0,
              "ticks": ""
             }
            },
            "type": "scattergeo"
           }
          ],
          "scattergl": [
           {
            "marker": {
             "colorbar": {
              "outlinewidth": 0,
              "ticks": ""
             }
            },
            "type": "scattergl"
           }
          ],
          "scattermapbox": [
           {
            "marker": {
             "colorbar": {
              "outlinewidth": 0,
              "ticks": ""
             }
            },
            "type": "scattermapbox"
           }
          ],
          "scatterpolar": [
           {
            "marker": {
             "colorbar": {
              "outlinewidth": 0,
              "ticks": ""
             }
            },
            "type": "scatterpolar"
           }
          ],
          "scatterpolargl": [
           {
            "marker": {
             "colorbar": {
              "outlinewidth": 0,
              "ticks": ""
             }
            },
            "type": "scatterpolargl"
           }
          ],
          "scatterternary": [
           {
            "marker": {
             "colorbar": {
              "outlinewidth": 0,
              "ticks": ""
             }
            },
            "type": "scatterternary"
           }
          ],
          "surface": [
           {
            "colorbar": {
             "outlinewidth": 0,
             "ticks": ""
            },
            "colorscale": [
             [
              0,
              "#0d0887"
             ],
             [
              0.1111111111111111,
              "#46039f"
             ],
             [
              0.2222222222222222,
              "#7201a8"
             ],
             [
              0.3333333333333333,
              "#9c179e"
             ],
             [
              0.4444444444444444,
              "#bd3786"
             ],
             [
              0.5555555555555556,
              "#d8576b"
             ],
             [
              0.6666666666666666,
              "#ed7953"
             ],
             [
              0.7777777777777778,
              "#fb9f3a"
             ],
             [
              0.8888888888888888,
              "#fdca26"
             ],
             [
              1,
              "#f0f921"
             ]
            ],
            "type": "surface"
           }
          ],
          "table": [
           {
            "cells": {
             "fill": {
              "color": "#EBF0F8"
             },
             "line": {
              "color": "white"
             }
            },
            "header": {
             "fill": {
              "color": "#C8D4E3"
             },
             "line": {
              "color": "white"
             }
            },
            "type": "table"
           }
          ]
         },
         "layout": {
          "annotationdefaults": {
           "arrowcolor": "#2a3f5f",
           "arrowhead": 0,
           "arrowwidth": 1
          },
          "autotypenumbers": "strict",
          "coloraxis": {
           "colorbar": {
            "outlinewidth": 0,
            "ticks": ""
           }
          },
          "colorscale": {
           "diverging": [
            [
             0,
             "#8e0152"
            ],
            [
             0.1,
             "#c51b7d"
            ],
            [
             0.2,
             "#de77ae"
            ],
            [
             0.3,
             "#f1b6da"
            ],
            [
             0.4,
             "#fde0ef"
            ],
            [
             0.5,
             "#f7f7f7"
            ],
            [
             0.6,
             "#e6f5d0"
            ],
            [
             0.7,
             "#b8e186"
            ],
            [
             0.8,
             "#7fbc41"
            ],
            [
             0.9,
             "#4d9221"
            ],
            [
             1,
             "#276419"
            ]
           ],
           "sequential": [
            [
             0,
             "#0d0887"
            ],
            [
             0.1111111111111111,
             "#46039f"
            ],
            [
             0.2222222222222222,
             "#7201a8"
            ],
            [
             0.3333333333333333,
             "#9c179e"
            ],
            [
             0.4444444444444444,
             "#bd3786"
            ],
            [
             0.5555555555555556,
             "#d8576b"
            ],
            [
             0.6666666666666666,
             "#ed7953"
            ],
            [
             0.7777777777777778,
             "#fb9f3a"
            ],
            [
             0.8888888888888888,
             "#fdca26"
            ],
            [
             1,
             "#f0f921"
            ]
           ],
           "sequentialminus": [
            [
             0,
             "#0d0887"
            ],
            [
             0.1111111111111111,
             "#46039f"
            ],
            [
             0.2222222222222222,
             "#7201a8"
            ],
            [
             0.3333333333333333,
             "#9c179e"
            ],
            [
             0.4444444444444444,
             "#bd3786"
            ],
            [
             0.5555555555555556,
             "#d8576b"
            ],
            [
             0.6666666666666666,
             "#ed7953"
            ],
            [
             0.7777777777777778,
             "#fb9f3a"
            ],
            [
             0.8888888888888888,
             "#fdca26"
            ],
            [
             1,
             "#f0f921"
            ]
           ]
          },
          "colorway": [
           "#636efa",
           "#EF553B",
           "#00cc96",
           "#ab63fa",
           "#FFA15A",
           "#19d3f3",
           "#FF6692",
           "#B6E880",
           "#FF97FF",
           "#FECB52"
          ],
          "font": {
           "color": "#2a3f5f"
          },
          "geo": {
           "bgcolor": "white",
           "lakecolor": "white",
           "landcolor": "#E5ECF6",
           "showlakes": true,
           "showland": true,
           "subunitcolor": "white"
          },
          "hoverlabel": {
           "align": "left"
          },
          "hovermode": "closest",
          "mapbox": {
           "style": "light"
          },
          "paper_bgcolor": "white",
          "plot_bgcolor": "#E5ECF6",
          "polar": {
           "angularaxis": {
            "gridcolor": "white",
            "linecolor": "white",
            "ticks": ""
           },
           "bgcolor": "#E5ECF6",
           "radialaxis": {
            "gridcolor": "white",
            "linecolor": "white",
            "ticks": ""
           }
          },
          "scene": {
           "xaxis": {
            "backgroundcolor": "#E5ECF6",
            "gridcolor": "white",
            "gridwidth": 2,
            "linecolor": "white",
            "showbackground": true,
            "ticks": "",
            "zerolinecolor": "white"
           },
           "yaxis": {
            "backgroundcolor": "#E5ECF6",
            "gridcolor": "white",
            "gridwidth": 2,
            "linecolor": "white",
            "showbackground": true,
            "ticks": "",
            "zerolinecolor": "white"
           },
           "zaxis": {
            "backgroundcolor": "#E5ECF6",
            "gridcolor": "white",
            "gridwidth": 2,
            "linecolor": "white",
            "showbackground": true,
            "ticks": "",
            "zerolinecolor": "white"
           }
          },
          "shapedefaults": {
           "line": {
            "color": "#2a3f5f"
           }
          },
          "ternary": {
           "aaxis": {
            "gridcolor": "white",
            "linecolor": "white",
            "ticks": ""
           },
           "baxis": {
            "gridcolor": "white",
            "linecolor": "white",
            "ticks": ""
           },
           "bgcolor": "#E5ECF6",
           "caxis": {
            "gridcolor": "white",
            "linecolor": "white",
            "ticks": ""
           }
          },
          "title": {
           "x": 0.05
          },
          "xaxis": {
           "automargin": true,
           "gridcolor": "white",
           "linecolor": "white",
           "ticks": "",
           "title": {
            "standoff": 15
           },
           "zerolinecolor": "white",
           "zerolinewidth": 2
          },
          "yaxis": {
           "automargin": true,
           "gridcolor": "white",
           "linecolor": "white",
           "ticks": "",
           "title": {
            "standoff": 15
           },
           "zerolinecolor": "white",
           "zerolinewidth": 2
          }
         }
        },
        "xaxis": {
         "anchor": "y",
         "autorange": true,
         "domain": [
          0,
          1
         ],
         "range": [
          0.8179977916820023,
          4.182002208317997
         ],
         "type": "linear"
        },
        "xaxis2": {
         "anchor": "y2",
         "autorange": true,
         "domain": [
          0,
          1
         ],
         "range": [
          0.8179977916820023,
          4.182002208317997
         ],
         "type": "linear"
        },
        "xaxis3": {
         "anchor": "y3",
         "autorange": true,
         "domain": [
          0,
          1
         ],
         "range": [
          0.8179977916820023,
          4.182002208317997
         ],
         "type": "linear"
        },
        "yaxis": {
         "anchor": "x",
         "domain": [
          0.7777777777777778,
          1
         ],
         "range": [
          -9.210340371976182,
          0
         ],
         "type": "log"
        },
        "yaxis2": {
         "anchor": "x2",
         "domain": [
          0.3888888888888889,
          0.6111111111111112
         ],
         "range": [
          -9.210340371976182,
          0
         ],
         "type": "log"
        },
        "yaxis3": {
         "anchor": "x3",
         "domain": [
          0,
          0.22222222222222224
         ],
         "range": [
          -9.210340371976182,
          0
         ],
         "type": "log"
        }
       }
      },
      "image/png": "[encoded data removed]",
      "text/html": [
       "<div>                            <div id=\"71b451ea-13e3-4dd0-92cb-b73480b384a8\" class=\"plotly-graph-div\" style=\"height:800px; width:100%;\"></div>            <script type=\"text/javascript\">                require([\"plotly\"], function(Plotly) {                    window.PLOTLYENV=window.PLOTLYENV || {};                                    if (document.getElementById(\"71b451ea-13e3-4dd0-92cb-b73480b384a8\")) {                    Plotly.newPlot(                        \"71b451ea-13e3-4dd0-92cb-b73480b384a8\",                        [{\"mode\":\"lines+markers+text\",\"name\":\"LED1\",\"text\":[\"200uA\",\"200uA\",\"200uA\",\"200uA\",\"200uA\",\"200uA\",\"200uA\",\"200uA\",\"200uA\",\"200uA\",\"200uA\",\"200uA\",\"200uA\",\"200uA\",\"200uA\",\"200uA\"],\"textposition\":\"top center\",\"x\":[1.0,1.2,1.4,1.5999999999999999,1.7999999999999998,1.9999999999999998,2.1999999999999997,2.3999999999999995,2.5999999999999996,2.8,2.9999999999999996,3.1999999999999993,3.3999999999999995,3.5999999999999996,3.7999999999999994,3.999999999999999],\"y\":[-2.685546875e-08,-2.01416015625e-08,8.72802734375e-08,4.6258544921875e-06,2.9312744140625e-05,6.59234619140625e-05,0.000107623291015625,0.0001519482421875,0.00019773681640625,0.0002359454345703125,0.00024032958984375,0.0002403564453125,0.0002403094482421875,0.00024032958984375,0.00024033630371093751,0.000240343017578125],\"type\":\"scatter\",\"xaxis\":\"x\",\"yaxis\":\"y\"},{\"mode\":\"lines+markers+text\",\"name\":\"LED1\",\"text\":[\"5uA\",\"5uA\",\"5uA\",\"5uA\",\"200uA\",\"200uA\",\"200uA\",\"200uA\",\"2mA\",\"2mA\",\"2mA\",\"2mA\",\"2mA\",\"2mA\",\"2mA\",\"2mA\"],\"textposition\":\"top center\",\"x\":[1.0,1.2,1.4,1.5999999999999999,1.7999999999999998,1.9999999999999998,2.1999999999999997,2.3999999999999995,2.5999999999999996,2.8,2.9999999999999996,3.1999999999999993,3.3999999999999995,3.5999999999999996,3.7999999999999994,3.999999999999999],\"y\":[2.5177001953125e-09,4.0283203125e-09,9.85260009765625e-08,4.6231689453125e-06,2.9191894531250002e-05,6.58428955078125e-05,0.00010754943847656251,0.0001518475341796875,0.000197454833984375,0.00024398193359375002,0.0002919189453125,0.000340057373046875,0.000388330078125,0.00043707275390625003,0.000486083984375,0.00053536376953125],\"type\":\"scatter\",\"xaxis\":\"x2\",\"yaxis\":\"y2\"},{\"mode\":\"lines+markers+text\",\"name\":\"LED2\",\"text\":[\"5uA\",\"5uA\",\"5uA\",\"5uA\",\"5uA\",\"5uA\",\"5uA\",\"20uA\",\"200uA\",\"200uA\",\"200uA\",\"200uA\",\"2mA\",\"2mA\",\"2mA\",\"2mA\"],\"textposition\":\"top center\",\"x\":[1.0,1.2,1.4,1.5999999999999999,1.7999999999999998,1.9999999999999998,2.1999999999999997,2.3999999999999995,2.5999999999999996,2.8,2.9999999999999996,3.1999999999999993,3.3999999999999995,3.5999999999999996,3.7999999999999994,3.999999999999999],\"y\":[2.349853515625e-09,3.1890869140624998e-09,1.8463134765625e-09,2.5177001953125e-09,5.2032470703125e-09,3.23944091796875e-08,5.711822509765625e-07,7.57659912109375e-06,3.1676025390625e-05,6.711853027343751e-05,0.000107744140625,0.0001509814453125,0.00019530639648437503,0.000241162109375,0.00028755493164062503,0.000334619140625],\"type\":\"scatter\",\"xaxis\":\"x3\",\"yaxis\":\"y3\"}],                        {\"template\":{\"data\":{\"histogram2dcontour\":[{\"type\":\"histogram2dcontour\",\"colorbar\":{\"outlinewidth\":0,\"ticks\":\"\"},\"colorscale\":[[0.0,\"#0d0887\"],[0.1111111111111111,\"#46039f\"],[0.2222222222222222,\"#7201a8\"],[0.3333333333333333,\"#9c179e\"],[0.4444444444444444,\"#bd3786\"],[0.5555555555555556,\"#d8576b\"],[0.6666666666666666,\"#ed7953\"],[0.7777777777777778,\"#fb9f3a\"],[0.8888888888888888,\"#fdca26\"],[1.0,\"#f0f921\"]]}],\"choropleth\":[{\"type\":\"choropleth\",\"colorbar\":{\"outlinewidth\":0,\"ticks\":\"\"}}],\"histogram2d\":[{\"type\":\"histogram2d\",\"colorbar\":{\"outlinewidth\":0,\"ticks\":\"\"},\"colorscale\":[[0.0,\"#0d0887\"],[0.1111111111111111,\"#46039f\"],[0.2222222222222222,\"#7201a8\"],[0.3333333333333333,\"#9c179e\"],[0.4444444444444444,\"#bd3786\"],[0.5555555555555556,\"#d8576b\"],[0.6666666666666666,\"#ed7953\"],[0.7777777777777778,\"#fb9f3a\"],[0.8888888888888888,\"#fdca26\"],[1.0,\"#f0f921\"]]}],\"heatmap\":[{\"type\":\"heatmap\",\"colorbar\":{\"outlinewidth\":0,\"ticks\":\"\"},\"colorscale\":[[0.0,\"#0d0887\"],[0.1111111111111111,\"#46039f\"],[0.2222222222222222,\"#7201a8\"],[0.3333333333333333,\"#9c179e\"],[0.4444444444444444,\"#bd3786\"],[0.5555555555555556,\"#d8576b\"],[0.6666666666666666,\"#ed7953\"],[0.7777777777777778,\"#fb9f3a\"],[0.8888888888888888,\"#fdca26\"],[1.0,\"#f0f921\"]]}],\"heatmapgl\":[{\"type\":\"heatmapgl\",\"colorbar\":{\"outlinewidth\":0,\"ticks\":\"\"},\"colorscale\":[[0.0,\"#0d0887\"],[0.1111111111111111,\"#46039f\"],[0.2222222222222222,\"#7201a8\"],[0.3333333333333333,\"#9c179e\"],[0.4444444444444444,\"#bd3786\"],[0.5555555555555556,\"#d8576b\"],[0.6666666666666666,\"#ed7953\"],[0.7777777777777778,\"#fb9f3a\"],[0.8888888888888888,\"#fdca26\"],[1.0,\"#f0f921\"]]}],\"contourcarpet\":[{\"type\":\"contourcarpet\",\"colorbar\":{\"outlinewidth\":0,\"ticks\":\"\"}}],\"contour\":[{\"type\":\"contour\",\"colorbar\":{\"outlinewidth\":0,\"ticks\":\"\"},\"colorscale\":[[0.0,\"#0d0887\"],[0.1111111111111111,\"#46039f\"],[0.2222222222222222,\"#7201a8\"],[0.3333333333333333,\"#9c179e\"],[0.4444444444444444,\"#bd3786\"],[0.5555555555555556,\"#d8576b\"],[0.6666666666666666,\"#ed7953\"],[0.7777777777777778,\"#fb9f3a\"],[0.8888888888888888,\"#fdca26\"],[1.0,\"#f0f921\"]]}],\"surface\":[{\"type\":\"surface\",\"colorbar\":{\"outlinewidth\":0,\"ticks\":\"\"},\"colorscale\":[[0.0,\"#0d0887\"],[0.1111111111111111,\"#46039f\"],[0.2222222222222222,\"#7201a8\"],[0.3333333333333333,\"#9c179e\"],[0.4444444444444444,\"#bd3786\"],[0.5555555555555556,\"#d8576b\"],[0.6666666666666666,\"#ed7953\"],[0.7777777777777778,\"#fb9f3a\"],[0.8888888888888888,\"#fdca26\"],[1.0,\"#f0f921\"]]}],\"mesh3d\":[{\"type\":\"mesh3d\",\"colorbar\":{\"outlinewidth\":0,\"ticks\":\"\"}}],\"scatter\":[{\"fillpattern\":{\"fillmode\":\"overlay\",\"size\":10,\"solidity\":0.2},\"type\":\"scatter\"}],\"parcoords\":[{\"type\":\"parcoords\",\"line\":{\"colorbar\":{\"outlinewidth\":0,\"ticks\":\"\"}}}],\"scatterpolargl\":[{\"type\":\"scatterpolargl\",\"marker\":{\"colorbar\":{\"outlinewidth\":0,\"ticks\":\"\"}}}],\"bar\":[{\"error_x\":{\"color\":\"#2a3f5f\"},\"error_y\":{\"color\":\"#2a3f5f\"},\"marker\":{\"line\":{\"color\":\"#E5ECF6\",\"width\":0.5},\"pattern\":{\"fillmode\":\"overlay\",\"size\":10,\"solidity\":0.2}},\"type\":\"bar\"}],\"scattergeo\":[{\"type\":\"scattergeo\",\"marker\":{\"colorbar\":{\"outlinewidth\":0,\"ticks\":\"\"}}}],\"scatterpolar\":[{\"type\":\"scatterpolar\",\"marker\":{\"colorbar\":{\"outlinewidth\":0,\"ticks\":\"\"}}}],\"histogram\":[{\"marker\":{\"pattern\":{\"fillmode\":\"overlay\",\"size\":10,\"solidity\":0.2}},\"type\":\"histogram\"}],\"scattergl\":[{\"type\":\"scattergl\",\"marker\":{\"colorbar\":{\"outlinewidth\":0,\"ticks\":\"\"}}}],\"scatter3d\":[{\"type\":\"scatter3d\",\"line\":{\"colorbar\":{\"outlinewidth\":0,\"ticks\":\"\"}},\"marker\":{\"colorbar\":{\"outlinewidth\":0,\"ticks\":\"\"}}}],\"scattermapbox\":[{\"type\":\"scattermapbox\",\"marker\":{\"colorbar\":{\"outlinewidth\":0,\"ticks\":\"\"}}}],\"scatterternary\":[{\"type\":\"scatterternary\",\"marker\":{\"colorbar\":{\"outlinewidth\":0,\"ticks\":\"\"}}}],\"scattercarpet\":[{\"type\":\"scattercarpet\",\"marker\":{\"colorbar\":{\"outlinewidth\":0,\"ticks\":\"\"}}}],\"carpet\":[{\"aaxis\":{\"endlinecolor\":\"#2a3f5f\",\"gridcolor\":\"white\",\"linecolor\":\"white\",\"minorgridcolor\":\"white\",\"startlinecolor\":\"#2a3f5f\"},\"baxis\":{\"endlinecolor\":\"#2a3f5f\",\"gridcolor\":\"white\",\"linecolor\":\"white\",\"minorgridcolor\":\"white\",\"startlinecolor\":\"#2a3f5f\"},\"type\":\"carpet\"}],\"table\":[{\"cells\":{\"fill\":{\"color\":\"#EBF0F8\"},\"line\":{\"color\":\"white\"}},\"header\":{\"fill\":{\"color\":\"#C8D4E3\"},\"line\":{\"color\":\"white\"}},\"type\":\"table\"}],\"barpolar\":[{\"marker\":{\"line\":{\"color\":\"#E5ECF6\",\"width\":0.5},\"pattern\":{\"fillmode\":\"overlay\",\"size\":10,\"solidity\":0.2}},\"type\":\"barpolar\"}],\"pie\":[{\"automargin\":true,\"type\":\"pie\"}]},\"layout\":{\"autotypenumbers\":\"strict\",\"colorway\":[\"#636efa\",\"#EF553B\",\"#00cc96\",\"#ab63fa\",\"#FFA15A\",\"#19d3f3\",\"#FF6692\",\"#B6E880\",\"#FF97FF\",\"#FECB52\"],\"font\":{\"color\":\"#2a3f5f\"},\"hovermode\":\"closest\",\"hoverlabel\":{\"align\":\"left\"},\"paper_bgcolor\":\"white\",\"plot_bgcolor\":\"#E5ECF6\",\"polar\":{\"bgcolor\":\"#E5ECF6\",\"angularaxis\":{\"gridcolor\":\"white\",\"linecolor\":\"white\",\"ticks\":\"\"},\"radialaxis\":{\"gridcolor\":\"white\",\"linecolor\":\"white\",\"ticks\":\"\"}},\"ternary\":{\"bgcolor\":\"#E5ECF6\",\"aaxis\":{\"gridcolor\":\"white\",\"linecolor\":\"white\",\"ticks\":\"\"},\"baxis\":{\"gridcolor\":\"white\",\"linecolor\":\"white\",\"ticks\":\"\"},\"caxis\":{\"gridcolor\":\"white\",\"linecolor\":\"white\",\"ticks\":\"\"}},\"coloraxis\":{\"colorbar\":{\"outlinewidth\":0,\"ticks\":\"\"}},\"colorscale\":{\"sequential\":[[0.0,\"#0d0887\"],[0.1111111111111111,\"#46039f\"],[0.2222222222222222,\"#7201a8\"],[0.3333333333333333,\"#9c179e\"],[0.4444444444444444,\"#bd3786\"],[0.5555555555555556,\"#d8576b\"],[0.6666666666666666,\"#ed7953\"],[0.7777777777777778,\"#fb9f3a\"],[0.8888888888888888,\"#fdca26\"],[1.0,\"#f0f921\"]],\"sequentialminus\":[[0.0,\"#0d0887\"],[0.1111111111111111,\"#46039f\"],[0.2222222222222222,\"#7201a8\"],[0.3333333333333333,\"#9c179e\"],[0.4444444444444444,\"#bd3786\"],[0.5555555555555556,\"#d8576b\"],[0.6666666666666666,\"#ed7953\"],[0.7777777777777778,\"#fb9f3a\"],[0.8888888888888888,\"#fdca26\"],[1.0,\"#f0f921\"]],\"diverging\":[[0,\"#8e0152\"],[0.1,\"#c51b7d\"],[0.2,\"#de77ae\"],[0.3,\"#f1b6da\"],[0.4,\"#fde0ef\"],[0.5,\"#f7f7f7\"],[0.6,\"#e6f5d0\"],[0.7,\"#b8e186\"],[0.8,\"#7fbc41\"],[0.9,\"#4d9221\"],[1,\"#276419\"]]},\"xaxis\":{\"gridcolor\":\"white\",\"linecolor\":\"white\",\"ticks\":\"\",\"title\":{\"standoff\":15},\"zerolinecolor\":\"white\",\"automargin\":true,\"zerolinewidth\":2},\"yaxis\":{\"gridcolor\":\"white\",\"linecolor\":\"white\",\"ticks\":\"\",\"title\":{\"standoff\":15},\"zerolinecolor\":\"white\",\"automargin\":true,\"zerolinewidth\":2},\"scene\":{\"xaxis\":{\"backgroundcolor\":\"#E5ECF6\",\"gridcolor\":\"white\",\"linecolor\":\"white\",\"showbackground\":true,\"ticks\":\"\",\"zerolinecolor\":\"white\",\"gridwidth\":2},\"yaxis\":{\"backgroundcolor\":\"#E5ECF6\",\"gridcolor\":\"white\",\"linecolor\":\"white\",\"showbackground\":true,\"ticks\":\"\",\"zerolinecolor\":\"white\",\"gridwidth\":2},\"zaxis\":{\"backgroundcolor\":\"#E5ECF6\",\"gridcolor\":\"white\",\"linecolor\":\"white\",\"showbackground\":true,\"ticks\":\"\",\"zerolinecolor\":\"white\",\"gridwidth\":2}},\"shapedefaults\":{\"line\":{\"color\":\"#2a3f5f\"}},\"annotationdefaults\":{\"arrowcolor\":\"#2a3f5f\",\"arrowhead\":0,\"arrowwidth\":1},\"geo\":{\"bgcolor\":\"white\",\"landcolor\":\"#E5ECF6\",\"subunitcolor\":\"white\",\"showland\":true,\"showlakes\":true,\"lakecolor\":\"white\"},\"title\":{\"x\":0.05},\"mapbox\":{\"style\":\"light\"}}},\"xaxis\":{\"anchor\":\"y\",\"domain\":[0.0,1.0]},\"yaxis\":{\"anchor\":\"x\",\"domain\":[0.7777777777777778,1.0],\"type\":\"log\",\"range\":[-9.210340371976182,0.0]},\"xaxis2\":{\"anchor\":\"y2\",\"domain\":[0.0,1.0]},\"yaxis2\":{\"anchor\":\"x2\",\"domain\":[0.3888888888888889,0.6111111111111112],\"type\":\"log\",\"range\":[-9.210340371976182,0.0]},\"xaxis3\":{\"anchor\":\"y3\",\"domain\":[0.0,1.0]},\"yaxis3\":{\"anchor\":\"x3\",\"domain\":[0.0,0.22222222222222224],\"type\":\"log\",\"range\":[-9.210340371976182,0.0]},\"annotations\":[{\"font\":{\"size\":16},\"showarrow\":false,\"text\":\"LED1 current vs voltage wo autorange\",\"x\":0.5,\"xanchor\":\"center\",\"xref\":\"paper\",\"y\":1.0,\"yanchor\":\"bottom\",\"yref\":\"paper\"},{\"font\":{\"size\":16},\"showarrow\":false,\"text\":\"LED1 current vs voltage w. autorange\",\"x\":0.5,\"xanchor\":\"center\",\"xref\":\"paper\",\"y\":0.6111111111111112,\"yanchor\":\"bottom\",\"yref\":\"paper\"},{\"font\":{\"size\":16},\"showarrow\":false,\"text\":\"LED2 current vs voltage w. autorange\",\"x\":0.5,\"xanchor\":\"center\",\"xref\":\"paper\",\"y\":0.22222222222222224,\"yanchor\":\"bottom\",\"yref\":\"paper\"}],\"height\":800},                        {\"responsive\": true}                    ).then(function(){\n",
       "                            \n",
       "var gd = document.getElementById('71b451ea-13e3-4dd0-92cb-b73480b384a8');\n",
       "var x = new MutationObserver(function (mutations, observer) {{\n",
       "        var display = window.getComputedStyle(gd).display;\n",
       "        if (!display || display === 'none') {{\n",
       "            console.log([gd, 'removed!']);\n",
       "            Plotly.purge(gd);\n",
       "            observer.disconnect();\n",
       "        }}\n",
       "}});\n",
       "\n",
       "// Listen for the removal of the full notebook cells\n",
       "var notebookContainer = gd.closest('#notebook-container');\n",
       "if (notebookContainer) {{\n",
       "    x.observe(notebookContainer, {childList: true});\n",
       "}}\n",
       "\n",
       "// Listen for the clearing of the current output cell\n",
       "var outputEl = gd.closest('.output');\n",
       "if (outputEl) {{\n",
       "    x.observe(outputEl, {childList: true});\n",
       "}}\n",
       "\n",
       "                        })                };                });            </script>        </div>"
      ]
     },
     "metadata": {},
     "output_type": "display_data"
    }
   ],
   "source": [
    "from plotly.subplots import make_subplots\n",
    "def create_fig():  \n",
    "    fig = make_subplots(rows=3, cols=1,  subplot_titles=(\"LED1 current vs voltage wo autorange\", \"LED1 current vs voltage w. autorange\", \"LED2 current vs voltage w. autorange\"))\n",
    "    fig.add_trace(go.Scatter(x=sweep_without_autorange[0], y=sweep_without_autorange[1],\n",
    "                        mode='lines+markers+text',\n",
    "                        text = [s.replace(\"Range_\", \"\") for s in sweep_without_autorange[3]],\n",
    "                        textposition=\"top center\",\n",
    "                        name='LED1'),  row=1, col=1)\n",
    "    fig.add_trace(go.Scatter(x=sweep_with_autorange[0], y=sweep_with_autorange[1],\n",
    "                        mode='lines+markers+text',\n",
    "                        text = [s.replace(\"Range_\", \"\") for s in sweep_with_autorange[3]],\n",
    "                        textposition=\"top center\",\n",
    "                        name='LED1'),  row=2, col=1)\n",
    "    fig.add_trace(go.Scatter(x=sweep_with_autorange[0], y=sweep_with_autorange[2],\n",
    "                        mode='lines+markers+text',\n",
    "                        text = [s.replace(\"Range_\", \"\") for s in sweep_with_autorange[4]],\n",
    "                        textposition=\"top center\",\n",
    "                        name='LED2'),  row=3, col=1)\n",
    "    fig.update_yaxes(type=\"log\", range=[np.log(0.0001),np.log(1)], row=1, col=1)\n",
    "    fig.update_yaxes(type=\"log\", range=[np.log(0.0001),np.log(1)], row=2, col=1)\n",
    "    fig.update_yaxes(type=\"log\", range=[np.log(0.0001),np.log(1)], row=3, col=1)\n",
    "    fig.update_layout(height=800)\n",
    "    return fig\n",
    "fig = create_fig()\n",
    "fig\n",
    "#uncomment in pure python script:\n",
    "#fig.show()"
   ]
  },
  {
   "cell_type": "code",
   "execution_count": 45,
   "id": "aa075a01-4a01-4f83-bbce-3085cd2eeb78",
   "metadata": {},
   "outputs": [],
   "source": [
    "srunner.shutdown()"
   ]
  },
  {
   "cell_type": "code",
   "execution_count": null,
   "id": "241019b7-2491-4fae-b61b-9308f6d7fb5d",
   "metadata": {},
   "outputs": [],
   "source": []
  }
 ],
 "metadata": {
  "kernelspec": {
   "display_name": "Python 3 (ipykernel)",
   "language": "python",
   "name": "python3"
  },
  "language_info": {
   "codemirror_mode": {
    "name": "ipython",
    "version": 3
   },
   "file_extension": ".py",
   "mimetype": "text/x-python",
   "name": "python",
   "nbconvert_exporter": "python",
   "pygments_lexer": "ipython3",
   "version": "3.9.13"
  }
 },
 "nbformat": 4,
 "nbformat_minor": 5
}
