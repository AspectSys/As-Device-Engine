{
 "cells": [
  {
   "cell_type": "markdown",
   "id": "c91dc1a0-913f-418c-8490-339e69b657e0",
   "metadata": {},
   "source": [
    "# Getting startet with the Aspect Device Engine Python API 8\n",
    "## Parameter tables"
   ]
  },
  {
   "cell_type": "markdown",
   "id": "201fe7e4-eb1d-4fe9-bd80-018f6b01af0a",
   "metadata": {},
   "source": [
    "This is the 8th introductory overview of programming the Aspect Device Engine Python API.  \n",
    "This document is available as pdf and interactive jupyter notebook.\n",
    "The introduction includes the following objectives:  \n",
    "![title](test.png)  \n",
    "\n",
    "**TODO**"
   ]
  },
  {
   "cell_type": "code",
   "execution_count": 1,
   "id": "7aad04b5-9453-480e-a1b8-ad83f9b136da",
   "metadata": {},
   "outputs": [],
   "source": [
    "from aspectdeviceengine.enginecore import IdSmuService, IdSmuSettingsService, IdSmuServiceRunner, IdSmuBoardModel, IdSmuSettingsService\n",
    "from aspectdeviceengine.enginecore import IdSmuBoardModel, IdqTable, IdqTableGroup\n",
    "import plotly.graph_objects as go\n",
    "import pathlib,os\n",
    "import numpy as np\n",
    "srunner = IdSmuServiceRunner()"
   ]
  },
  {
   "cell_type": "code",
   "execution_count": 7,
   "id": "01b16935-099e-4bee-8266-c518940a18fc",
   "metadata": {},
   "outputs": [],
   "source": [
    "mbX1 : IdSmuBoardModel = srunner.get_idsmu_service().get_first_board()"
   ]
  },
  {
   "cell_type": "code",
   "execution_count": 2,
   "id": "1ad9615c-5636-465e-9117-fd1b463e55a7",
   "metadata": {},
   "outputs": [
    {
     "name": "stdout",
     "output_type": "stream",
     "text": [
      "C:\\repos\\AspectDeviceClients\\PythonMain\\doc\\aspect_device_engine_books\\device_engine_book\\docs\n"
     ]
    }
   ],
   "source": [
    "setting_service : IdSmuSettingsService = srunner.get_idsmu_service().get_settings_service()"
   ]
  },
  {
   "cell_type": "code",
   "execution_count": 6,
   "id": "b452aaf2-ca89-4500-8463-33a3a50f0253",
   "metadata": {},
   "outputs": [
    {
     "name": "stdout",
     "output_type": "stream",
     "text": [
      "['M1_test']\n",
      "Group name: SMU-Channel\n",
      "+-----------+------------+----------+-------+-------------+------------------+-----------+--------------+--------------+-----------------+\n",
      "| SettingId | HardwareId | Name     | Group | Type        | OutputForceValue | ForceMode | EnableOutput | CurrentRange | MeasurementMode |\n",
      "+-----------+------------+----------+-------+-------------+------------------+-----------+--------------+--------------+-----------------+\n",
      "| 0         | M1.S1.C1   | M1.S1.C1 | All   | SMU-Channel | 1                | FV        | 1            | 70mA         | HighZ           |\n",
      "| 0         | M1.S1.C2   | M1.S1.C2 | All   | SMU-Channel | 1                | FV        | 1            | 70mA         | HighZ           |\n",
      "| 0         | M1.S1.C3   | M1.S1.C3 | All   | SMU-Channel | 1                | FV        | 0            | 70mA         | HighZ           |\n",
      "| 0         | M1.S1.C4   | M1.S1.C4 | All   | SMU-Channel | 1                | FV        | 0            | 70mA         | HighZ           |\n",
      "+-----------+------------+----------+-------+-------------+------------------+-----------+--------------+--------------+-----------------+\n",
      "\n",
      "Group name: SMU-Device\n",
      "+-----------+------------+-------+-------+------------+--------+---------------+\n",
      "| SettingId | HardwareId | Name  | Group | Type       | INT10K | ExternalPower |\n",
      "+-----------+------------+-------+-------+------------+--------+---------------+\n",
      "| 0         | M1.S1      | M1.S1 | All   | SMU-Device | 1      | 0             |\n",
      "+-----------+------------+-------+-------+------------+--------+---------------+\n",
      "\n",
      "\n"
     ]
    }
   ],
   "source": [
    "setting_service.import_settings_from_csv(os.path.join(os.path.abspath(\"\"), \"setting_tables_m1.csv\" ))\n",
    "print(setting_service.get_parameter_settings_names())\n",
    "print(setting_service.print_settings('M1_test', False, False, 10))"
   ]
  },
  {
   "cell_type": "code",
   "execution_count": 12,
   "id": "faba99ef-7120-4ed8-b4c2-7a38a6fc9661",
   "metadata": {},
   "outputs": [],
   "source": [
    "paratable : IdqTable = setting_service.get_parameter_setting('M1_test')\n",
    "group : IdqTableGroup = paratable.get_table_group('SMU-Channel')"
   ]
  },
  {
   "cell_type": "code",
   "execution_count": 30,
   "id": "1a5cadf2-9640-4dd7-bbb0-d42b46211e3c",
   "metadata": {},
   "outputs": [
    {
     "name": "stdout",
     "output_type": "stream",
     "text": [
      "[0, 1]\n"
     ]
    }
   ],
   "source": [
    "row_idx = [group.get_row_index('HardwareId', 'M1.S1.C1'), group.get_row_index('HardwareId', 'M1.S1.C2')]\n",
    "print(row_idx)"
   ]
  },
  {
   "cell_type": "code",
   "execution_count": 31,
   "id": "6914dac0-cfc2-4fc1-80fc-12bca87ab7ef",
   "metadata": {},
   "outputs": [
    {
     "name": "stdout",
     "output_type": "stream",
     "text": [
      "Group name: SMU-Channel\n",
      "+-----------+------------+----------+-------+-------------+------------------+-----------+--------------+--------------+-----------------+\n",
      "| SettingId | HardwareId | Name     | Group | Type        | OutputForceValue | ForceMode | EnableOutput | CurrentRange | MeasurementMode |\n",
      "+-----------+------------+----------+-------+-------------+------------------+-----------+--------------+--------------+-----------------+\n",
      "| 0         | M1.S1.C1   | M1.S1.C1 | All   | SMU-Channel | 5                | FV        | 1            | 70mA         | HighZ           |\n",
      "| 0         | M1.S1.C2   | M1.S1.C2 | All   | SMU-Channel | 6                | FV        | 1            | 70mA         | HighZ           |\n",
      "| 0         | M1.S1.C3   | M1.S1.C3 | All   | SMU-Channel | 1                | FV        | 0            | 70mA         | HighZ           |\n",
      "| 0         | M1.S1.C4   | M1.S1.C4 | All   | SMU-Channel | 1                | FV        | 0            | 70mA         | HighZ           |\n",
      "+-----------+------------+----------+-------+-------------+------------------+-----------+--------------+--------------+-----------------+\n",
      "\n",
      "Group name: SMU-Device\n",
      "+-----------+------------+-------+-------+------------+--------+---------------+\n",
      "| SettingId | HardwareId | Name  | Group | Type       | INT10K | ExternalPower |\n",
      "+-----------+------------+-------+-------+------------+--------+---------------+\n",
      "| 0         | M1.S1      | M1.S1 | All   | SMU-Device | 1      | 0             |\n",
      "+-----------+------------+-------+-------+------------+--------+---------------+\n",
      "\n",
      "\n"
     ]
    }
   ],
   "source": [
    "group.set_parameter_value(row_index=row_idx[0], parameter_name='OutputForceValue', parameter_value='5')\n",
    "group.set_parameter_value(row_index=row_idx[1], parameter_name='OutputForceValue', parameter_value='6')\n",
    "print(setting_service.print_settings('M1_test', False, False, 10))"
   ]
  },
  {
   "cell_type": "code",
   "execution_count": 23,
   "id": "44c91518-e5dc-4613-a23b-d865b4f5c07f",
   "metadata": {},
   "outputs": [
    {
     "name": "stdout",
     "output_type": "stream",
     "text": [
      "True\n",
      "4.998809814453125\n",
      "True\n",
      "5.999847412109375\n"
     ]
    }
   ],
   "source": [
    "setting_service.apply_parameter_setting('M1_test', 'M1', False, 'SMU-Channel')\n",
    "print(mbX1.idSmu2Modules['M1.S1'].smu.channels['M1.S1.C1'].enabled)\n",
    "print(mbX1.idSmu2Modules['M1.S1'].smu.channels['M1.S1.C1'].voltage)\n",
    "print(mbX1.idSmu2Modules['M1.S1'].smu.channels['M1.S1.C2'].enabled)\n",
    "print(mbX1.idSmu2Modules['M1.S1'].smu.channels['M1.S1.C2'].voltage)"
   ]
  },
  {
   "cell_type": "code",
   "execution_count": 38,
   "id": "b3195bb1-9ae3-4108-9332-144947be4045",
   "metadata": {},
   "outputs": [
    {
     "name": "stdout",
     "output_type": "stream",
     "text": [
      "Group name: SMU-Channel\n",
      "+-----------+------------+----------+-------+-------------+------------------+-----------+--------------+--------------+-----------------+\n",
      "| SettingId | HardwareId | Name     | Group | Type        | OutputForceValue | ForceMode | EnableOutput | CurrentRange | MeasurementMode |\n",
      "+-----------+------------+----------+-------+-------------+------------------+-----------+--------------+--------------+-----------------+\n",
      "| 0         | M1.S1.C1   | M1.S1.C1 | All   | SMU-Channel | 0                | FV        | 1            | 70mA         | HighZ           |\n",
      "| 0         | M1.S1.C2   | M1.S1.C2 | All   | SMU-Channel | 6                | FV        | 0            | 70mA         | HighZ           |\n",
      "| 0         | M1.S1.C3   | M1.S1.C3 | All   | SMU-Channel | 1                | FV        | 0            | 70mA         | HighZ           |\n",
      "| 0         | M1.S1.C4   | M1.S1.C4 | All   | SMU-Channel | 1                | FV        | 0            | 70mA         | HighZ           |\n",
      "+-----------+------------+----------+-------+-------------+------------------+-----------+--------------+--------------+-----------------+\n",
      "\n",
      "Group name: SMU-Device\n",
      "+-----------+------------+-------+-------+------------+--------+---------------+\n",
      "| SettingId | HardwareId | Name  | Group | Type       | INT10K | ExternalPower |\n",
      "+-----------+------------+-------+-------+------------+--------+---------------+\n",
      "| 0         | M1.S1      | M1.S1 | All   | SMU-Device | 1      | 0             |\n",
      "+-----------+------------+-------+-------+------------+--------+---------------+\n",
      "\n",
      "\n"
     ]
    },
    {
     "data": {
      "text/plain": [
       "4"
      ]
     },
     "execution_count": 38,
     "metadata": {},
     "output_type": "execute_result"
    }
   ],
   "source": [
    "group.at[row_idx[0], 'OutputForceValue'] = \"0\"\n",
    "group.at[row_idx[1], 'EnableOutput'] = \"0\"\n",
    "print(setting_service.print_settings('M1_test', False, False, 10))\n",
    "setting_service.apply_parameter_setting('M1_test', 'M1', False, 'SMU-Channel')"
   ]
  },
  {
   "cell_type": "code",
   "execution_count": 18,
   "id": "076d7619-5844-4119-ab65-244883b6237c",
   "metadata": {},
   "outputs": [],
   "source": [
    "srunner.shutdown()"
   ]
  }
 ],
 "metadata": {
  "kernelspec": {
   "display_name": "Python 3 (ipykernel)",
   "language": "python",
   "name": "python3"
  },
  "language_info": {
   "codemirror_mode": {
    "name": "ipython",
    "version": 3
   },
   "file_extension": ".py",
   "mimetype": "text/x-python",
   "name": "python",
   "nbconvert_exporter": "python",
   "pygments_lexer": "ipython3",
   "version": "3.9.13"
  }
 },
 "nbformat": 4,
 "nbformat_minor": 5
}
