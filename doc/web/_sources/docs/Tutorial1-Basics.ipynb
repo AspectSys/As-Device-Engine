{
 "cells": [
  {
   "cell_type": "markdown",
   "id": "c91dc1a0-913f-418c-8490-339e69b657e0",
   "metadata": {},
   "source": [
    "# Part 1: Basics"
   ]
  },
  {
   "cell_type": "markdown",
   "id": "201fe7e4-eb1d-4fe9-bd80-018f6b01af0a",
   "metadata": {},
   "source": [
    "This is the introductory overview of programming the Aspect Device Engine Python API.  \n",
    "This document is available as pdf and interactive jupyter notebook.\n",
    "The introduction includes the following objectives:\n",
    "\n",
    "- The few steps to initializing software and hardware\n",
    "- How to retreive information about the hardware\n",
    "- Providing a basic understanding of the structure of the API\n",
    "- The programming of essential channel parameters\n",
    "- Setting a voltage and measuring voltage and current \n",
    "\n",
    "The following spoiler shows a python code snippet and few lines of code that are necessary with the API to generate and measure a voltage:  \n",
    "\n",
    "```Python\n",
    "from aspectdeviceengine.enginecore import IdSmuServiceRunner\n",
    "from aspectdeviceengine.enginecore import IdSmuService, IdSmuBoardModel\n",
    "\n",
    "# 3 lines of code for the setup\n",
    "srunner = IdSmuServiceRunner()\n",
    "mbX1 : IdSmuBoardModel = srunner.get_idsmu_service().get_first_board()\n",
    "channel1 = mbX1.idSmu2Modules['M1.S1'].smu.channels[1]\n",
    "\n",
    "# 3 lines of code for configuration and measurement\n",
    "channel1.enabled = True\n",
    "channel1.voltage = 2\n",
    "print(channel1.voltage)  # output : ~2.0\n",
    "```\n",
    "At the end of this document, this code and some of the background to it should be understandable."
   ]
  },
  {
   "cell_type": "markdown",
   "id": "8f32233b-0bb3-4a38-a2bd-c2a940d5d8ea",
   "metadata": {},
   "source": [
    "--------\n",
    "### Python imports  \n",
    "There are only a few python imports needed for this introduction. Everthing is imported from the *aspectdeviceengine.engincore* module.\n",
    "Actually, only the IdSmuServiceRunner would be needed since this is the only class that will be instantiated. The other classes are only imported for type hinting. The objects of these types are intantiated by the API services. "
   ]
  },
  {
   "cell_type": "code",
   "execution_count": 1,
   "id": "15d734a2-90fd-482a-a270-0e43b8a5dc0a",
   "metadata": {},
   "outputs": [],
   "source": [
    "from aspectdeviceengine.enginecore import IdSmuService, IdSmuServiceRunner, IdSmuBoardModel"
   ]
  },
  {
   "cell_type": "markdown",
   "id": "f02d8ad9-57fd-4d9a-a82c-59c198eb1650",
   "metadata": {},
   "source": [
    "### Starting the services and hardware initialization\n",
    "\n",
    "#### IdSmuServiceRunner\n",
    "The *IdSmuServiceRunner* holds the references to the background services.\n",
    "If it goes out of scope, all services are shut down (cleanup processes).\n",
    "The lifetime should therefore be guranteed until the end of the session:"
   ]
  },
  {
   "cell_type": "code",
   "execution_count": 2,
   "id": "f933dd5a-6bbc-4e61-9c21-d87a582015b6",
   "metadata": {},
   "outputs": [],
   "source": [
    "srunner = IdSmuServiceRunner()"
   ]
  },
  {
   "cell_type": "markdown",
   "id": "4abea952-96b2-4f1d-8147-16a8f343fba2",
   "metadata": {},
   "source": [
    "#### IdSmuService\n",
    "idSmu devices are detected by the **IdSmuService**. If the *get_first_board()* \n",
    "method is called prior to the detection method, the detection and initialization\n",
    "is performed automatically. This is useful for situations where\n",
    "no specific configuration needs to be done before initialization.  \n",
    "\n",
    "**Important note:** At the end of a session (be it a jupyter notebook or a python script) the services must be shut down. In the case of the termination of a python script, this happens automatically. When moving from one notebook tutorial to the next, either the kernel must be terminated or the shutdown() method must be executed manually (see last cell in the notebook).\n",
    "\n",
    "#### The IdSmuBoardModel\n",
    "The IdSmuBoardModel is the host and (multiside-)controller for idSmu devices."
   ]
  },
  {
   "cell_type": "code",
   "execution_count": 3,
   "id": "7f8c312d-fd7d-4e1e-ab6f-7298ebbb992e",
   "metadata": {},
   "outputs": [],
   "source": [
    "mbX1 : IdSmuBoardModel = srunner.get_idsmu_service().get_first_board()"
   ]
  },
  {
   "cell_type": "markdown",
   "id": "8ec73877-d278-4d71-87eb-d3370fa04c82",
   "metadata": {},
   "source": [
    "With this single line of code the Hardware is detected and initialized!  \n",
    "Let's print some basic information about the detected devices for this board.  \n",
    "The most relevant information is the **DeviceId** and the device type.\n",
    "The DeviceId is used as resource identifier/ locator for the different\n",
    "parts of the hardware. The format is \\Mx.Sy.Cz, where x is the mainboard address,\n",
    "y is the device/slot number and z is the channel number.  \n",
    "In the case of the API, the terms *Resource-Id* and *Address* are sysnonyms for the same thing.\n"
   ]
  },
  {
   "cell_type": "code",
   "execution_count": 4,
   "id": "48739cdb-dda0-4d04-bd53-a4ed87063041",
   "metadata": {},
   "outputs": [
    {
     "name": "stdout",
     "output_type": "stream",
     "text": [
      "+----------+------------+-------+----------+-------------+\n",
      "| DeviceId | IdSmu-Type | Name  | Firmware | Initialized |\n",
      "+----------+------------+-------+----------+-------------+\n",
      "| M1.S1    | IdSmu2     | M1.S1 | 0x08191f | true        |\n",
      "+----------+------------+-------+----------+-------------+\n",
      "\n"
     ]
    }
   ],
   "source": [
    "print(mbX1.device_information)"
   ]
  },
  {
   "cell_type": "markdown",
   "id": "d9ac3ed3-4e76-4b3d-83dc-5a68e54100da",
   "metadata": {},
   "source": [
    "-------\n",
    "### Programming the hardware with the API\n",
    "#### idSmu Modules/Devices and Channels\n",
    "With this system of hierarchical resource localization, each resource is uniquely identifiable, \n",
    "even in a multi-board setup.  \n",
    "As we can see (in a single idSmu board setup), there is \n",
    "exactly one device with the address \"M1.S1\".  \n",
    "An idSmu device (sometimes called module) can contain one or more channels. We can obtain more information about these channels, \n",
    "for example their IDs/addresses:"
   ]
  },
  {
   "cell_type": "code",
   "execution_count": 5,
   "id": "9732563c-ba27-448f-9c32-98979400b6e8",
   "metadata": {},
   "outputs": [
    {
     "name": "stdout",
     "output_type": "stream",
     "text": [
      "idSmu2 ID:    M1.S1\n",
      "idSmu2 name:  M1.S1\n",
      "channel IDs:  ['M1.S1.C1', 'M1.S1.C2', 'M1.S1.C3', 'M1.S1.C4']\n"
     ]
    }
   ],
   "source": [
    "for idSmu2 in mbX1.idSmu2Modules.as_list():\n",
    "    print(f'idSmu2 ID:    {idSmu2.hardware_id}')\n",
    "    print(f'idSmu2 name:  {idSmu2.name}')\n",
    "    print(f'channel IDs:  {idSmu2.channel_ids}')"
   ]
  },
  {
   "cell_type": "markdown",
   "id": "7aa5b7c4-8ed9-4d34-85e5-98a9e452e650",
   "metadata": {},
   "source": [
    "#### IdSmuDeviceModel\n",
    "The idSmuModules classes are proxy classes that implement the [ ] operator for quick access to a device/module of type IdSmuDeviceModel and the as_list() method to get all devices of the same type on the board. There are implementations for the all types of idSmu.  \n",
    "\n",
    "To access a module we can simply use `idSmu2Modules['address or name of module']`"
   ]
  },
  {
   "cell_type": "code",
   "execution_count": 6,
   "id": "bc0ee753-7955-4657-806d-16fa32f2494b",
   "metadata": {},
   "outputs": [
    {
     "name": "stdout",
     "output_type": "stream",
     "text": [
      "The module's id is M1.S1 and the name is M1.S1\n"
     ]
    }
   ],
   "source": [
    "idSmu2 = mbX1.idSmu2Modules['M1.S1']\n",
    "print(f\"The module's id is {idSmu2.hardware_id} and the name is {idSmu2.name}\")"
   ]
  },
  {
   "cell_type": "markdown",
   "id": "389c7ed6-b2d9-4b2f-bc76-17b03fe07424",
   "metadata": {},
   "source": [
    "#### Alias names\n",
    "Devices can be renamed, either programmatically or by so-called parameter settings. \n",
    "Parameter settings are applied during initialization and the changed name can thus be used immediately. (programming via parameter settings is an advanced topic and will not be dealt with here).  \n",
    "The advantage of renaming resources is that you can use an alias name for addressing \n",
    "instead of the rather abstract resource IDs / addresses:"
   ]
  },
  {
   "cell_type": "code",
   "execution_count": 7,
   "id": "cfccd065-cd62-40e3-be65-16ba4a952f00",
   "metadata": {},
   "outputs": [
    {
     "name": "stdout",
     "output_type": "stream",
     "text": [
      "The module's id is still M1.S1 and the new name is MyFavoriteModule\n"
     ]
    }
   ],
   "source": [
    "idSmu2.name = 'MyFavoriteModule'\n",
    "# now we can reference the module with the new name\n",
    "my_fav_module = mbX1.idSmu2Modules['MyFavoriteModule']\n",
    "\n",
    "print(f\"The module's id is still {my_fav_module.hardware_id} and the new name is {my_fav_module.name}\")"
   ]
  },
  {
   "cell_type": "markdown",
   "id": "5fd134f2-4f54-4b9a-84ea-14912cbf1541",
   "metadata": {},
   "source": [
    "The board's device information now lists the new name:"
   ]
  },
  {
   "cell_type": "code",
   "execution_count": 8,
   "id": "5cc64493-5c9a-4a09-bfb0-904456f11059",
   "metadata": {},
   "outputs": [
    {
     "name": "stdout",
     "output_type": "stream",
     "text": [
      "+----------+------------+------------------+----------+-------------+\n",
      "| DeviceId | IdSmu-Type | Name             | Firmware | Initialized |\n",
      "+----------+------------+------------------+----------+-------------+\n",
      "| M1.S1    | IdSmu2     | MyFavoriteModule | 0x08191f | true        |\n",
      "+----------+------------+------------------+----------+-------------+\n",
      "\n"
     ]
    }
   ],
   "source": [
    "print(mbX1.device_information)"
   ]
  },
  {
   "cell_type": "markdown",
   "id": "29965222-a487-4029-8254-d64f47f82814",
   "metadata": {},
   "source": [
    "### Descending further into the model hierarchy  \n",
    "The idSmu-Hardware is not just a source measurement unit, but combines various hardware components. \n",
    "For example, digital signals can be generated or a RAM memory can be used, depending on the hardware/software support. \n",
    "The software therefore models the hardware in dedicated units. One of the most important elements of the IdSmuDeviceModel \n",
    "mentioned above is the unit with which currents and voltages can be generated and measured. \n",
    "These units are called SMU or DPS, depending on the device type. \n"
   ]
  },
  {
   "cell_type": "code",
   "execution_count": 9,
   "id": "8d3c994d-4426-48e6-9ad0-f65f213f3753",
   "metadata": {},
   "outputs": [
    {
     "name": "stdout",
     "output_type": "stream",
     "text": [
      "<aspectdeviceengine.enginecore.IdSmu2DeviceModel.Smu object at 0x000001D45EBAB030>\n"
     ]
    }
   ],
   "source": [
    "print(idSmu2.smu)"
   ]
  },
  {
   "cell_type": "markdown",
   "id": "916ae468-5137-4240-9216-eab889a739cb",
   "metadata": {},
   "source": [
    "#### The channel models\n",
    "The smu/dps subcomponents are again proxy objects and contain a Channels object.  \n",
    "This Channels object implements the [ ] operator for fast access to the channels of the source measurement unit. There is also a as_list() method again to itearate over the channels.\n",
    "The objects returned by the channels object are of type AnalogChannelModel. \n",
    "This class contains a large part of the methods and properties\n",
    "that you have to deal with in your daily work with the API.\n"
   ]
  },
  {
   "cell_type": "code",
   "execution_count": 10,
   "id": "0d7fc4b3-f8d6-4ee1-b891-14f33de61394",
   "metadata": {},
   "outputs": [
    {
     "name": "stdout",
     "output_type": "stream",
     "text": [
      "Channel number 1 with name M1.S1.C1 and identifier M1.S1.C1\n",
      "Channel number 2 with name M1.S1.C2 and identifier M1.S1.C2\n",
      "Channel number 3 with name M1.S1.C3 and identifier M1.S1.C3\n",
      "Channel number 4 with name M1.S1.C4 and identifier M1.S1.C4\n"
     ]
    }
   ],
   "source": [
    "for i, channel in enumerate(idSmu2.smu.channels.as_list()):\n",
    "    print(f\"Channel number {i+1} with name {channel.name}\"\n",
    "          f\" and identifier {channel.hardware_id}\")\n",
    "    channel.name = f'MyChannel{i+1}'"
   ]
  },
  {
   "cell_type": "markdown",
   "id": "9dd585bb-f238-43fa-b78f-880d63c9b073",
   "metadata": {},
   "source": [
    "After renaming a channel, there are 3 ways to address it:\n",
    "- through the channel number (starting from 1)\n",
    "- through the unique channel identifier\n",
    "- through the channel name"
   ]
  },
  {
   "cell_type": "code",
   "execution_count": 12,
   "id": "7020875a-86ef-4b4f-a6ca-485006982ded",
   "metadata": {},
   "outputs": [
    {
     "name": "stdout",
     "output_type": "stream",
     "text": [
      "M1.S1.C1\n",
      "M1.S1.C1\n",
      "M1.S1.C1\n"
     ]
    }
   ],
   "source": [
    "print(idSmu2.smu.channels[1].hardware_id)\n",
    "print(idSmu2.smu.channels[\"M1.S1.C1\"].hardware_id)\n",
    "print(idSmu2.smu.channels[\"MyChannel1\"].hardware_id)"
   ]
  },
  {
   "cell_type": "markdown",
   "id": "e34f1994-cf98-4217-befb-2f6658796c38",
   "metadata": {},
   "source": [
    "> **Importante Note**: Attempting to assign the same name to two different channels leads to an exception. Channel names must be unique. \n",
    "The reason is that the engine accepts names as resource identifiers for many operations. If the user were given the option to overwrite this name, bugs that are difficult to identify would be possible:"
   ]
  },
  {
   "cell_type": "code",
   "execution_count": 13,
   "id": "1eb89e34-d092-42d8-9d17-5bebca4b282c",
   "metadata": {},
   "outputs": [
    {
     "name": "stdout",
     "output_type": "stream",
     "text": [
      "Exception: The alias name MyChannel1 is already associated with the id M1.S1.C1\n"
     ]
    }
   ],
   "source": [
    "try:\n",
    "    idSmu2.smu.channels[2].name=\"MyChannel1\"\n",
    "except Exception as e:\n",
    "    print(f\"Exception: {str(e)}\")"
   ]
  },
  {
   "cell_type": "markdown",
   "id": "6b9486be-5247-4305-866d-9210ce77e94a",
   "metadata": {},
   "source": [
    "### Parameterization and measurements  \n",
    "Now we have a reference to the channel object and can finally parameterize it and take measurements.\n",
    "A channel must be active so that a voltage (or a current) can be output or meaningful measurements can be made.  \n",
    "Let's check if the channel is enabled, and if it is not, enable it:"
   ]
  },
  {
   "cell_type": "code",
   "execution_count": 13,
   "id": "f38a2705-b99a-442c-b94a-dc4818ca1648",
   "metadata": {},
   "outputs": [
    {
     "name": "stdout",
     "output_type": "stream",
     "text": [
      "Channel enabled? False\n",
      "Channel enabled? True\n"
     ]
    }
   ],
   "source": [
    "channel1 = idSmu2.smu.channels[\"MyChannel1\"]\n",
    "print(f'Channel enabled? {channel1.enabled}')\n",
    "if not channel1.enabled:\n",
    "    channel1.enabled = True\n",
    "print(f'Channel enabled? {channel1.enabled}')"
   ]
  },
  {
   "cell_type": "markdown",
   "id": "7deaec29-dcac-4bfc-8792-dea2875d0984",
   "metadata": {},
   "source": [
    "#### Measuring voltage and current  \n",
    "The quickest and easiest way to measure a voltage or a current are the properties `voltage` and `current`"
   ]
  },
  {
   "cell_type": "code",
   "execution_count": 14,
   "id": "200c230e-b830-4e4b-b396-e138b186baf7",
   "metadata": {},
   "outputs": [
    {
     "name": "stdout",
     "output_type": "stream",
     "text": [
      "Measured voltage: -0.000671\n",
      "Measured current: -0.000005\n"
     ]
    }
   ],
   "source": [
    "print(f'Measured voltage: {channel1.voltage:6f}')\n",
    "print(f'Measured current: {channel1.current:6f}')"
   ]
  },
  {
   "cell_type": "markdown",
   "id": "b1877fe4-35be-43ee-ae6e-8ceda399aa5e",
   "metadata": {},
   "source": [
    "#### Setting voltage and current  \n",
    "The quickest and easiest way to set a voltage or a current are the setters `voltage` and `current`"
   ]
  },
  {
   "cell_type": "code",
   "execution_count": 15,
   "id": "a8ae372f-24f0-4749-abed-874e5a2ed59b",
   "metadata": {},
   "outputs": [
    {
     "name": "stdout",
     "output_type": "stream",
     "text": [
      "Measured voltage: 3.138733\n"
     ]
    }
   ],
   "source": [
    "channel1.voltage = 3.14\n",
    "print(f'Measured voltage: {channel1.voltage:6f}')\n",
    "\n",
    "# Setting a current is only usefull if there is a load at the outputs\n",
    "# wheras voltages can be measured on an open output\n",
    "# channel1.current = 1E-3\n",
    "# print(f'Measured current: {channel1.current:6f}')"
   ]
  },
  {
   "cell_type": "markdown",
   "id": "bcca16e4-a47a-4bfa-aa61-2c1950778a9c",
   "metadata": {},
   "source": [
    "#### Bonus: Getting the maximum output voltage and output current ratings"
   ]
  },
  {
   "cell_type": "code",
   "execution_count": 17,
   "id": "23ac600b-521c-460e-9381-bf2c750c71bc",
   "metadata": {},
   "outputs": [
    {
     "name": "stdout",
     "output_type": "stream",
     "text": [
      "Output voltage range: [-11.000000, 10.999664] V\n",
      "Output current range: [-0.075000, 0.074998] A\n"
     ]
    }
   ],
   "source": [
    "vMin, vMax, iMin, iMax = channel1.output_ranges\n",
    "print(f'Output voltage range: [{vMin:6f}, {vMax:6f}] V')\n",
    "print(f'Output current range: [{iMin:6f}, {iMax:6f}] A')"
   ]
  },
  {
   "cell_type": "code",
   "execution_count": 18,
   "id": "076d7619-5844-4119-ab65-244883b6237c",
   "metadata": {},
   "outputs": [],
   "source": [
    "srunner.shutdown()"
   ]
  },
  {
   "cell_type": "markdown",
   "id": "cbaf7f75-ddea-4850-8f7c-f1263d5804f0",
   "metadata": {},
   "source": [
    "---"
   ]
  }
 ],
 "metadata": {
  "kernelspec": {
   "display_name": "Python 3 (ipykernel)",
   "language": "python",
   "name": "python3"
  },
  "language_info": {
   "codemirror_mode": {
    "name": "ipython",
    "version": 3
   },
   "file_extension": ".py",
   "mimetype": "text/x-python",
   "name": "python",
   "nbconvert_exporter": "python",
   "pygments_lexer": "ipython3",
   "version": "3.9.13"
  }
 },
 "nbformat": 4,
 "nbformat_minor": 5
}
