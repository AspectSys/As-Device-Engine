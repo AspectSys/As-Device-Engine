{
 "cells": [
  {
   "cell_type": "markdown",
   "id": "c91dc1a0-913f-418c-8490-339e69b657e0",
   "metadata": {},
   "source": [
    "# Getting startet with the Aspect Device Engine Python API 8b\n",
    "## Parameter tables II"
   ]
  },
  {
   "cell_type": "markdown",
   "id": "201fe7e4-eb1d-4fe9-bd80-018f6b01af0a",
   "metadata": {},
   "source": [
    "This is the 8th introductory overview of programming the Aspect Device Engine Python API.  \n",
    "This document is available as pdf and interactive jupyter notebook.\n",
    "The introduction includes the following objectives:    \n",
    "- How to export the state of the hardware into a parameter table file\n",
    "- Filtering\n",
    "  \n",
    "### Introduction\n",
    "The basics of the parameter tables were presented in the last chapter.  \n",
    "Further options will now be discussed."
   ]
  },
  {
   "cell_type": "code",
   "execution_count": 1,
   "id": "7aad04b5-9453-480e-a1b8-ad83f9b136da",
   "metadata": {},
   "outputs": [],
   "source": [
    "from aspectdeviceengine.enginecore import IdSmuService, IdSmuSettingsService, IdSmuServiceRunner, IdSmuBoardModel, IdSmuSettingsService\n",
    "from aspectdeviceengine.enginecore import IdSmuBoardModel, IdqTable, IdqTableGroup\n",
    "import plotly.graph_objects as go\n",
    "import pathlib,os\n",
    "import numpy as np\n",
    "srunner = IdSmuServiceRunner()\n",
    "mbX1 : IdSmuBoardModel = srunner.get_idsmu_service().get_first_board()"
   ]
  },
  {
   "cell_type": "markdown",
   "id": "ffb2ef55-9b39-41fb-8ddd-104a6462e94b",
   "metadata": {},
   "source": [
    "The `IdSmuSettingsService` class is used to load and apply tables:"
   ]
  },
  {
   "cell_type": "code",
   "execution_count": 2,
   "id": "1ad9615c-5636-465e-9117-fd1b463e55a7",
   "metadata": {},
   "outputs": [],
   "source": [
    "setting_service : IdSmuSettingsService = srunner.get_idsmu_service().get_settings_service()"
   ]
  },
  {
   "cell_type": "markdown",
   "id": "432eddea-16db-4ff1-b57f-3f018adc695a",
   "metadata": {},
   "source": [
    "### Exporting a table\n",
    "The Methode get_parameter_settings_for_board() is used to read out the current status of the hardware and generate a parameter table.  \n",
    "We first change a few parameters and then analyse the table: "
   ]
  },
  {
   "cell_type": "code",
   "execution_count": 3,
   "id": "b452aaf2-ca89-4500-8463-33a3a50f0253",
   "metadata": {},
   "outputs": [
    {
     "name": "stdout",
     "output_type": "stream",
     "text": [
      "M1\n",
      "Group name: SMU-Channel\n",
      "+-----------+------------+----------+-------+-------------+------------------+-----------+--------------+--------------+-----------------+\n",
      "| SettingId | HardwareId | Name     | Group | Type        | OutputForceValue | ForceMode | EnableOutput | CurrentRange | MeasurementMode |\n",
      "+-----------+------------+----------+-------+-------------+------------------+-----------+--------------+--------------+-----------------+\n",
      "| 0         | M1.S1.C1   | M1.S1.C1 | All   | SMU-Channel | 1,000000         | FV        | 0            | 70mA         | HighZ           |\n",
      "| 0         | M1.S1.C2   | M1.S1.C2 | All   | SMU-Channel | 2,000000         | FV        | 0            | 70mA         | HighZ           |\n",
      "| 0         | M1.S1.C3   | M1.S1.C3 | All   | SMU-Channel | 3,000000         | FV        | 0            | 70mA         | HighZ           |\n",
      "| 0         | M1.S1.C4   | M1.S1.C4 | All   | SMU-Channel | 4,000000         | FV        | 0            | 70mA         | HighZ           |\n",
      "+-----------+------------+----------+-------+-------------+------------------+-----------+--------------+--------------+-----------------+\n",
      "\n",
      "Group name: SMU-Device\n",
      "+-----------+------------+-------+-------+------------+--------+---------------+\n",
      "| SettingId | HardwareId | Name  | Group | Type       | INT10K | ExternalPower |\n",
      "+-----------+------------+-------+-------+------------+--------+---------------+\n",
      "| 0         | M1.S1      | M1.S1 | All   | SMU-Device | 1      | 0             |\n",
      "+-----------+------------+-------+-------+------------+--------+---------------+\n",
      "\n",
      "\n"
     ]
    }
   ],
   "source": [
    "mbX1.idSmu2Modules['M1.S1'].smu.channels['M1.S1.C1'].voltage = 1\n",
    "mbX1.idSmu2Modules['M1.S1'].smu.channels['M1.S1.C2'].voltage = 2\n",
    "mbX1.idSmu2Modules['M1.S1'].smu.channels['M1.S1.C3'].voltage = 3\n",
    "mbX1.idSmu2Modules['M1.S1'].smu.channels['M1.S1.C4'].voltage = 4\n",
    "mbX1_settings : IdqTable = setting_service.get_parameter_settings_for_board('M1')\n",
    "print(mbX1_settings.name)\n",
    "print(setting_service.print_settings(mbX1_settings.name, False, False, 10))"
   ]
  },
  {
   "cell_type": "markdown",
   "id": "a8c686ba-7955-4ff3-9b17-dff417983353",
   "metadata": {},
   "source": [
    "Before saving the table, it is advisable to change the name of the table.  \n",
    "The default name is the board address.  \n",
    "The name of a table to be loaded later should therefore be different from this default value so that this table is not overwritten by the method executed above."
   ]
  },
  {
   "cell_type": "code",
   "execution_count": 4,
   "id": "b880a274-e5b3-4588-b385-645dab908fc0",
   "metadata": {},
   "outputs": [
    {
     "name": "stdout",
     "output_type": "stream",
     "text": [
      "M1_voltages_set\n",
      "['M1_voltages_set']\n"
     ]
    }
   ],
   "source": [
    "mbX1_settings.name = \"M1_voltages_set\"\n",
    "print(mbX1_settings.name)\n",
    "print(setting_service.get_parameter_settings_names())"
   ]
  },
  {
   "cell_type": "markdown",
   "id": "81cf3709-5dc3-4b51-9e1b-a7f270007b55",
   "metadata": {},
   "source": [
    "The table is now exported using the `export_settings_to_csv()` method. The three parameters of the method are self-explanatory.  \n",
    "The reason why `setting_names` is a list is that it is also possible to write several tables to one file.  \n",
    "In the example here, we only write the table just created to the file:"
   ]
  },
  {
   "cell_type": "code",
   "execution_count": 15,
   "id": "fab860ac-4ec8-45df-a1bc-41895926e3d8",
   "metadata": {},
   "outputs": [],
   "source": [
    "setting_service.export_settings_to_csv(file_path=os.path.join(os.path.abspath(\"\"),\n",
    "                                        mbX1_settings.name + \".csv\"), setting_names=['M1_voltages_set'],\n",
    "                                        append_to_file=False)"
   ]
  },
  {
   "cell_type": "markdown",
   "id": "8a7fb5e9-320b-40f7-80b8-e2f93fb3cf0e",
   "metadata": {},
   "source": [
    "The result looks like this:  \n",
    "![title](idqtable2.png)  "
   ]
  },
  {
   "cell_type": "markdown",
   "id": "675ef6ee-bccf-4321-bac5-68cc98cc8d46",
   "metadata": {},
   "source": [
    "### Filtering and applying sub-tables\n",
    "Previously, all entries in a table or group were always sent to the hardware.  \n",
    "But what if you only want to use certain entries?  \n",
    "There are various filter methods. You can then send only the filtered table to the hardware instead of the entire table.\n",
    "\n",
    "#### Row filter\n",
    "The parameters of the `filter_rows()` method are the column name, the value in this column and whether to search for whole words and not just substrings (exact_match).  \n",
    "To print the filtered version of a table, the second parameter in `the print_settings()` method is set to True."
   ]
  },
  {
   "cell_type": "code",
   "execution_count": 5,
   "id": "faba99ef-7120-4ed8-b4c2-7a38a6fc9661",
   "metadata": {},
   "outputs": [
    {
     "name": "stdout",
     "output_type": "stream",
     "text": [
      "Group name: SMU-Channel\n",
      "+-----------+------------+----------+-------+-------------+------------------+-----------+--------------+--------------+-----------------+\n",
      "| SettingId | HardwareId | Name     | Group | Type        | OutputForceValue | ForceMode | EnableOutput | CurrentRange | MeasurementMode |\n",
      "+-----------+------------+----------+-------+-------------+------------------+-----------+--------------+--------------+-----------------+\n",
      "| 0         | M1.S1.C2   | M1.S1.C2 | All   | SMU-Channel | 2,000000         | FV        | 0            | 70mA         | HighZ           |\n",
      "+-----------+------------+----------+-------+-------------+------------------+-----------+--------------+--------------+-----------------+\n",
      "\n",
      "\n"
     ]
    }
   ],
   "source": [
    "filtered_table = mbX1_settings.filter_rows(column_name='HardwareId', filter_value='M1.S1.C2', exact_match=False) \n",
    "print(setting_service.print_settings('M1_voltages_set', True, False, 10))"
   ]
  },
  {
   "cell_type": "markdown",
   "id": "8af8a878-b57c-4cda-8d89-691800769256",
   "metadata": {},
   "source": [
    "The pipe character (|) can be used to realise a logical ‘or’:"
   ]
  },
  {
   "cell_type": "code",
   "execution_count": 6,
   "id": "6da36cfd-46f4-4aac-8f15-05a6ab955cb3",
   "metadata": {},
   "outputs": [
    {
     "name": "stdout",
     "output_type": "stream",
     "text": [
      "Group name: SMU-Channel\n",
      "+-----------+------------+----------+-------+-------------+------------------+-----------+--------------+--------------+-----------------+\n",
      "| SettingId | HardwareId | Name     | Group | Type        | OutputForceValue | ForceMode | EnableOutput | CurrentRange | MeasurementMode |\n",
      "+-----------+------------+----------+-------+-------------+------------------+-----------+--------------+--------------+-----------------+\n",
      "| 0         | M1.S1.C2   | M1.S1.C2 | All   | SMU-Channel | 2,000000         | FV        | 0            | 70mA         | HighZ           |\n",
      "| 0         | M1.S1.C4   | M1.S1.C4 | All   | SMU-Channel | 4,000000         | FV        | 0            | 70mA         | HighZ           |\n",
      "+-----------+------------+----------+-------+-------------+------------------+-----------+--------------+--------------+-----------------+\n",
      "\n",
      "\n"
     ]
    }
   ],
   "source": [
    "filtered_table = mbX1_settings.filter_rows(column_name='HardwareId', filter_value='M1.S1.C2|M1.S1.C4', exact_match=False) \n",
    "print(setting_service.print_settings('M1_voltages_set', True, False, 10))"
   ]
  },
  {
   "cell_type": "markdown",
   "id": "b2a705f3-a420-4f60-8d22-e162a0617dc7",
   "metadata": {},
   "source": [
    "If the ‘filtered’ flag of the ‘apply_parameter_setting()’ method is set,  \n",
    "only the filtered version is written to the hardware instead of the entire table:"
   ]
  },
  {
   "cell_type": "code",
   "execution_count": 8,
   "id": "1a5cadf2-9640-4dd7-bbb0-d42b46211e3c",
   "metadata": {},
   "outputs": [
    {
     "data": {
      "text/plain": [
       "2"
      ]
     },
     "execution_count": 8,
     "metadata": {},
     "output_type": "execute_result"
    }
   ],
   "source": [
    "mbX1.idSmu2Modules['M1.S1'].smu.channels['M1.S1.C1'].voltage = 5\n",
    "mbX1.idSmu2Modules['M1.S1'].smu.channels['M1.S1.C2'].voltage = 5\n",
    "mbX1.idSmu2Modules['M1.S1'].smu.channels['M1.S1.C3'].voltage = 5\n",
    "mbX1.idSmu2Modules['M1.S1'].smu.channels['M1.S1.C4'].voltage = 5\n",
    "setting_service.apply_parameter_setting(setting_name='M1_voltages_set', board_address='M1', filtered=True, table_group_name='SMU-Channel')"
   ]
  },
  {
   "cell_type": "markdown",
   "id": "d8b4cefe-7c9f-4c67-9419-525b41659dcd",
   "metadata": {},
   "source": [
    "We export the status of the hardware to a new table. Now only the values of the filtered table should have been written.  \n",
    "The voltages of channels 1 and 3 were set to 5 volts. The remaining channels retain their values."
   ]
  },
  {
   "cell_type": "code",
   "execution_count": 9,
   "id": "71649121-693b-4772-8425-8ac43b060440",
   "metadata": {},
   "outputs": [
    {
     "name": "stdout",
     "output_type": "stream",
     "text": [
      "Group name: SMU-Channel\n",
      "+-----------+------------+----------+-------+-------------+------------------+-----------+--------------+--------------+-----------------+\n",
      "| SettingId | HardwareId | Name     | Group | Type        | OutputForceValue | ForceMode | EnableOutput | CurrentRange | MeasurementMode |\n",
      "+-----------+------------+----------+-------+-------------+------------------+-----------+--------------+--------------+-----------------+\n",
      "| 0         | M1.S1.C1   | M1.S1.C1 | All   | SMU-Channel | 5,000000         | FV        | 0            | 70mA         | HighZ           |\n",
      "| 0         | M1.S1.C2   | M1.S1.C2 | All   | SMU-Channel | 2,000000         | FV        | 0            | 70mA         | HighZ           |\n",
      "| 0         | M1.S1.C3   | M1.S1.C3 | All   | SMU-Channel | 5,000000         | FV        | 0            | 70mA         | HighZ           |\n",
      "| 0         | M1.S1.C4   | M1.S1.C4 | All   | SMU-Channel | 4,000000         | FV        | 0            | 70mA         | HighZ           |\n",
      "+-----------+------------+----------+-------+-------------+------------------+-----------+--------------+--------------+-----------------+\n",
      "\n",
      "Group name: SMU-Device\n",
      "+-----------+------------+-------+-------+------------+--------+---------------+\n",
      "| SettingId | HardwareId | Name  | Group | Type       | INT10K | ExternalPower |\n",
      "+-----------+------------+-------+-------+------------+--------+---------------+\n",
      "| 0         | M1.S1      | M1.S1 | All   | SMU-Device | 1      | 0             |\n",
      "+-----------+------------+-------+-------+------------+--------+---------------+\n",
      "\n",
      "\n"
     ]
    }
   ],
   "source": [
    "mbX1_settings : IdqTable = setting_service.get_parameter_settings_for_board('M1')\n",
    "print(setting_service.print_settings(mbX1_settings.name, False, False, 10))"
   ]
  },
  {
   "cell_type": "code",
   "execution_count": 10,
   "id": "076d7619-5844-4119-ab65-244883b6237c",
   "metadata": {
    "scrolled": true
   },
   "outputs": [],
   "source": [
    "srunner.shutdown()"
   ]
  }
 ],
 "metadata": {
  "kernelspec": {
   "display_name": "Python 3 (ipykernel)",
   "language": "python",
   "name": "python3"
  },
  "language_info": {
   "codemirror_mode": {
    "name": "ipython",
    "version": 3
   },
   "file_extension": ".py",
   "mimetype": "text/x-python",
   "name": "python",
   "nbconvert_exporter": "python",
   "pygments_lexer": "ipython3",
   "version": "3.9.13"
  }
 },
 "nbformat": 4,
 "nbformat_minor": 5
}
