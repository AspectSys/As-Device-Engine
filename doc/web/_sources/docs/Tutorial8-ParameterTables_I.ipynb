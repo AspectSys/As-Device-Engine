{
 "cells": [
  {
   "cell_type": "markdown",
   "id": "c91dc1a0-913f-418c-8490-339e69b657e0",
   "metadata": {},
   "source": [
    "# Getting startet with the Aspect Device Engine Python API 8a\n",
    "## Parameter tables I"
   ]
  },
  {
   "cell_type": "markdown",
   "id": "201fe7e4-eb1d-4fe9-bd80-018f6b01af0a",
   "metadata": {},
   "source": [
    "This is the 8th introductory overview of programming the Aspect Device Engine Python API.  \n",
    "This document is available as pdf and interactive jupyter notebook.\n",
    "The introduction includes the following objectives:    \n",
    "- How to load parameter setting tables\n",
    "- Inspecting the contents of a table\n",
    "- How to modify the parameters in the table\n",
    "- Sending the parameters of a table to the hardware\n",
    "  \n",
    "### Introduction\n",
    "There are two basic options for programming the idSMU hardware:  \n",
    "Firstly, by calling object methods or setting properties of the hardware models, as described in the previous chapters.  \n",
    "The second method is a tabular method.  \n",
    "Here, tables are used to hold the values of the hardware parameters. These can be modified and applied.  \n",
    "The tabular method is slower than the direct method calls. \n",
    "However, if performance is not the highest priority,   \n",
    "this method can be used to export the state of the hardware and apply it again later.  \n",
    "Instead of dozens of method calls, just one is then sufficient to set all parameters at once. "
   ]
  },
  {
   "cell_type": "code",
   "execution_count": 1,
   "id": "7aad04b5-9453-480e-a1b8-ad83f9b136da",
   "metadata": {},
   "outputs": [],
   "source": [
    "from aspectdeviceengine.enginecore import IdSmuService, IdSmuSettingsService, IdSmuServiceRunner, IdSmuBoardModel, IdSmuSettingsService\n",
    "from aspectdeviceengine.enginecore import IdSmuBoardModel, IdqTable, IdqTableGroup\n",
    "import plotly.graph_objects as go\n",
    "import pathlib,os\n",
    "import numpy as np\n",
    "srunner = IdSmuServiceRunner()\n",
    "mbX1 : IdSmuBoardModel = srunner.get_idsmu_service().get_first_board()"
   ]
  },
  {
   "cell_type": "markdown",
   "id": "ffb2ef55-9b39-41fb-8ddd-104a6462e94b",
   "metadata": {},
   "source": [
    "The `IdSmuSettingsService` class is used to load and apply tables:"
   ]
  },
  {
   "cell_type": "code",
   "execution_count": 39,
   "id": "1ad9615c-5636-465e-9117-fd1b463e55a7",
   "metadata": {},
   "outputs": [],
   "source": [
    "setting_service : IdSmuSettingsService = srunner.get_idsmu_service().get_settings_service()"
   ]
  },
  {
   "cell_type": "markdown",
   "id": "432eddea-16db-4ff1-b57f-3f018adc695a",
   "metadata": {},
   "source": [
    "### Import a table from csv\n",
    "The parameter tables, also known as setting tables, have a special format.   \n",
    "If you open one of the CSV files with such a table, it looks like this, for example:  \n",
    "![title](idqtable.png)  "
   ]
  },
  {
   "cell_type": "markdown",
   "id": "5f97dc38-fa17-4587-89ab-772b23008cf0",
   "metadata": {},
   "source": [
    "Firstly, the name of the table is given in square brackets [].  \n",
    "A table can consist of several groups. As the parameters for the idSMU device are different to the channel parameters,  \n",
    "the parameters are each in their own group with their own column headers. \n",
    "The table name is followed by the group name (#).  \n",
    "This is followed by the column header of the group and then the actual data.\n",
    "This is followed by the entries for the data type or, in the case of enumeration types, the valid values for this parameter.  \n",
    "These entries are automatically appended when exporting a table - the user does not have to worry about them.  \n",
    "A table can be loaded with the `import_settings_from_csv()` method of the SettingService:"
   ]
  },
  {
   "cell_type": "code",
   "execution_count": 6,
   "id": "b452aaf2-ca89-4500-8463-33a3a50f0253",
   "metadata": {},
   "outputs": [
    {
     "name": "stdout",
     "output_type": "stream",
     "text": [
      "['M1_test']\n",
      "Group name: SMU-Channel\n",
      "+-----------+------------+----------+-------+-------------+------------------+-----------+--------------+--------------+-----------------+\n",
      "| SettingId | HardwareId | Name     | Group | Type        | OutputForceValue | ForceMode | EnableOutput | CurrentRange | MeasurementMode |\n",
      "+-----------+------------+----------+-------+-------------+------------------+-----------+--------------+--------------+-----------------+\n",
      "| 0         | M1.S1.C1   | M1.S1.C1 | All   | SMU-Channel | 1                | FV        | 1            | 70mA         | HighZ           |\n",
      "| 0         | M1.S1.C2   | M1.S1.C2 | All   | SMU-Channel | 1                | FV        | 1            | 70mA         | HighZ           |\n",
      "| 0         | M1.S1.C3   | M1.S1.C3 | All   | SMU-Channel | 1                | FV        | 0            | 70mA         | HighZ           |\n",
      "| 0         | M1.S1.C4   | M1.S1.C4 | All   | SMU-Channel | 1                | FV        | 0            | 70mA         | HighZ           |\n",
      "+-----------+------------+----------+-------+-------------+------------------+-----------+--------------+--------------+-----------------+\n",
      "\n",
      "Group name: SMU-Device\n",
      "+-----------+------------+-------+-------+------------+--------+---------------+\n",
      "| SettingId | HardwareId | Name  | Group | Type       | INT10K | ExternalPower |\n",
      "+-----------+------------+-------+-------+------------+--------+---------------+\n",
      "| 0         | M1.S1      | M1.S1 | All   | SMU-Device | 1      | 0             |\n",
      "+-----------+------------+-------+-------+------------+--------+---------------+\n",
      "\n",
      "\n"
     ]
    }
   ],
   "source": [
    "setting_service.import_settings_from_csv(os.path.join(os.path.abspath(\"\"), \"setting_tables_m1.csv\" ))\n",
    "# List all parameter setting names\n",
    "print(setting_service.get_parameter_settings_names())\n",
    "# We only print 10 columns so that the output fits on the screen\n",
    "print(setting_service.print_settings('M1_test', False, False, 10))"
   ]
  },
  {
   "cell_type": "markdown",
   "id": "675ef6ee-bccf-4321-bac5-68cc98cc8d46",
   "metadata": {},
   "source": [
    "### Modification of table entries\n",
    "The entire table with its groups is managed by an actual table of the type `IdqTable`.  \n",
    "The `dqTableGroup` type represents a group."
   ]
  },
  {
   "cell_type": "code",
   "execution_count": 12,
   "id": "faba99ef-7120-4ed8-b4c2-7a38a6fc9661",
   "metadata": {},
   "outputs": [],
   "source": [
    "paratable : IdqTable = setting_service.get_parameter_setting('M1_test')\n",
    "group : IdqTableGroup = paratable.get_table_group('SMU-Channel')"
   ]
  },
  {
   "cell_type": "markdown",
   "id": "b2a705f3-a420-4f60-8d22-e162a0617dc7",
   "metadata": {},
   "source": [
    "To change a table entry, we need the row index and the column name of the cell.  \n",
    "The helper method `get_row_index()` is used to find the row index for a known entry in the table:"
   ]
  },
  {
   "cell_type": "code",
   "execution_count": 30,
   "id": "1a5cadf2-9640-4dd7-bbb0-d42b46211e3c",
   "metadata": {},
   "outputs": [
    {
     "name": "stdout",
     "output_type": "stream",
     "text": [
      "[0, 1]\n"
     ]
    }
   ],
   "source": [
    "row_idx = [group.get_row_index('HardwareId', 'M1.S1.C1'), group.get_row_index('HardwareId', 'M1.S1.C2')]\n",
    "print(row_idx)"
   ]
  },
  {
   "cell_type": "markdown",
   "id": "d8b4cefe-7c9f-4c67-9419-525b41659dcd",
   "metadata": {},
   "source": [
    "The *set_parameter_value()* method is now used to change a value in a table group.  \n",
    "All values in the table are of type string:"
   ]
  },
  {
   "cell_type": "code",
   "execution_count": 31,
   "id": "6914dac0-cfc2-4fc1-80fc-12bca87ab7ef",
   "metadata": {},
   "outputs": [
    {
     "name": "stdout",
     "output_type": "stream",
     "text": [
      "Group name: SMU-Channel\n",
      "+-----------+------------+----------+-------+-------------+------------------+-----------+--------------+--------------+-----------------+\n",
      "| SettingId | HardwareId | Name     | Group | Type        | OutputForceValue | ForceMode | EnableOutput | CurrentRange | MeasurementMode |\n",
      "+-----------+------------+----------+-------+-------------+------------------+-----------+--------------+--------------+-----------------+\n",
      "| 0         | M1.S1.C1   | M1.S1.C1 | All   | SMU-Channel | 5                | FV        | 1            | 70mA         | HighZ           |\n",
      "| 0         | M1.S1.C2   | M1.S1.C2 | All   | SMU-Channel | 6                | FV        | 1            | 70mA         | HighZ           |\n",
      "| 0         | M1.S1.C3   | M1.S1.C3 | All   | SMU-Channel | 1                | FV        | 0            | 70mA         | HighZ           |\n",
      "| 0         | M1.S1.C4   | M1.S1.C4 | All   | SMU-Channel | 1                | FV        | 0            | 70mA         | HighZ           |\n",
      "+-----------+------------+----------+-------+-------------+------------------+-----------+--------------+--------------+-----------------+\n",
      "\n",
      "Group name: SMU-Device\n",
      "+-----------+------------+-------+-------+------------+--------+---------------+\n",
      "| SettingId | HardwareId | Name  | Group | Type       | INT10K | ExternalPower |\n",
      "+-----------+------------+-------+-------+------------+--------+---------------+\n",
      "| 0         | M1.S1      | M1.S1 | All   | SMU-Device | 1      | 0             |\n",
      "+-----------+------------+-------+-------+------------+--------+---------------+\n",
      "\n",
      "\n"
     ]
    }
   ],
   "source": [
    "group.set_parameter_value(row_index=row_idx[0], parameter_name='OutputForceValue', parameter_value='5')\n",
    "group.set_parameter_value(row_index=row_idx[1], parameter_name='OutputForceValue', parameter_value='6')\n",
    "print(setting_service.print_settings('M1_test', False, False, 10))"
   ]
  },
  {
   "cell_type": "markdown",
   "id": "44746982-809f-477e-b176-60f15e4a5e06",
   "metadata": {},
   "source": [
    "### Writing the parameters\n",
    "The `apply_parameter_setting()` method can now be used to write the parameters of a group or the entire table to the hardware.  \n",
    "We then examine a few channel parameters:"
   ]
  },
  {
   "cell_type": "code",
   "execution_count": 23,
   "id": "44c91518-e5dc-4613-a23b-d865b4f5c07f",
   "metadata": {},
   "outputs": [
    {
     "name": "stdout",
     "output_type": "stream",
     "text": [
      "True\n",
      "4.998809814453125\n",
      "True\n",
      "5.999847412109375\n"
     ]
    }
   ],
   "source": [
    "setting_service.apply_parameter_setting(setting_name='M1_test', board_address='M1', filtered=False, table_group_name='SMU-Channel')\n",
    "print(mbX1.idSmu2Modules['M1.S1'].smu.channels['M1.S1.C1'].enabled)\n",
    "print(mbX1.idSmu2Modules['M1.S1'].smu.channels['M1.S1.C1'].voltage)\n",
    "print(mbX1.idSmu2Modules['M1.S1'].smu.channels['M1.S1.C2'].enabled)\n",
    "print(mbX1.idSmu2Modules['M1.S1'].smu.channels['M1.S1.C2'].voltage)"
   ]
  },
  {
   "cell_type": "code",
   "execution_count": 41,
   "id": "b3195bb1-9ae3-4108-9332-144947be4045",
   "metadata": {
    "scrolled": true
   },
   "outputs": [
    {
     "name": "stdout",
     "output_type": "stream",
     "text": [
      "Group name: SMU-Channel\n",
      "+-----------+------------+----------+-------+-------------+------------------+-----------+--------------+--------------+-----------------+\n",
      "| SettingId | HardwareId | Name     | Group | Type        | OutputForceValue | ForceMode | EnableOutput | CurrentRange | MeasurementMode |\n",
      "+-----------+------------+----------+-------+-------------+------------------+-----------+--------------+--------------+-----------------+\n",
      "| 0         | M1.S1.C1   | M1.S1.C1 | All   | SMU-Channel | 0                | FV        | 1            | 70mA         | HighZ           |\n",
      "| 0         | M1.S1.C2   | M1.S1.C2 | All   | SMU-Channel | 6                | FV        | 0            | 70mA         | HighZ           |\n",
      "| 0         | M1.S1.C3   | M1.S1.C3 | All   | SMU-Channel | 1                | FV        | 0            | 70mA         | HighZ           |\n",
      "| 0         | M1.S1.C4   | M1.S1.C4 | All   | SMU-Channel | 1                | FV        | 0            | 70mA         | HighZ           |\n",
      "+-----------+------------+----------+-------+-------------+------------------+-----------+--------------+--------------+-----------------+\n",
      "\n",
      "Group name: SMU-Device\n",
      "+-----------+------------+-------+-------+------------+--------+---------------+\n",
      "| SettingId | HardwareId | Name  | Group | Type       | INT10K | ExternalPower |\n",
      "+-----------+------------+-------+-------+------------+--------+---------------+\n",
      "| 0         | M1.S1      | M1.S1 | All   | SMU-Device | 1      | 0             |\n",
      "+-----------+------------+-------+-------+------------+--------+---------------+\n",
      "\n",
      "\n"
     ]
    },
    {
     "data": {
      "text/plain": [
       "4"
      ]
     },
     "execution_count": 41,
     "metadata": {},
     "output_type": "execute_result"
    }
   ],
   "source": [
    "group.at[row_idx[0], 'OutputForceValue'] = \"0\"\n",
    "group.at[row_idx[1], 'EnableOutput'] = \"0\"\n",
    "print(setting_service.print_settings('M1_test', False, False, 10))\n",
    "setting_service.apply_parameter_setting('M1_test', 'M1', False, 'SMU-Channel')"
   ]
  },
  {
   "cell_type": "code",
   "execution_count": 42,
   "id": "076d7619-5844-4119-ab65-244883b6237c",
   "metadata": {},
   "outputs": [],
   "source": [
    "srunner.shutdown()"
   ]
  }
 ],
 "metadata": {
  "kernelspec": {
   "display_name": "Python 3 (ipykernel)",
   "language": "python",
   "name": "python3"
  },
  "language_info": {
   "codemirror_mode": {
    "name": "ipython",
    "version": 3
   },
   "file_extension": ".py",
   "mimetype": "text/x-python",
   "name": "python",
   "nbconvert_exporter": "python",
   "pygments_lexer": "ipython3",
   "version": "3.9.13"
  }
 },
 "nbformat": 4,
 "nbformat_minor": 5
}
